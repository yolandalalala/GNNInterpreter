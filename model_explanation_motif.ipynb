{
 "cells": [
  {
   "cell_type": "code",
   "execution_count": 1,
   "id": "1a91b813",
   "metadata": {
    "ExecuteTime": {
     "end_time": "2023-10-27T07:13:55.198247Z",
     "start_time": "2023-10-27T07:13:55.159301Z"
    },
    "collapsed": false,
    "pycharm": {
     "name": "#%%\n"
    }
   },
   "outputs": [],
   "source": [
    "%load_ext autoreload\n",
    "%autoreload 2"
   ]
  },
  {
   "cell_type": "code",
   "execution_count": 2,
   "id": "c7f4188d",
   "metadata": {
    "ExecuteTime": {
     "end_time": "2023-10-27T08:17:52.843708Z",
     "start_time": "2023-10-27T08:17:52.783759Z"
    },
    "collapsed": false,
    "pycharm": {
     "name": "#%%\n"
    }
   },
   "outputs": [],
   "source": [
    "from gnninterpreter import *"
   ]
  },
  {
   "cell_type": "code",
   "execution_count": 3,
   "id": "2ab76fb3",
   "metadata": {
    "ExecuteTime": {
     "end_time": "2023-10-28T03:01:04.628665Z",
     "start_time": "2023-10-28T03:01:03.533577Z"
    },
    "collapsed": false,
    "pycharm": {
     "name": "#%%\n"
    }
   },
   "outputs": [],
   "source": [
    "import random\n",
    "from collections import defaultdict, namedtuple\n",
    "from itertools import combinations_with_replacement\n",
    "\n",
    "import numpy as np\n",
    "import pandas as pd\n",
    "import seaborn as sns\n",
    "import matplotlib.pyplot as plt\n",
    "import plotly.express as px\n",
    "\n",
    "from tqdm.auto import tqdm, trange\n",
    "\n",
    "import torch\n",
    "from torch import nn\n",
    "import torch_geometric as pyg\n",
    "from torchmetrics import F1Score"
   ]
  },
  {
   "cell_type": "markdown",
   "id": "395a07f1",
   "metadata": {},
   "source": [
    "# Motif"
   ]
  },
  {
   "cell_type": "code",
   "execution_count": 4,
   "id": "52747602",
   "metadata": {
    "ExecuteTime": {
     "end_time": "2023-10-27T08:21:50.777817Z",
     "start_time": "2023-10-27T08:20:12.393617Z"
    },
    "collapsed": false,
    "pycharm": {
     "name": "#%%\n"
    }
   },
   "outputs": [],
   "source": [
    "motif = MotifDataset(seed=12345)\n",
    "k_fold = 10\n",
    "train_data = motif[len(motif)//k_fold:]\n",
    "val_data = motif[:len(motif)//k_fold]\n",
    "train_loader = pyg.loader.DataLoader(train_data, batch_size=128, shuffle=True)\n",
    "val_loader = pyg.loader.DataLoader(val_data, batch_size=128, shuffle=False)"
   ]
  },
  {
   "cell_type": "code",
   "execution_count": 5,
   "id": "cc13aec4-3010-481b-89e1-dbc75b4ef012",
   "metadata": {
    "ExecuteTime": {
     "end_time": "2023-10-27T08:23:18.515651Z",
     "start_time": "2023-10-27T08:23:17.487784Z"
    }
   },
   "outputs": [
    {
     "data": {
      "text/plain": [
       "{'mean_n': 57.068510970427546,\n",
       " 'mean_m': 77.36094007458156,\n",
       " 'std_n': 25.639083000023053,\n",
       " 'std_m': 36.160709236674464}"
      ]
     },
     "execution_count": 5,
     "metadata": {},
     "output_type": "execute_result"
    }
   ],
   "source": [
    "motif.describe()"
   ]
  },
  {
   "cell_type": "markdown",
   "id": "c004f55d-eae8-44af-983e-8ecd3aa9115b",
   "metadata": {},
   "source": [
    "# Train Model"
   ]
  },
  {
   "cell_type": "code",
   "execution_count": 11,
   "id": "4c1617a4-666d-43de-8f0e-c5301b74375f",
   "metadata": {
    "ExecuteTime": {
     "end_time": "2023-10-27T08:24:32.393451Z",
     "start_time": "2023-10-27T08:24:31.377188Z"
    },
    "collapsed": false,
    "pycharm": {
     "name": "#%%\n"
    }
   },
   "outputs": [],
   "source": [
    "model = GCNClassifier(hidden_channels=64,\n",
    "                      node_features=len(motif.NODE_CLS),\n",
    "                      num_classes=len(motif.GRAPH_CLS),\n",
    "                      num_layers=3)"
   ]
  },
  {
   "cell_type": "code",
   "execution_count": 12,
   "id": "3e938a78-8975-41ee-8cad-bdb2cc711296",
   "metadata": {
    "ExecuteTime": {
     "end_time": "2023-10-27T08:24:34.855104Z",
     "start_time": "2023-10-27T08:24:34.771174Z"
    },
    "collapsed": false,
    "pycharm": {
     "name": "#%%\n"
    }
   },
   "outputs": [],
   "source": [
    "optimizer = torch.optim.AdamW(model.parameters(), lr=0.001)\n",
    "criterion = nn.CrossEntropyLoss()"
   ]
  },
  {
   "cell_type": "code",
   "execution_count": 13,
   "id": "7cc78d48-f44b-4775-9589-864611bed0c4",
   "metadata": {
    "ExecuteTime": {
     "end_time": "2023-10-27T08:24:38.478695Z",
     "start_time": "2023-10-27T08:24:38.402934Z"
    },
    "pycharm": {
     "name": "#%%\n"
    },
    "scrolled": true,
    "tags": []
   },
   "outputs": [],
   "source": [
    "def train():\n",
    "    model.train()\n",
    "    losses = []\n",
    "    for batch in tqdm(train_loader, position=1, leave=False, disable=True):\n",
    "        model.zero_grad()  # Clear gradients.\n",
    "        out = model(batch)  # Perform a single forward pass.\n",
    "        loss = criterion(out['logits'], batch.y)  # Compute the loss.\n",
    "        loss.backward()  # Derive gradients.\n",
    "        optimizer.step()  # Update parameters based on gradients.\n",
    "        losses.append(loss.item())\n",
    "    return np.mean(losses)\n",
    "\n",
    "@torch.no_grad()\n",
    "def test(loader):\n",
    "    f1 = F1Score(task=\"multiclass\", num_classes=len(motif.GRAPH_CLS), average=None)\n",
    "    model.eval()\n",
    "    for batch in tqdm(loader, position=1, leave=False, disable=True):\n",
    "        f1(model(batch)['logits'], batch.y)\n",
    "    return dict(zip(motif.GRAPH_CLS.values(), f1.compute().tolist()))\n",
    "\n",
    "@torch.no_grad()\n",
    "def gt_score():\n",
    "    batch = pyg.data.Batch.from_data_list([motif.motifs[1]])\n",
    "    neg, pos = model(batch).mean(dim=0).numpy()\n",
    "    return neg, pos"
   ]
  },
  {
   "cell_type": "code",
   "execution_count": 27,
   "id": "1eaf7202-9c73-4823-9ea0-7db524818c7d",
   "metadata": {
    "ExecuteTime": {
     "end_time": "2023-10-27T08:33:15.587977Z",
     "start_time": "2023-10-27T08:33:11.276220Z"
    },
    "pycharm": {
     "name": "#%%\n"
    },
    "scrolled": true,
    "tags": []
   },
   "outputs": [
    {
     "name": "stdout",
     "output_type": "stream",
     "text": [
      "Epoch: 000, Train Loss: 0.0162, Train Acc: {'partial': 0.9925030469894409, 'house': 0.9964841604232788, 'house_x': 0.9990205764770508, 'comp_4': 0.99700528383255, 'comp_5': 1.0}, Test Acc: {'partial': 0.9819819927215576, 'house': 0.9912663698196411, 'house_x': 0.9978308081626892, 'comp_4': 0.9937106966972351, 'comp_5': 1.0}, \n"
     ]
    }
   ],
   "source": [
    "for epoch in trange(1, position=0, leave=True, disable=True):\n",
    "    train_loss = train()\n",
    "    train_acc = test(train_loader)\n",
    "    test_acc = test(val_loader)\n",
    "    # neg, pos = gt_score()\n",
    "    print(\n",
    "        f'Epoch: {epoch:03d}, '\n",
    "        f'Train Loss: {train_loss:.4f}, '\n",
    "        f'Train Acc: {train_acc}, '\n",
    "        f'Test Acc: {test_acc}, '\n",
    "        # f'GT Pos Score: {pos:.4f}, '\n",
    "        # f'GT Neg Score: {neg:.4f}, '\n",
    "    )"
   ]
  },
  {
   "cell_type": "code",
   "execution_count": 14,
   "id": "3a8139b5-424e-484e-a567-b325f015ccaf",
   "metadata": {
    "ExecuteTime": {
     "end_time": "2023-10-27T08:33:19.917961Z",
     "start_time": "2023-10-27T08:33:19.801003Z"
    }
   },
   "outputs": [
    {
     "data": {
      "text/plain": [
       "<All keys matched successfully>"
      ]
     },
     "execution_count": 14,
     "metadata": {},
     "output_type": "execute_result"
    }
   ],
   "source": [
    "# torch.save(model.state_dict(), 'motif_gnn_64x3.pt')\n",
    "model.load_state_dict(torch.load('motif_gnn_64x3.pt'))"
   ]
  },
  {
   "cell_type": "code",
   "execution_count": 15,
   "id": "6645ce41-8d77-4945-a474-561843ee8109",
   "metadata": {
    "ExecuteTime": {
     "end_time": "2023-10-27T08:33:34.678891Z",
     "start_time": "2023-10-27T08:33:33.372468Z"
    }
   },
   "outputs": [
    {
     "data": {
      "text/plain": [
       "{'partial': 0.9925030469894409,\n",
       " 'house': 0.9964841604232788,\n",
       " 'house_x': 0.9990205764770508,\n",
       " 'comp_4': 0.99700528383255,\n",
       " 'comp_5': 1.0}"
      ]
     },
     "execution_count": 15,
     "metadata": {},
     "output_type": "execute_result"
    }
   ],
   "source": [
    "test(train_loader)"
   ]
  },
  {
   "cell_type": "code",
   "execution_count": 16,
   "id": "feee1f5b-d7e1-440c-bb6a-7fe4daf96956",
   "metadata": {
    "ExecuteTime": {
     "end_time": "2023-10-27T08:33:36.675005Z",
     "start_time": "2023-10-27T08:33:36.469251Z"
    }
   },
   "outputs": [
    {
     "data": {
      "text/plain": [
       "{'partial': 0.9819819927215576,\n",
       " 'house': 0.9912663698196411,\n",
       " 'house_x': 0.9978308081626892,\n",
       " 'comp_4': 0.9937106966972351,\n",
       " 'comp_5': 1.0}"
      ]
     },
     "execution_count": 16,
     "metadata": {},
     "output_type": "execute_result"
    }
   ],
   "source": [
    "test(val_loader)"
   ]
  },
  {
   "cell_type": "markdown",
   "id": "82f24dcd-c153-4c7c-8005-cca6c59b39ef",
   "metadata": {},
   "source": [
    "# Generate Average Embedding"
   ]
  },
  {
   "cell_type": "code",
   "execution_count": 17,
   "id": "d4a27bdf-0586-4652-9989-53b8257bb2e9",
   "metadata": {
    "ExecuteTime": {
     "end_time": "2023-10-27T08:33:56.841881Z",
     "start_time": "2023-10-27T08:33:45.605389Z"
    }
   },
   "outputs": [
    {
     "data": {
      "application/vnd.jupyter.widget-view+json": {
       "model_id": "6b9344fb5cef46298ba533a828836d13",
       "version_major": 2,
       "version_minor": 0
      },
      "text/plain": [
       "  0%|          | 0/11531 [00:00<?, ?it/s]"
      ]
     },
     "metadata": {},
     "output_type": "display_data"
    }
   ],
   "source": [
    "embeds = [[] for _ in range(len(motif.GRAPH_CLS))]\n",
    "with torch.no_grad():\n",
    "    for data in tqdm(motif):\n",
    "        embeds[data.y.item()].append(model.eval()(pyg.data.Batch.from_data_list([data]))[\"embeds\"].numpy())\n",
    "mean_embeds = [torch.tensor(np.concatenate(e).mean(axis=0)) for e in embeds]"
   ]
  },
  {
   "cell_type": "code",
   "execution_count": 18,
   "id": "2c966c81e3166b9e",
   "metadata": {
    "ExecuteTime": {
     "end_time": "2023-10-27T08:49:27.189116Z",
     "start_time": "2023-10-27T08:49:26.179340Z"
    },
    "collapsed": false
   },
   "outputs": [],
   "source": [
    "trainer = {}\n",
    "sampler = {}"
   ]
  },
  {
   "cell_type": "markdown",
   "id": "383c9c7a23eb249f",
   "metadata": {
    "collapsed": false
   },
   "source": [
    "# 1"
   ]
  },
  {
   "cell_type": "code",
   "execution_count": 19,
   "id": "20c1d36b425af72d",
   "metadata": {
    "ExecuteTime": {
     "end_time": "2023-10-27T08:49:59.061776Z",
     "start_time": "2023-10-27T08:49:57.977834Z"
    },
    "collapsed": false
   },
   "outputs": [],
   "source": [
    "classes = 1\n",
    "sampler[classes] = s = GraphSampler(max_nodes=20,\n",
    "                                    num_node_cls=len(motif.NODE_CLS),\n",
    "                                    temperature=0.15,\n",
    "                                    learn_node_feat=True)\n",
    "\n",
    "criterion = nn.Sequential(\n",
    "    WeightedCriterion([\n",
    "        # dict(key=\"logits\", criterion=ClassScoreCriterion(class_idx=0), mode=\"maximize\", weight=0.5),\n",
    "        dict(key=\"logits\", criterion=ClassScoreCriterion(class_idx=1), mode=\"maximize\", weight=1),\n",
    "        # dict(key=\"logits\", criterion=ClassScoreCriterion(class_idx=2), mode=\"maximize\", weight=-0.5),\n",
    "        # dict(key=\"logits\", criterion=ClassScoreCriterion(class_idx=3), mode=\"maximize\", weight=-0.5),\n",
    "        # dict(key=\"logits\", criterion=CrossEntropyBoundaryCriterion(class_a=0, class_b=1), weight=1),\n",
    "        # dict(key=\"logits\", criterion=MeanSquareBoundaryCriterion(class_a=0, class_b=1), weight=1),\n",
    "        # dict(key=\"logits\", criterion=DynamicBalancingCriterion(classes=classes), weight=5),\n",
    "        # dict(key=\"embeds\", criterion=EmbeddingCriterion(target_embedding=mean_embeds[classes[0]]), weight=10),\n",
    "        dict(key=\"embeds\", criterion=EmbeddingCriterion(target_embedding=mean_embeds[1]), weight=1),\n",
    "    ]),\n",
    "    NormPenalty(lambda: s.omega, order=1, weight=1), # L1 penalty on omega, encourage uncertainty\n",
    "    NormPenalty(lambda: s.omega, order=2, weight=1), # L2 penalty on omega, avoid extreme probabilities\n",
    "    NormPenalty(lambda: s.xi, order=1, weight=0), # L1 penalty on xi\n",
    "    NormPenalty(lambda: s.xi, order=2, weight=0), # L2 penalty on xi\n",
    "    budget := BudgetPenalty(lambda: s.theta, budget=10, order=2, beta=0.5, weight=1), # Budget penalty on theta, encourage sparsity\n",
    "    CrossEntropyPenalty(lambda: s.theta, weight=0), # Element-wise entropy penalty on theta, encourage discreteness\n",
    "    KLDivergencePenalty(lambda: tuple(s.theta_pairs), binary=True, weight=0), # Pair-wise cross entropy on E, encourage connectivity\n",
    ")\n",
    "optimizer = torch.optim.SGD(s.parameters(), lr=1)\n",
    "scheduler = torch.optim.lr_scheduler.ExponentialLR(optimizer, gamma=1)\n",
    "\n",
    "# construct graph sampler trainer\n",
    "trainer[classes] = Trainer(sampler=s,\n",
    "                  discriminator=model,\n",
    "                  criterion=criterion,\n",
    "                  optimizer=optimizer,\n",
    "                  scheduler=scheduler,\n",
    "                  dataset=motif,\n",
    "                  k_samples=16)"
   ]
  },
  {
   "cell_type": "code",
   "execution_count": 20,
   "id": "91b8c45bb38b58e",
   "metadata": {
    "ExecuteTime": {
     "end_time": "2023-10-27T08:51:07.679490Z",
     "start_time": "2023-10-27T08:51:06.607765Z"
    },
    "collapsed": false
   },
   "outputs": [],
   "source": [
    "def penalty_cond(out, trainer, boundary_cls=classes):\n",
    "    return out[\"probs\"][0, classes].item() > 0.9\n"
   ]
  },
  {
   "cell_type": "code",
   "execution_count": 21,
   "id": "bc959668d833b3b6",
   "metadata": {
    "ExecuteTime": {
     "end_time": "2023-10-27T08:51:31.872349Z",
     "start_time": "2023-10-27T08:51:31.699003Z"
    },
    "collapsed": false
   },
   "outputs": [],
   "source": [
    "def break_cond(out, trainer, boundary_cls=classes):\n",
    "    return all([\n",
    "        penalty_cond(out, trainer, boundary_cls),\n",
    "        trainer.sampler.expected_m < 15\n",
    "    ])"
   ]
  },
  {
   "cell_type": "code",
   "execution_count": 22,
   "id": "4c0bd9796d611c52",
   "metadata": {
    "ExecuteTime": {
     "end_time": "2023-10-27T08:52:33.635602Z",
     "start_time": "2023-10-27T08:52:27.876075Z"
    },
    "collapsed": false
   },
   "outputs": [
    {
     "data": {
      "application/vnd.jupyter.widget-view+json": {
       "model_id": "918339c6cf3a46c6aa2866651d7ddbed",
       "version_major": 2,
       "version_minor": 0
      },
      "text/plain": [
       "  0%|          | 0/2000 [00:00<?, ?it/s]"
      ]
     },
     "metadata": {},
     "output_type": "display_data"
    },
    {
     "data": {
      "text/plain": [
       "True"
      ]
     },
     "execution_count": 22,
     "metadata": {},
     "output_type": "execute_result"
    }
   ],
   "source": [
    "trainer[1].train(2000, dynamic_penalty=budget, penalty_cond=penalty_cond, break_cond=break_cond)"
   ]
  },
  {
   "cell_type": "code",
   "execution_count": 23,
   "id": "7b268b4019492234",
   "metadata": {
    "ExecuteTime": {
     "end_time": "2023-10-28T03:01:13.035005Z",
     "start_time": "2023-10-28T03:01:12.860818Z"
    },
    "collapsed": false
   },
   "outputs": [
    {
     "name": "stdout",
     "output_type": "stream",
     "text": [
      "n=14 m=15\n",
      "logits=[8.010212898254395, 12.983661651611328, -16.276866912841797, -20.305919647216797, -21.189367294311523]\n",
      "probs=[0.006871697027236223, 0.9931282997131348, 1.9467907104095405e-13, 3.4635693903326166e-15, 1.4316876982176877e-15]\n"
     ]
    },
    {
     "data": {
      "image/png": "[encoded data removed]",
      "text/plain": [
       "<Figure size 600x600 with 1 Axes>"
      ]
     },
     "metadata": {},
     "output_type": "display_data"
    }
   ],
   "source": [
    "G = trainer[classes].evaluate(threshold=0.5, show=True)\n",
    "plt.show()"
   ]
  },
  {
   "cell_type": "markdown",
   "id": "4f4d3ddd-9bb6-456c-9a68-5a3edd019e6e",
   "metadata": {},
   "source": [
    "# 2"
   ]
  },
  {
   "cell_type": "code",
   "execution_count": 45,
   "id": "a71e2ec8-f880-401d-9b89-0f7235d02c3f",
   "metadata": {
    "ExecuteTime": {
     "end_time": "2023-10-28T04:31:40.266617Z",
     "start_time": "2023-10-28T04:31:39.891668Z"
    }
   },
   "outputs": [],
   "source": [
    "classes = 2\n",
    "sampler[classes] = s = GraphSampler(max_nodes=20,\n",
    "                                    num_node_cls=len(motif.NODE_CLS),\n",
    "                                    temperature=0.15,\n",
    "                                    learn_node_feat=True)\n",
    "\n",
    "criterion = nn.Sequential(\n",
    "    WeightedCriterion([\n",
    "        dict(key=\"logits\", criterion=ClassScoreCriterion(class_idx=classes), mode=\"maximize\", weight=1),\n",
    "        # dict(key=\"logits\", criterion=CrossEntropyBoundaryCriterion(class_a=0, class_b=1), weight=1),\n",
    "        # dict(key=\"logits\", criterion=MeanSquareBoundaryCriterion(class_a=0, class_b=1), weight=1),\n",
    "        # dict(key=\"logits\", criterion=DynamicBalancingCriterion(classes=[classes]), weight=1),\n",
    "        # dict(key=\"embeds\", criterion=EmbeddingCriterion(target_embedding=mean_embeds[classes[0]]), weight=10),\n",
    "        dict(key=\"embeds\", criterion=EmbeddingCriterion(target_embedding=mean_embeds[classes]), weight=5),\n",
    "    ]),\n",
    "    NormPenalty(lambda: s.omega, order=1, weight=1), # L1 penalty on omega, encourage uncertainty\n",
    "    NormPenalty(lambda: s.omega, order=2, weight=1), # L2 penalty on omega, avoid extreme probabilities\n",
    "    NormPenalty(lambda: s.xi, order=1, weight=0), # L1 penalty on xi\n",
    "    NormPenalty(lambda: s.xi, order=2, weight=0), # L2 penalty on xi\n",
    "    budget := BudgetPenalty(lambda: s.theta, budget=10, order=2, beta=0.5, weight=1), # Budget penalty on theta, encourage sparsity\n",
    "    CrossEntropyPenalty(lambda: s.theta, weight=0), # Element-wise entropy penalty on theta, encourage discreteness\n",
    "    KLDivergencePenalty(lambda: tuple(s.theta_pairs), binary=True, weight=0), # Pair-wise cross entropy on E, encourage connectivity\n",
    ")\n",
    "optimizer = torch.optim.SGD(s.parameters(), lr=1)\n",
    "scheduler = torch.optim.lr_scheduler.ExponentialLR(optimizer, gamma=1)\n",
    "\n",
    "# construct graph sampler trainer\n",
    "trainer[classes] = Trainer(sampler=s,\n",
    "                           discriminator=model,\n",
    "                           criterion=criterion,\n",
    "                           optimizer=optimizer,\n",
    "                           scheduler=scheduler,\n",
    "                           dataset=motif,\n",
    "                           k_samples=16)"
   ]
  },
  {
   "cell_type": "code",
   "execution_count": 46,
   "id": "cee8d978ff9fc2ee",
   "metadata": {
    "ExecuteTime": {
     "end_time": "2023-10-28T04:31:41.952221Z",
     "start_time": "2023-10-28T04:31:41.795074Z"
    },
    "collapsed": false
   },
   "outputs": [],
   "source": [
    "def penalty_cond(out, trainer, boundary_cls=classes):\n",
    "    return out[\"probs\"][0, classes].item() > 0.9\n"
   ]
  },
  {
   "cell_type": "code",
   "execution_count": 47,
   "id": "c1750f1b40d1d86b",
   "metadata": {
    "ExecuteTime": {
     "end_time": "2023-10-28T04:31:42.832475Z",
     "start_time": "2023-10-28T04:31:42.766022Z"
    },
    "collapsed": false
   },
   "outputs": [],
   "source": [
    "def break_cond(out, trainer, boundary_cls=classes):\n",
    "    return all([\n",
    "        penalty_cond(out, trainer, boundary_cls),\n",
    "        trainer.sampler.expected_m < 15\n",
    "    ])"
   ]
  },
  {
   "cell_type": "code",
   "execution_count": 48,
   "id": "dcc3278f-a073-42e2-b446-0115025e391f",
   "metadata": {
    "ExecuteTime": {
     "end_time": "2023-10-28T04:32:09.393978Z",
     "start_time": "2023-10-28T04:31:43.606353Z"
    }
   },
   "outputs": [
    {
     "data": {
      "application/vnd.jupyter.widget-view+json": {
       "model_id": "a32c0eda1fce4d129c1095fe53372d30",
       "version_major": 2,
       "version_minor": 0
      },
      "text/plain": [
       "  0%|          | 0/2000 [00:00<?, ?it/s]"
      ]
     },
     "metadata": {},
     "output_type": "display_data"
    },
    {
     "data": {
      "text/plain": [
       "True"
      ]
     },
     "execution_count": 48,
     "metadata": {},
     "output_type": "execute_result"
    }
   ],
   "source": [
    "trainer[2].train(2000, dynamic_penalty=budget, penalty_cond=penalty_cond, break_cond=break_cond)"
   ]
  },
  {
   "cell_type": "code",
   "execution_count": 49,
   "id": "10896fc3a8e2ea3d",
   "metadata": {
    "ExecuteTime": {
     "end_time": "2023-10-28T03:04:15.787573Z",
     "start_time": "2023-10-28T03:04:14.733183Z"
    },
    "collapsed": false
   },
   "outputs": [
    {
     "name": "stdout",
     "output_type": "stream",
     "text": [
      "n=11 m=14\n",
      "logits=[10.12785816192627, -28.11570930480957, 18.187055587768555, -9.166486740112305, -14.25048542022705]\n",
      "probs=[0.00031608054996468127, 7.777274096052175e-21, 0.9996839761734009, 1.3193810193684596e-12, 8.173672276393183e-15]\n"
     ]
    },
    {
     "data": {
      "image/png": "[encoded data removed]",
      "text/plain": [
       "<Figure size 600x600 with 1 Axes>"
      ]
     },
     "metadata": {},
     "output_type": "display_data"
    },
    {
     "data": {
      "text/plain": [
       "<networkx.classes.graph.Graph at 0x2df2c8280>"
      ]
     },
     "execution_count": 49,
     "metadata": {},
     "output_type": "execute_result"
    }
   ],
   "source": [
    "trainer[2].evaluate(threshold=0.5, show=True)"
   ]
  },
  {
   "cell_type": "code",
   "execution_count": 131,
   "id": "b7c7549821169ebf",
   "metadata": {
    "ExecuteTime": {
     "end_time": "2023-08-25T13:26:52.236975Z",
     "start_time": "2023-08-25T13:26:52.119944Z"
    },
    "collapsed": false
   },
   "outputs": [
    {
     "name": "stdout",
     "output_type": "stream",
     "text": [
      "n=20 m=40\n",
      "logits=[-10.088390350341797, 9.188565254211426, 10.531853675842285, -22.014690399169922]\n",
      "probs=[8.79087080907226e-10, 0.20696978271007538, 0.7930301427841187, 5.8144089620326776e-15]\n"
     ]
    },
    {
     "data": {
      "text/plain": [
       "<networkx.classes.graph.Graph at 0x2cf71b430>"
      ]
     },
     "execution_count": 131,
     "metadata": {},
     "output_type": "execute_result"
    },
    {
     "data": {
      "image/png": "[encoded data removed]",
      "text/plain": [
       "<Figure size 600x600 with 1 Axes>"
      ]
     },
     "metadata": {},
     "output_type": "display_data"
    }
   ],
   "source": [
    "trainer[1, 2].evaluate(bernoulli=True, show=True)"
   ]
  },
  {
   "cell_type": "markdown",
   "id": "750dd3e232b9e135",
   "metadata": {
    "collapsed": false
   },
   "source": [
    "# 3"
   ]
  },
  {
   "cell_type": "code",
   "execution_count": 51,
   "id": "38479a3c-3acf-40e4-bc4a-44c9befdf62b",
   "metadata": {
    "ExecuteTime": {
     "end_time": "2023-08-04T00:34:43.392512Z",
     "start_time": "2023-08-04T00:34:43.305934Z"
    },
    "collapsed": false,
    "pycharm": {
     "name": "#%%\n"
    }
   },
   "outputs": [],
   "source": [
    "classes = 3\n",
    "sampler[classes] = s = GraphSampler(max_nodes=20,\n",
    "                                    num_node_cls=len(motif.NODE_CLS),\n",
    "                                    temperature=0.15,\n",
    "                                    learn_node_feat=True)\n",
    "\n",
    "criterion = nn.Sequential(\n",
    "    WeightedCriterion([\n",
    "        dict(key=\"logits\", criterion=ClassScoreCriterion(class_idx=classes), mode=\"maximize\", weight=1),\n",
    "        # dict(key=\"logits\", criterion=CrossEntropyBoundaryCriterion(class_a=0, class_b=1), weight=1),\n",
    "        # dict(key=\"logits\", criterion=MeanSquareBoundaryCriterion(class_a=0, class_b=1), weight=1),\n",
    "        # dict(key=\"logits\", criterion=DynamicBalancingCriterion(classes=[classes]), weight=1),\n",
    "        # dict(key=\"embeds\", criterion=EmbeddingCriterion(target_embedding=mean_embeds[classes[0]]), weight=10),\n",
    "        dict(key=\"embeds\", criterion=EmbeddingCriterion(target_embedding=mean_embeds[classes]), weight=5),\n",
    "    ]),\n",
    "    NormPenalty(lambda: s.omega, order=1, weight=1), # L1 penalty on omega, encourage uncertainty\n",
    "    NormPenalty(lambda: s.omega, order=2, weight=1), # L2 penalty on omega, avoid extreme probabilities\n",
    "    NormPenalty(lambda: s.xi, order=1, weight=0), # L1 penalty on xi\n",
    "    NormPenalty(lambda: s.xi, order=2, weight=0), # L2 penalty on xi\n",
    "    budget := BudgetPenalty(lambda: s.theta, budget=10, order=2, beta=0.5, weight=1), # Budget penalty on theta, encourage sparsity\n",
    "    CrossEntropyPenalty(lambda: s.theta, weight=0), # Element-wise entropy penalty on theta, encourage discreteness\n",
    "    KLDivergencePenalty(lambda: tuple(s.theta_pairs), binary=True, weight=0), # Pair-wise cross entropy on E, encourage connectivity\n",
    ")\n",
    "optimizer = torch.optim.SGD(s.parameters(), lr=1)\n",
    "scheduler = torch.optim.lr_scheduler.ExponentialLR(optimizer, gamma=1)\n",
    "\n",
    "# construct graph sampler trainer\n",
    "trainer[classes] = Trainer(sampler=s,\n",
    "                           discriminator=model,\n",
    "                           criterion=criterion,\n",
    "                           optimizer=optimizer,\n",
    "                           scheduler=scheduler,\n",
    "                           dataset=motif,\n",
    "                           k_samples=16)"
   ]
  },
  {
   "cell_type": "code",
   "execution_count": 52,
   "id": "5861e9b3266ebd02",
   "metadata": {
    "ExecuteTime": {
     "end_time": "2023-08-04T00:34:44.566198Z",
     "start_time": "2023-08-04T00:34:44.470230Z"
    },
    "collapsed": false
   },
   "outputs": [],
   "source": [
    "def penalty_cond(out, trainer, boundary_cls=classes):\n",
    "    return out[\"probs\"][0, classes].item() > 0.9\n",
    "    \n",
    "def break_cond(out, trainer, boundary_cls=classes):\n",
    "    return all([\n",
    "        penalty_cond(out, trainer, boundary_cls),\n",
    "        trainer.sampler.expected_m < 15\n",
    "    ])"
   ]
  },
  {
   "cell_type": "code",
   "execution_count": 54,
   "id": "0cff7d90-c4be-44ac-ba36-25dc028640b7",
   "metadata": {
    "ExecuteTime": {
     "end_time": "2023-08-04T00:35:03.170779Z",
     "start_time": "2023-08-04T00:34:45.773656Z"
    },
    "collapsed": false,
    "pycharm": {
     "name": "#%%\n"
    },
    "scrolled": true,
    "tags": []
   },
   "outputs": [
    {
     "data": {
      "application/vnd.jupyter.widget-view+json": {
       "model_id": "7341d8f9212c486582a9e246d7ae22ac",
       "version_major": 2,
       "version_minor": 0
      },
      "text/plain": [
       "  0%|          | 0/2000 [00:00<?, ?it/s]"
      ]
     },
     "metadata": {},
     "output_type": "display_data"
    },
    {
     "data": {
      "text/plain": [
       "True"
      ]
     },
     "execution_count": 54,
     "metadata": {},
     "output_type": "execute_result"
    }
   ],
   "source": [
    "trainer[3].train(2000, dynamic_penalty=budget, penalty_cond=penalty_cond, break_cond=break_cond)"
   ]
  },
  {
   "cell_type": "code",
   "execution_count": 55,
   "id": "3ea01e28-f2a1-486b-ad1d-49b8513524dd",
   "metadata": {
    "ExecuteTime": {
     "end_time": "2023-08-04T00:35:03.307578Z",
     "start_time": "2023-08-04T00:35:03.168955Z"
    },
    "collapsed": false,
    "pycharm": {
     "name": "#%%\n"
    },
    "scrolled": true,
    "tags": []
   },
   "outputs": [
    {
     "name": "stdout",
     "output_type": "stream",
     "text": [
      "n=13 m=15\n",
      "logits=[16.50334358215332, -41.19040298461914, -16.474313735961914, 21.241636276245117, -41.53955841064453]\n",
      "probs=[0.008677618578076363, 7.6265058757010564e-28, 4.134147454633056e-17, 0.99132239818573, 5.378828148874545e-28]\n"
     ]
    },
    {
     "data": {
      "image/png": "[encoded data removed]",
      "text/plain": [
       "<Figure size 600x600 with 1 Axes>"
      ]
     },
     "metadata": {},
     "output_type": "display_data"
    },
    {
     "data": {
      "text/plain": [
       "<networkx.classes.graph.Graph at 0x2ded8f850>"
      ]
     },
     "execution_count": 55,
     "metadata": {},
     "output_type": "execute_result"
    }
   ],
   "source": [
    "trainer[3].evaluate(threshold=0.5, show=True)"
   ]
  },
  {
   "cell_type": "code",
   "execution_count": 56,
   "id": "d7aff8a8-e5b5-41a7-bf8b-094702fb1ab8",
   "metadata": {
    "ExecuteTime": {
     "end_time": "2023-08-04T00:35:03.444804Z",
     "start_time": "2023-08-04T00:35:03.291911Z"
    }
   },
   "outputs": [
    {
     "name": "stdout",
     "output_type": "stream",
     "text": [
      "n=13 m=15\n",
      "logits=[16.50334358215332, -41.19040298461914, -16.474313735961914, 21.241636276245117, -41.53955841064453]\n",
      "probs=[0.008677618578076363, 7.6265058757010564e-28, 4.134147454633056e-17, 0.99132239818573, 5.378828148874545e-28]\n"
     ]
    },
    {
     "data": {
      "image/png": "[encoded data removed]",
      "text/plain": [
       "<Figure size 600x600 with 1 Axes>"
      ]
     },
     "metadata": {},
     "output_type": "display_data"
    },
    {
     "data": {
      "text/plain": [
       "<networkx.classes.graph.Graph at 0x2ded6ff10>"
      ]
     },
     "execution_count": 56,
     "metadata": {},
     "output_type": "execute_result"
    }
   ],
   "source": [
    "trainer[3].evaluate(bernoulli=True, show=True)"
   ]
  },
  {
   "cell_type": "markdown",
   "id": "4231e600719d448c",
   "metadata": {
    "collapsed": false
   },
   "source": [
    "# 4"
   ]
  },
  {
   "cell_type": "code",
   "execution_count": 68,
   "id": "62f1eb98-2339-4cfc-95d9-de63ed49c176",
   "metadata": {
    "ExecuteTime": {
     "end_time": "2023-08-04T00:35:35.716919Z",
     "start_time": "2023-08-04T00:35:35.652705Z"
    }
   },
   "outputs": [],
   "source": [
    "classes = 4\n",
    "sampler[classes] = s = GraphSampler(max_nodes=20,\n",
    "                                    num_node_cls=len(motif.NODE_CLS),\n",
    "                                    temperature=0.15,\n",
    "                                    learn_node_feat=True)\n",
    "\n",
    "criterion = nn.Sequential(\n",
    "    WeightedCriterion([\n",
    "        dict(key=\"logits\", criterion=ClassScoreCriterion(class_idx=classes), mode=\"maximize\", weight=1),\n",
    "        # dict(key=\"logits\", criterion=CrossEntropyBoundaryCriterion(class_a=0, class_b=1), weight=1),\n",
    "        # dict(key=\"logits\", criterion=MeanSquareBoundaryCriterion(class_a=0, class_b=1), weight=1),\n",
    "        # dict(key=\"logits\", criterion=DynamicBalancingCriterion(classes=[classes]), weight=1),\n",
    "        # dict(key=\"embeds\", criterion=EmbeddingCriterion(target_embedding=mean_embeds[classes[0]]), weight=10),\n",
    "        dict(key=\"embeds\", criterion=EmbeddingCriterion(target_embedding=mean_embeds[classes]), weight=5),\n",
    "    ]),\n",
    "    NormPenalty(lambda: s.omega, order=1, weight=1), # L1 penalty on omega, encourage uncertainty\n",
    "    NormPenalty(lambda: s.omega, order=2, weight=1), # L2 penalty on omega, avoid extreme probabilities\n",
    "    NormPenalty(lambda: s.xi, order=1, weight=0), # L1 penalty on xi\n",
    "    NormPenalty(lambda: s.xi, order=2, weight=0), # L2 penalty on xi\n",
    "    budget := BudgetPenalty(lambda: s.theta, budget=10, order=2, beta=0.5, weight=1), # Budget penalty on theta, encourage sparsity\n",
    "    CrossEntropyPenalty(lambda: s.theta, weight=0), # Element-wise entropy penalty on theta, encourage discreteness\n",
    "    KLDivergencePenalty(lambda: tuple(s.theta_pairs), binary=True, weight=0), # Pair-wise cross entropy on E, encourage connectivity\n",
    ")\n",
    "optimizer = torch.optim.SGD(s.parameters(), lr=1)\n",
    "scheduler = torch.optim.lr_scheduler.ExponentialLR(optimizer, gamma=1)\n",
    "\n",
    "# construct graph sampler trainer\n",
    "trainer[classes] = Trainer(sampler=s,\n",
    "                           discriminator=model,\n",
    "                           criterion=criterion,\n",
    "                           optimizer=optimizer,\n",
    "                           scheduler=scheduler,\n",
    "                           dataset=motif,\n",
    "                           k_samples=16)"
   ]
  },
  {
   "cell_type": "code",
   "execution_count": 69,
   "id": "54eacd62452ea329",
   "metadata": {
    "ExecuteTime": {
     "end_time": "2023-08-04T00:35:36.558501Z",
     "start_time": "2023-08-04T00:35:36.489048Z"
    },
    "collapsed": false
   },
   "outputs": [],
   "source": [
    "def penalty_cond(out, trainer, boundary_cls=classes):\n",
    "    return out[\"probs\"][0, classes].item() > 0.9\n",
    "    \n",
    "def break_cond(out, trainer, boundary_cls=classes):\n",
    "    return all([\n",
    "        penalty_cond(out, trainer, boundary_cls),\n",
    "        trainer.sampler.expected_m < 15\n",
    "    ])"
   ]
  },
  {
   "cell_type": "code",
   "execution_count": 70,
   "id": "72731ad9-26f5-4229-ab91-f1742e3eddf3",
   "metadata": {
    "ExecuteTime": {
     "end_time": "2023-08-04T00:35:59.162927Z",
     "start_time": "2023-08-04T00:35:38.738701Z"
    }
   },
   "outputs": [
    {
     "data": {
      "application/vnd.jupyter.widget-view+json": {
       "model_id": "79844c18863942ddbe917b06fb3da567",
       "version_major": 2,
       "version_minor": 0
      },
      "text/plain": [
       "  0%|          | 0/5000 [00:00<?, ?it/s]"
      ]
     },
     "metadata": {},
     "output_type": "display_data"
    },
    {
     "data": {
      "text/plain": [
       "True"
      ]
     },
     "execution_count": 70,
     "metadata": {},
     "output_type": "execute_result"
    }
   ],
   "source": [
    "trainer[4].train(5000, dynamic_penalty=budget, penalty_cond=penalty_cond, break_cond=break_cond)"
   ]
  },
  {
   "cell_type": "code",
   "execution_count": 71,
   "id": "15eeaee56eb748d7",
   "metadata": {
    "ExecuteTime": {
     "end_time": "2023-08-04T00:35:59.279739Z",
     "start_time": "2023-08-04T00:35:59.160821Z"
    },
    "collapsed": false
   },
   "outputs": [
    {
     "name": "stdout",
     "output_type": "stream",
     "text": [
      "n=10 m=14\n",
      "logits=[20.852563858032227, -40.37002944946289, -12.6128568649292, -44.95913314819336, 29.786319732666016]\n",
      "probs=[0.00013184444105718285, 3.3995969008549225e-31, 3.8566825601311526e-19, 3.454657408895744e-33, 0.9998681545257568]\n"
     ]
    },
    {
     "data": {
      "image/png": "[encoded data removed]",
      "text/plain": [
       "<Figure size 600x600 with 1 Axes>"
      ]
     },
     "metadata": {},
     "output_type": "display_data"
    },
    {
     "data": {
      "text/plain": [
       "<networkx.classes.graph.Graph at 0x2dfb61900>"
      ]
     },
     "execution_count": 71,
     "metadata": {},
     "output_type": "execute_result"
    }
   ],
   "source": [
    "trainer[4].evaluate(threshold=0.5, show=True)"
   ]
  },
  {
   "cell_type": "code",
   "execution_count": 72,
   "id": "9488bcc98046961",
   "metadata": {
    "ExecuteTime": {
     "end_time": "2023-08-04T00:35:59.417688Z",
     "start_time": "2023-08-04T00:35:59.277296Z"
    },
    "collapsed": false
   },
   "outputs": [
    {
     "name": "stdout",
     "output_type": "stream",
     "text": [
      "n=10 m=14\n",
      "logits=[20.852563858032227, -40.37002944946289, -12.6128568649292, -44.95913314819336, 29.786319732666016]\n",
      "probs=[0.00013184444105718285, 3.3995969008549225e-31, 3.8566825601311526e-19, 3.454657408895744e-33, 0.9998681545257568]\n"
     ]
    },
    {
     "data": {
      "image/png": "[encoded data removed]",
      "text/plain": [
       "<Figure size 600x600 with 1 Axes>"
      ]
     },
     "metadata": {},
     "output_type": "display_data"
    },
    {
     "data": {
      "text/plain": [
       "<networkx.classes.graph.Graph at 0x2dfb63100>"
      ]
     },
     "execution_count": 72,
     "metadata": {},
     "output_type": "execute_result"
    }
   ],
   "source": [
    "trainer[4].evaluate(bernoulli=True, show=True)"
   ]
  },
  {
   "cell_type": "code",
   "execution_count": null,
   "id": "5f2ee2c4-fcdf-4a7e-be20-6a329b4909a4",
   "metadata": {},
   "outputs": [],
   "source": []
  }
 ],
 "metadata": {
  "kernelspec": {
   "display_name": "Python 3 (ipykernel)",
   "language": "python",
   "name": "python3"
  },
  "language_info": {
   "codemirror_mode": {
    "name": "ipython",
    "version": 3
   },
   "file_extension": ".py",
   "mimetype": "text/x-python",
   "name": "python",
   "nbconvert_exporter": "python",
   "pygments_lexer": "ipython3",
   "version": "3.10.12"
  },
  "widgets": {
   "application/vnd.jupyter.widget-state+json": {
    "state": {
     "07b43483463e4ae3b9a7b160d8938299": {
      "model_module": "@jupyter-widgets/controls",
      "model_module_version": "2.0.0",
      "model_name": "DescriptionStyleModel",
      "state": {
       "_model_module": "@jupyter-widgets/controls",
       "_model_name": "DescriptionStyleModel",
       "_view_name": "ErrorWidgetView",
       "description_width": "",
       "error": {},
       "msg": "Failed to load model class 'DescriptionStyleModel' from module '@jupyter-widgets/controls'"
      }
     },
     "0b87e5fec1ff41aeb4c9e624a222f89b": {
      "model_module": "@jupyter-widgets/base",
      "model_module_version": "2.0.0",
      "model_name": "LayoutModel",
      "state": {
       "_model_name": "LayoutModel",
       "_view_name": "ErrorWidgetView",
       "align_content": null,
       "align_items": null,
       "align_self": null,
       "border": null,
       "bottom": null,
       "display": null,
       "error": {},
       "flex": null,
       "flex_flow": null,
       "grid_area": null,
       "grid_auto_columns": null,
       "grid_auto_flow": null,
       "grid_auto_rows": null,
       "grid_column": null,
       "grid_gap": null,
       "grid_row": null,
       "grid_template_areas": null,
       "grid_template_columns": null,
       "grid_template_rows": null,
       "height": null,
       "justify_content": null,
       "justify_items": null,
       "left": null,
       "margin": null,
       "max_height": null,
       "max_width": null,
       "min_height": null,
       "min_width": null,
       "msg": "Failed to load model class 'LayoutModel' from module '@jupyter-widgets/base'",
       "object_fit": null,
       "object_position": null,
       "order": null,
       "overflow": null,
       "overflow_x": null,
       "overflow_y": null,
       "padding": null,
       "right": null,
       "top": null,
       "visibility": null,
       "width": null
      }
     },
     "0cf8ded72d3147d681343573a3c5c3ad": {
      "model_module": "@jupyter-widgets/base",
      "model_module_version": "2.0.0",
      "model_name": "LayoutModel",
      "state": {
       "_model_name": "LayoutModel",
       "_view_name": "ErrorWidgetView",
       "align_content": null,
       "align_items": null,
       "align_self": null,
       "border": null,
       "bottom": null,
       "display": null,
       "error": {},
       "flex": null,
       "flex_flow": null,
       "grid_area": null,
       "grid_auto_columns": null,
       "grid_auto_flow": null,
       "grid_auto_rows": null,
       "grid_column": null,
       "grid_gap": null,
       "grid_row": null,
       "grid_template_areas": null,
       "grid_template_columns": null,
       "grid_template_rows": null,
       "height": null,
       "justify_content": null,
       "justify_items": null,
       "left": null,
       "margin": null,
       "max_height": null,
       "max_width": null,
       "min_height": null,
       "min_width": null,
       "msg": "Failed to load model class 'LayoutModel' from module '@jupyter-widgets/base'",
       "object_fit": null,
       "object_position": null,
       "order": null,
       "overflow": null,
       "overflow_x": null,
       "overflow_y": null,
       "padding": null,
       "right": null,
       "top": null,
       "visibility": null,
       "width": null
      }
     },
     "0ef53961cc214c23a5cc520142ed3530": {
      "model_module": "@jupyter-widgets/controls",
      "model_module_version": "2.0.0",
      "model_name": "DescriptionStyleModel",
      "state": {
       "_model_module": "@jupyter-widgets/controls",
       "_model_name": "DescriptionStyleModel",
       "_view_name": "ErrorWidgetView",
       "description_width": "",
       "error": {},
       "msg": "Failed to load model class 'DescriptionStyleModel' from module '@jupyter-widgets/controls'"
      }
     },
     "10730754cf7a43eca9820d10763e9a41": {
      "model_module": "@jupyter-widgets/controls",
      "model_module_version": "2.0.0",
      "model_name": "HTMLModel",
      "state": {
       "_model_module": "@jupyter-widgets/controls",
       "_model_name": "HTMLModel",
       "_view_name": "ErrorWidgetView",
       "description": "",
       "description_tooltip": null,
       "error": {},
       "layout": "IPY_MODEL_1958cff3714b451e95a8fbc5e76541b6",
       "msg": "Failed to load model class 'HTMLModel' from module '@jupyter-widgets/controls'",
       "placeholder": "​",
       "style": "IPY_MODEL_0ef53961cc214c23a5cc520142ed3530",
       "value": " 11531/11531 [00:33&lt;00:00, 255.26it/s]"
      }
     },
     "14391e150296461ca407c9ff78c5ae7e": {
      "model_module": "@jupyter-widgets/controls",
      "model_module_version": "2.0.0",
      "model_name": "DescriptionStyleModel",
      "state": {
       "_model_module": "@jupyter-widgets/controls",
       "_model_name": "DescriptionStyleModel",
       "_view_name": "ErrorWidgetView",
       "description_width": "",
       "error": {},
       "msg": "Failed to load model class 'DescriptionStyleModel' from module '@jupyter-widgets/controls'"
      }
     },
     "1958cff3714b451e95a8fbc5e76541b6": {
      "model_module": "@jupyter-widgets/base",
      "model_module_version": "2.0.0",
      "model_name": "LayoutModel",
      "state": {
       "_model_name": "LayoutModel",
       "_view_name": "ErrorWidgetView",
       "align_content": null,
       "align_items": null,
       "align_self": null,
       "border": null,
       "bottom": null,
       "display": null,
       "error": {},
       "flex": null,
       "flex_flow": null,
       "grid_area": null,
       "grid_auto_columns": null,
       "grid_auto_flow": null,
       "grid_auto_rows": null,
       "grid_column": null,
       "grid_gap": null,
       "grid_row": null,
       "grid_template_areas": null,
       "grid_template_columns": null,
       "grid_template_rows": null,
       "height": null,
       "justify_content": null,
       "justify_items": null,
       "left": null,
       "margin": null,
       "max_height": null,
       "max_width": null,
       "min_height": null,
       "min_width": null,
       "msg": "Failed to load model class 'LayoutModel' from module '@jupyter-widgets/base'",
       "object_fit": null,
       "object_position": null,
       "order": null,
       "overflow": null,
       "overflow_x": null,
       "overflow_y": null,
       "padding": null,
       "right": null,
       "top": null,
       "visibility": null,
       "width": null
      }
     },
     "218cfca13d80402ab877a02fc12211cb": {
      "model_module": "@jupyter-widgets/base",
      "model_module_version": "2.0.0",
      "model_name": "LayoutModel",
      "state": {
       "_model_name": "LayoutModel",
       "_view_name": "ErrorWidgetView",
       "align_content": null,
       "align_items": null,
       "align_self": null,
       "border": null,
       "bottom": null,
       "display": null,
       "error": {},
       "flex": null,
       "flex_flow": null,
       "grid_area": null,
       "grid_auto_columns": null,
       "grid_auto_flow": null,
       "grid_auto_rows": null,
       "grid_column": null,
       "grid_gap": null,
       "grid_row": null,
       "grid_template_areas": null,
       "grid_template_columns": null,
       "grid_template_rows": null,
       "height": null,
       "justify_content": null,
       "justify_items": null,
       "left": null,
       "margin": null,
       "max_height": null,
       "max_width": null,
       "min_height": null,
       "min_width": null,
       "msg": "Failed to load model class 'LayoutModel' from module '@jupyter-widgets/base'",
       "object_fit": null,
       "object_position": null,
       "order": null,
       "overflow": null,
       "overflow_x": null,
       "overflow_y": null,
       "padding": null,
       "right": null,
       "top": null,
       "visibility": null,
       "width": null
      }
     },
     "26ccacccb90843b7ac727e9595ab1596": {
      "model_module": "@jupyter-widgets/controls",
      "model_module_version": "2.0.0",
      "model_name": "HBoxModel",
      "state": {
       "_model_module": "@jupyter-widgets/controls",
       "_model_name": "HBoxModel",
       "_view_name": "ErrorWidgetView",
       "box_style": "",
       "children": [
        "IPY_MODEL_34fa3b9e3ba74ee399312caeceb99f69",
        "IPY_MODEL_54daa2fea4ec45d0a23452074efd359e",
        "IPY_MODEL_10730754cf7a43eca9820d10763e9a41"
       ],
       "error": {},
       "layout": "IPY_MODEL_6d28c2f4d48043aa90f29bb764583bf9",
       "msg": "Failed to load model class 'HBoxModel' from module '@jupyter-widgets/controls'"
      }
     },
     "34fa3b9e3ba74ee399312caeceb99f69": {
      "model_module": "@jupyter-widgets/controls",
      "model_module_version": "2.0.0",
      "model_name": "HTMLModel",
      "state": {
       "_model_module": "@jupyter-widgets/controls",
       "_model_name": "HTMLModel",
       "_view_name": "ErrorWidgetView",
       "description": "",
       "description_tooltip": null,
       "error": {},
       "layout": "IPY_MODEL_e9446ec84ebf43ada6872814f2acb0bb",
       "msg": "Failed to load model class 'HTMLModel' from module '@jupyter-widgets/controls'",
       "placeholder": "​",
       "style": "IPY_MODEL_690ee1b6a3cf43adb5164f200cad4fb4",
       "value": "100%"
      }
     },
     "45e44448b1ea450db792b21878b84f01": {
      "model_module": "@jupyter-widgets/controls",
      "model_module_version": "2.0.0",
      "model_name": "ProgressStyleModel",
      "state": {
       "_model_module": "@jupyter-widgets/controls",
       "_model_name": "ProgressStyleModel",
       "_view_name": "ErrorWidgetView",
       "bar_color": null,
       "description_width": "",
       "error": {},
       "msg": "Failed to load model class 'ProgressStyleModel' from module '@jupyter-widgets/controls'"
      }
     },
     "54daa2fea4ec45d0a23452074efd359e": {
      "model_module": "@jupyter-widgets/controls",
      "model_module_version": "2.0.0",
      "model_name": "FloatProgressModel",
      "state": {
       "_model_module": "@jupyter-widgets/controls",
       "_model_name": "FloatProgressModel",
       "_view_name": "ErrorWidgetView",
       "bar_style": "success",
       "description": "",
       "description_tooltip": null,
       "error": {},
       "layout": "IPY_MODEL_218cfca13d80402ab877a02fc12211cb",
       "max": 11531,
       "min": 0,
       "msg": "Failed to load model class 'FloatProgressModel' from module '@jupyter-widgets/controls'",
       "orientation": "horizontal",
       "style": "IPY_MODEL_9706bfc895af4431a44ab22509435387",
       "value": 11531
      }
     },
     "690ee1b6a3cf43adb5164f200cad4fb4": {
      "model_module": "@jupyter-widgets/controls",
      "model_module_version": "2.0.0",
      "model_name": "DescriptionStyleModel",
      "state": {
       "_model_module": "@jupyter-widgets/controls",
       "_model_name": "DescriptionStyleModel",
       "_view_name": "ErrorWidgetView",
       "description_width": "",
       "error": {},
       "msg": "Failed to load model class 'DescriptionStyleModel' from module '@jupyter-widgets/controls'"
      }
     },
     "6d28c2f4d48043aa90f29bb764583bf9": {
      "model_module": "@jupyter-widgets/base",
      "model_module_version": "2.0.0",
      "model_name": "LayoutModel",
      "state": {
       "_model_name": "LayoutModel",
       "_view_name": "ErrorWidgetView",
       "align_content": null,
       "align_items": null,
       "align_self": null,
       "border": null,
       "bottom": null,
       "display": null,
       "error": {},
       "flex": null,
       "flex_flow": null,
       "grid_area": null,
       "grid_auto_columns": null,
       "grid_auto_flow": null,
       "grid_auto_rows": null,
       "grid_column": null,
       "grid_gap": null,
       "grid_row": null,
       "grid_template_areas": null,
       "grid_template_columns": null,
       "grid_template_rows": null,
       "height": null,
       "justify_content": null,
       "justify_items": null,
       "left": null,
       "margin": null,
       "max_height": null,
       "max_width": null,
       "min_height": null,
       "min_width": null,
       "msg": "Failed to load model class 'LayoutModel' from module '@jupyter-widgets/base'",
       "object_fit": null,
       "object_position": null,
       "order": null,
       "overflow": null,
       "overflow_x": null,
       "overflow_y": null,
       "padding": null,
       "right": null,
       "top": null,
       "visibility": null,
       "width": null
      }
     },
     "6e12fbb8b0f349e09c32c14601a1eddc": {
      "model_module": "@jupyter-widgets/controls",
      "model_module_version": "2.0.0",
      "model_name": "HTMLModel",
      "state": {
       "_model_module": "@jupyter-widgets/controls",
       "_model_name": "HTMLModel",
       "_view_name": "ErrorWidgetView",
       "description": "",
       "description_tooltip": null,
       "error": {},
       "layout": "IPY_MODEL_0cf8ded72d3147d681343573a3c5c3ad",
       "msg": "Failed to load model class 'HTMLModel' from module '@jupyter-widgets/controls'",
       "placeholder": "​",
       "style": "IPY_MODEL_07b43483463e4ae3b9a7b160d8938299",
       "value": "Loading graphs: 100%"
      }
     },
     "7821741103e94b03923bba81dbc4c2a9": {
      "model_module": "@jupyter-widgets/controls",
      "model_module_version": "2.0.0",
      "model_name": "HTMLModel",
      "state": {
       "_model_module": "@jupyter-widgets/controls",
       "_model_name": "HTMLModel",
       "_view_name": "ErrorWidgetView",
       "description": "",
       "description_tooltip": null,
       "error": {},
       "layout": "IPY_MODEL_0b87e5fec1ff41aeb4c9e624a222f89b",
       "msg": "Failed to load model class 'HTMLModel' from module '@jupyter-widgets/controls'",
       "placeholder": "​",
       "style": "IPY_MODEL_14391e150296461ca407c9ff78c5ae7e",
       "value": " 11534/11534 [00:56&lt;00:00, 247.95it/s]"
      }
     },
     "9706bfc895af4431a44ab22509435387": {
      "model_module": "@jupyter-widgets/controls",
      "model_module_version": "2.0.0",
      "model_name": "ProgressStyleModel",
      "state": {
       "_model_module": "@jupyter-widgets/controls",
       "_model_name": "ProgressStyleModel",
       "_view_name": "ErrorWidgetView",
       "bar_color": null,
       "description_width": "",
       "error": {},
       "msg": "Failed to load model class 'ProgressStyleModel' from module '@jupyter-widgets/controls'"
      }
     },
     "9b5d28e41af94931b674dcd1ddf14562": {
      "model_module": "@jupyter-widgets/base",
      "model_module_version": "2.0.0",
      "model_name": "LayoutModel",
      "state": {
       "_model_name": "LayoutModel",
       "_view_name": "ErrorWidgetView",
       "align_content": null,
       "align_items": null,
       "align_self": null,
       "border": null,
       "bottom": null,
       "display": null,
       "error": {},
       "flex": null,
       "flex_flow": null,
       "grid_area": null,
       "grid_auto_columns": null,
       "grid_auto_flow": null,
       "grid_auto_rows": null,
       "grid_column": null,
       "grid_gap": null,
       "grid_row": null,
       "grid_template_areas": null,
       "grid_template_columns": null,
       "grid_template_rows": null,
       "height": null,
       "justify_content": null,
       "justify_items": null,
       "left": null,
       "margin": null,
       "max_height": null,
       "max_width": null,
       "min_height": null,
       "min_width": null,
       "msg": "Failed to load model class 'LayoutModel' from module '@jupyter-widgets/base'",
       "object_fit": null,
       "object_position": null,
       "order": null,
       "overflow": null,
       "overflow_x": null,
       "overflow_y": null,
       "padding": null,
       "right": null,
       "top": null,
       "visibility": null,
       "width": null
      }
     },
     "c5606e09c1de4100be70fc1ef5fb367d": {
      "model_module": "@jupyter-widgets/base",
      "model_module_version": "2.0.0",
      "model_name": "LayoutModel",
      "state": {
       "_model_name": "LayoutModel",
       "_view_name": "ErrorWidgetView",
       "align_content": null,
       "align_items": null,
       "align_self": null,
       "border": null,
       "bottom": null,
       "display": null,
       "error": {},
       "flex": null,
       "flex_flow": null,
       "grid_area": null,
       "grid_auto_columns": null,
       "grid_auto_flow": null,
       "grid_auto_rows": null,
       "grid_column": null,
       "grid_gap": null,
       "grid_row": null,
       "grid_template_areas": null,
       "grid_template_columns": null,
       "grid_template_rows": null,
       "height": null,
       "justify_content": null,
       "justify_items": null,
       "left": null,
       "margin": null,
       "max_height": null,
       "max_width": null,
       "min_height": null,
       "min_width": null,
       "msg": "Failed to load model class 'LayoutModel' from module '@jupyter-widgets/base'",
       "object_fit": null,
       "object_position": null,
       "order": null,
       "overflow": null,
       "overflow_x": null,
       "overflow_y": null,
       "padding": null,
       "right": null,
       "top": null,
       "visibility": null,
       "width": null
      }
     },
     "ce6b2459d7fb430d9b0a8820031189de": {
      "model_module": "@jupyter-widgets/controls",
      "model_module_version": "2.0.0",
      "model_name": "FloatProgressModel",
      "state": {
       "_model_module": "@jupyter-widgets/controls",
       "_model_name": "FloatProgressModel",
       "_view_name": "ErrorWidgetView",
       "bar_style": "success",
       "description": "",
       "description_tooltip": null,
       "error": {},
       "layout": "IPY_MODEL_c5606e09c1de4100be70fc1ef5fb367d",
       "max": 11534,
       "min": 0,
       "msg": "Failed to load model class 'FloatProgressModel' from module '@jupyter-widgets/controls'",
       "orientation": "horizontal",
       "style": "IPY_MODEL_45e44448b1ea450db792b21878b84f01",
       "value": 11534
      }
     },
     "e9446ec84ebf43ada6872814f2acb0bb": {
      "model_module": "@jupyter-widgets/base",
      "model_module_version": "2.0.0",
      "model_name": "LayoutModel",
      "state": {
       "_model_name": "LayoutModel",
       "_view_name": "ErrorWidgetView",
       "align_content": null,
       "align_items": null,
       "align_self": null,
       "border": null,
       "bottom": null,
       "display": null,
       "error": {},
       "flex": null,
       "flex_flow": null,
       "grid_area": null,
       "grid_auto_columns": null,
       "grid_auto_flow": null,
       "grid_auto_rows": null,
       "grid_column": null,
       "grid_gap": null,
       "grid_row": null,
       "grid_template_areas": null,
       "grid_template_columns": null,
       "grid_template_rows": null,
       "height": null,
       "justify_content": null,
       "justify_items": null,
       "left": null,
       "margin": null,
       "max_height": null,
       "max_width": null,
       "min_height": null,
       "min_width": null,
       "msg": "Failed to load model class 'LayoutModel' from module '@jupyter-widgets/base'",
       "object_fit": null,
       "object_position": null,
       "order": null,
       "overflow": null,
       "overflow_x": null,
       "overflow_y": null,
       "padding": null,
       "right": null,
       "top": null,
       "visibility": null,
       "width": null
      }
     },
     "f64c7011415b4ea3a3043c3a81009193": {
      "model_module": "@jupyter-widgets/controls",
      "model_module_version": "2.0.0",
      "model_name": "HBoxModel",
      "state": {
       "_model_module": "@jupyter-widgets/controls",
       "_model_name": "HBoxModel",
       "_view_name": "ErrorWidgetView",
       "box_style": "",
       "children": [
        "IPY_MODEL_6e12fbb8b0f349e09c32c14601a1eddc",
        "IPY_MODEL_ce6b2459d7fb430d9b0a8820031189de",
        "IPY_MODEL_7821741103e94b03923bba81dbc4c2a9"
       ],
       "error": {},
       "layout": "IPY_MODEL_9b5d28e41af94931b674dcd1ddf14562",
       "msg": "Failed to load model class 'HBoxModel' from module '@jupyter-widgets/controls'"
      }
     }
    },
    "version_major": 2,
    "version_minor": 0
   }
  }
 },
 "nbformat": 4,
 "nbformat_minor": 5
}
