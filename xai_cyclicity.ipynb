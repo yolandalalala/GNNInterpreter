{
 "cells": [
  {
   "cell_type": "code",
   "execution_count": 2,
   "id": "1a91b813",
   "metadata": {
    "collapsed": false,
    "pycharm": {
     "name": "#%%\n"
    },
    "ExecuteTime": {
     "end_time": "2023-10-29T08:17:41.081233Z",
     "start_time": "2023-10-29T08:17:41.055561Z"
    }
   },
   "outputs": [],
   "source": [
    "%load_ext autoreload\n",
    "%autoreload 2"
   ]
  },
  {
   "cell_type": "code",
   "execution_count": 4,
   "id": "c7f4188d",
   "metadata": {
    "collapsed": false,
    "pycharm": {
     "name": "#%%\n"
    },
    "ExecuteTime": {
     "end_time": "2023-10-29T08:18:23.597729Z",
     "start_time": "2023-10-29T08:18:23.442316Z"
    }
   },
   "outputs": [],
   "source": [
    "from gnninterpreter import *"
   ]
  },
  {
   "cell_type": "code",
   "execution_count": 6,
   "id": "2ab76fb3",
   "metadata": {
    "collapsed": false,
    "pycharm": {
     "name": "#%%\n"
    },
    "ExecuteTime": {
     "end_time": "2023-10-29T08:18:44.482603Z",
     "start_time": "2023-10-29T08:18:44.446837Z"
    }
   },
   "outputs": [],
   "source": [
    "import numpy as np\n",
    "import matplotlib.pyplot as plt\n",
    "\n",
    "from tqdm.auto import tqdm, trange\n",
    "\n",
    "import torch\n",
    "from torch import nn\n",
    "import torch_geometric as pyg\n",
    "from torchmetrics import F1Score"
   ]
  },
  {
   "cell_type": "markdown",
   "id": "395a07f1",
   "metadata": {},
   "source": [
    "# Cyclicity"
   ]
  },
  {
   "cell_type": "code",
   "execution_count": 8,
   "id": "52747602",
   "metadata": {
    "collapsed": false,
    "pycharm": {
     "name": "#%%\n"
    },
    "ExecuteTime": {
     "end_time": "2023-10-29T08:21:35.986354Z",
     "start_time": "2023-10-29T08:19:28.610927Z"
    }
   },
   "outputs": [
    {
     "name": "stderr",
     "output_type": "stream",
     "text": [
      "Downloading http://www.graphdrawing.org/download/rome-graphml.tgz\n",
      "Extracting data/Cyclicity/raw/rome-graphml.tgz\n",
      "Processing...\n"
     ]
    },
    {
     "data": {
      "text/plain": "Loading graphs:   0%|          | 0/11534 [00:00<?, ?it/s]",
      "application/vnd.jupyter.widget-view+json": {
       "version_major": 2,
       "version_minor": 0,
       "model_id": "c67ddb77c0c74db29dd1dd8ec94daf60"
      }
     },
     "metadata": {},
     "output_type": "display_data"
    },
    {
     "name": "stderr",
     "output_type": "stream",
     "text": [
      "Done!\n"
     ]
    }
   ],
   "source": [
    "cyclicity = CyclicityDataset(seed=12345)\n",
    "k_fold = 10\n",
    "train_data = cyclicity[len(cyclicity)//k_fold:]\n",
    "val_data = cyclicity[:len(cyclicity)//k_fold]\n",
    "train_loader = pyg.loader.DataLoader(train_data, batch_size=128, shuffle=True)\n",
    "val_loader = pyg.loader.DataLoader(val_data, batch_size=128, shuffle=False)"
   ]
  },
  {
   "cell_type": "code",
   "execution_count": 9,
   "id": "cc13aec4-3010-481b-89e1-dbc75b4ef012",
   "metadata": {
    "ExecuteTime": {
     "end_time": "2023-10-29T08:28:07.296857Z",
     "start_time": "2023-10-29T08:28:06.045386Z"
    }
   },
   "outputs": [
    {
     "data": {
      "text/plain": "{'mean_n': 52.76344180335058,\n 'mean_m': 52.51504254012806,\n 'std_n': 25.45414709419518,\n 'std_m': 25.46061875996072}"
     },
     "execution_count": 9,
     "metadata": {},
     "output_type": "execute_result"
    }
   ],
   "source": [
    "cyclicity.describe()"
   ]
  },
  {
   "cell_type": "markdown",
   "id": "c004f55d-eae8-44af-983e-8ecd3aa9115b",
   "metadata": {},
   "source": [
    "# Train Model"
   ]
  },
  {
   "cell_type": "code",
   "execution_count": 12,
   "id": "4c1617a4-666d-43de-8f0e-c5301b74375f",
   "metadata": {
    "collapsed": false,
    "pycharm": {
     "name": "#%%\n"
    },
    "ExecuteTime": {
     "end_time": "2023-10-29T08:30:58.966504Z",
     "start_time": "2023-10-29T08:30:58.919113Z"
    }
   },
   "outputs": [],
   "source": [
    "kwargs = dict(node_features=len(cyclicity.NODE_CLS),\n",
    "              edge_features=len(cyclicity.EDGE_CLS),\n",
    "              num_classes=len(cyclicity.GRAPH_CLS),\n",
    "              hidden_channels=32)\n",
    "model = NNConvClassifier(**kwargs)\n",
    "optimizer = torch.optim.AdamW(model.parameters(), lr=0.01)\n",
    "criterion = nn.CrossEntropyLoss()"
   ]
  },
  {
   "cell_type": "code",
   "execution_count": 13,
   "id": "7cc78d48-f44b-4775-9589-864611bed0c4",
   "metadata": {
    "pycharm": {
     "name": "#%%\n"
    },
    "scrolled": true,
    "tags": [],
    "ExecuteTime": {
     "end_time": "2023-10-29T08:31:25.521949Z",
     "start_time": "2023-10-29T08:31:25.477773Z"
    }
   },
   "outputs": [],
   "source": [
    "def train():\n",
    "    model.train()\n",
    "    losses = []\n",
    "    for batch in tqdm(train_loader, position=1, leave=False, disable=True):\n",
    "        model.zero_grad()  # Clear gradients.\n",
    "        out = model(batch)  # Perform a single forward pass.\n",
    "        loss = criterion(out['logits'], batch.y)  # Compute the loss.\n",
    "        loss.backward()  # Derive gradients.\n",
    "        optimizer.step()  # Update parameters based on gradients.\n",
    "        losses.append(loss.item())\n",
    "    return np.mean(losses)\n",
    "\n",
    "@torch.no_grad()\n",
    "def test(loader):\n",
    "    f1 = F1Score(task=\"multiclass\", num_classes=len(cyclicity.GRAPH_CLS), average=None)\n",
    "    model.eval()\n",
    "    for batch in tqdm(loader, position=1, leave=False, disable=True):\n",
    "        f1(model(batch)['logits'], batch.y)\n",
    "    return dict(zip(cyclicity.GRAPH_CLS.values(), f1.compute().tolist()))\n",
    "\n",
    "@torch.no_grad()\n",
    "def gt_score():\n",
    "    batch = pyg.data.Batch.from_data_list([cyclicity.motifs[1]])\n",
    "    neg, pos = model(batch).mean(dim=0).numpy()\n",
    "    return neg, pos"
   ]
  },
  {
   "cell_type": "code",
   "execution_count": 22,
   "id": "1eaf7202-9c73-4823-9ea0-7db524818c7d",
   "metadata": {
    "pycharm": {
     "name": "#%%\n"
    },
    "scrolled": true,
    "tags": [],
    "ExecuteTime": {
     "end_time": "2023-10-30T04:37:34.985998Z",
     "start_time": "2023-10-30T04:27:57.950202Z"
    }
   },
   "outputs": [
    {
     "name": "stdout",
     "output_type": "stream",
     "text": [
      "Epoch: 000, Train Loss: 0.1210, Train Acc: {'red_cyclic': 0.9461339712142944, 'green_cyclic': 0.6990545988082886, 'acyclic': 0.8788838386535645}, Test Acc: {'red_cyclic': 0.9797297120094299, 'green_cyclic': 0.604651153087616, 'acyclic': 0.8553259372711182}, \n",
      "Epoch: 001, Train Loss: 0.3241, Train Acc: {'red_cyclic': 0.9555683732032776, 'green_cyclic': 0.9203611016273499, 'acyclic': 0.9400270581245422}, Test Acc: {'red_cyclic': 0.9797979593276978, 'green_cyclic': 0.9900000095367432, 'acyclic': 0.9834254384040833}, \n",
      "Epoch: 002, Train Loss: 0.1601, Train Acc: {'red_cyclic': 0.9627388119697571, 'green_cyclic': 0.9291675686836243, 'acyclic': 0.9505775570869446}, Test Acc: {'red_cyclic': 0.9917355179786682, 'green_cyclic': 0.9796609878540039, 'acyclic': 0.9843317866325378}, \n",
      "Epoch: 003, Train Loss: 0.1369, Train Acc: {'red_cyclic': 0.9595111012458801, 'green_cyclic': 0.9216628074645996, 'acyclic': 0.9448518753051758}, Test Acc: {'red_cyclic': 0.9917355179786682, 'green_cyclic': 0.9499136209487915, 'acyclic': 0.9689781069755554}, \n",
      "Epoch: 004, Train Loss: 0.1372, Train Acc: {'red_cyclic': 0.9617279171943665, 'green_cyclic': 0.8836477994918823, 'acyclic': 0.9345811605453491}, Test Acc: {'red_cyclic': 0.9849246144294739, 'green_cyclic': 0.9380530714988708, 'acyclic': 0.960644006729126}, \n",
      "Epoch: 005, Train Loss: 0.1302, Train Acc: {'red_cyclic': 0.9642789363861084, 'green_cyclic': 0.9237175583839417, 'acyclic': 0.9410936832427979}, Test Acc: {'red_cyclic': 0.9850746393203735, 'green_cyclic': 0.9851239919662476, 'acyclic': 0.983208954334259}, \n",
      "Epoch: 006, Train Loss: 0.1247, Train Acc: {'red_cyclic': 0.9426557421684265, 'green_cyclic': 0.931522786617279, 'acyclic': 0.9361534118652344}, Test Acc: {'red_cyclic': 0.9900332093238831, 'green_cyclic': 0.9818181991577148, 'acyclic': 0.9841565489768982}, \n",
      "Epoch: 007, Train Loss: 0.2474, Train Acc: {'red_cyclic': 0.9580052495002747, 'green_cyclic': 0.9304274916648865, 'acyclic': 0.9470046162605286}, Test Acc: {'red_cyclic': 0.9900990128517151, 'green_cyclic': 0.9762712121009827, 'acyclic': 0.9815497994422913}, \n",
      "Epoch: 008, Train Loss: 0.1502, Train Acc: {'red_cyclic': 0.9612765312194824, 'green_cyclic': 0.9368295669555664, 'acyclic': 0.9504299759864807}, Test Acc: {'red_cyclic': 0.9916805028915405, 'green_cyclic': 0.9916247725486755, 'acyclic': 0.9907578825950623}, \n",
      "Epoch: 009, Train Loss: 0.1298, Train Acc: {'red_cyclic': 0.9684572815895081, 'green_cyclic': 0.9453336000442505, 'acyclic': 0.959351122379303}, Test Acc: {'red_cyclic': 0.9933554530143738, 'green_cyclic': 0.9797297120094299, 'acyclic': 0.9852670431137085}, \n",
      "Epoch: 010, Train Loss: 0.1948, Train Acc: {'red_cyclic': 0.9230194091796875, 'green_cyclic': 0.9131664037704468, 'acyclic': 0.9183793067932129}, Test Acc: {'red_cyclic': 0.9572649598121643, 'green_cyclic': 0.9658703207969666, 'acyclic': 0.9594228863716125}, \n",
      "Epoch: 011, Train Loss: 0.1386, Train Acc: {'red_cyclic': 0.9682539701461792, 'green_cyclic': 0.9467263221740723, 'acyclic': 0.9584949612617493}, Test Acc: {'red_cyclic': 0.9917080998420715, 'green_cyclic': 0.9899328947067261, 'acyclic': 0.9898242354393005}, \n",
      "Epoch: 012, Train Loss: 0.1159, Train Acc: {'red_cyclic': 0.9676313996315002, 'green_cyclic': 0.9332312941551208, 'acyclic': 0.9487205147743225}, Test Acc: {'red_cyclic': 0.9933554530143738, 'green_cyclic': 0.9850249290466309, 'acyclic': 0.9879294633865356}, \n",
      "Epoch: 013, Train Loss: 0.1096, Train Acc: {'red_cyclic': 0.965818464756012, 'green_cyclic': 0.9554688930511475, 'acyclic': 0.9621496796607971}, Test Acc: {'red_cyclic': 0.9917355179786682, 'green_cyclic': 0.9881955981254578, 'acyclic': 0.9889094233512878}, \n",
      "Epoch: 014, Train Loss: 0.1048, Train Acc: {'red_cyclic': 0.9554767608642578, 'green_cyclic': 0.9305469989776611, 'acyclic': 0.9474680423736572}, Test Acc: {'red_cyclic': 0.9693877696990967, 'green_cyclic': 0.9848739504814148, 'acyclic': 0.9753873944282532}, \n",
      "Epoch: 015, Train Loss: 0.1508, Train Acc: {'red_cyclic': 0.8896932005882263, 'green_cyclic': 0.7949526906013489, 'acyclic': 0.8621568083763123}, Test Acc: {'red_cyclic': 0.9753694534301758, 'green_cyclic': 0.7421383857727051, 'acyclic': 0.8844221234321594}, \n"
     ]
    }
   ],
   "source": [
    "for epoch in trange(16, position=0, leave=True, disable=True):\n",
    "    train_loss = train()\n",
    "    train_acc = test(train_loader)\n",
    "    test_acc = test(val_loader)\n",
    "    # neg, pos = gt_score()\n",
    "    print(\n",
    "        f'Epoch: {epoch:03d}, '\n",
    "        f'Train Loss: {train_loss:.4f}, '\n",
    "        f'Train Acc: {train_acc}, '\n",
    "        f'Test Acc: {test_acc}, '\n",
    "        # f'GT Pos Score: {pos:.4f}, '\n",
    "        # f'GT Neg Score: {neg:.4f}, '\n",
    "    )"
   ]
  },
  {
   "cell_type": "code",
   "execution_count": 23,
   "id": "3a8139b5-424e-484e-a567-b325f015ccaf",
   "metadata": {
    "ExecuteTime": {
     "end_time": "2023-10-30T04:56:26.809534Z",
     "start_time": "2023-10-30T04:56:26.366482Z"
    }
   },
   "outputs": [
    {
     "data": {
      "text/plain": "<All keys matched successfully>"
     },
     "execution_count": 23,
     "metadata": {},
     "output_type": "execute_result"
    }
   ],
   "source": [
    "# torch.save(model.state_dict(), 'cyclicity_nnconv.pt')\n",
    "model.load_state_dict(torch.load('cyclicity_nnconv.pt'))"
   ]
  },
  {
   "cell_type": "code",
   "execution_count": 24,
   "id": "6645ce41-8d77-4945-a474-561843ee8109",
   "metadata": {
    "ExecuteTime": {
     "end_time": "2023-10-30T04:56:37.195466Z",
     "start_time": "2023-10-30T04:56:27.938980Z"
    }
   },
   "outputs": [
    {
     "data": {
      "text/plain": "{'red_cyclic': 0.9601525068283081,\n 'green_cyclic': 0.947325587272644,\n 'acyclic': 0.9557915329933167}"
     },
     "execution_count": 24,
     "metadata": {},
     "output_type": "execute_result"
    }
   ],
   "source": [
    "test(train_loader)"
   ]
  },
  {
   "cell_type": "code",
   "execution_count": 25,
   "id": "feee1f5b-d7e1-440c-bb6a-7fe4daf96956",
   "metadata": {
    "ExecuteTime": {
     "end_time": "2023-10-30T04:56:37.596814Z",
     "start_time": "2023-10-30T04:56:37.196374Z"
    }
   },
   "outputs": [
    {
     "data": {
      "text/plain": "{'red_cyclic': 0.9933554530143738,\n 'green_cyclic': 0.9865771532058716,\n 'acyclic': 0.9889094233512878}"
     },
     "execution_count": 25,
     "metadata": {},
     "output_type": "execute_result"
    }
   ],
   "source": [
    "test(val_loader)"
   ]
  },
  {
   "cell_type": "markdown",
   "id": "82f24dcd-c153-4c7c-8005-cca6c59b39ef",
   "metadata": {},
   "source": [
    "# Generate Average Embedding"
   ]
  },
  {
   "cell_type": "code",
   "execution_count": 26,
   "id": "d4a27bdf-0586-4652-9989-53b8257bb2e9",
   "metadata": {
    "ExecuteTime": {
     "end_time": "2023-10-30T04:57:14.365270Z",
     "start_time": "2023-10-30T04:56:53.996442Z"
    }
   },
   "outputs": [
    {
     "data": {
      "text/plain": "  0%|          | 0/11401 [00:00<?, ?it/s]",
      "application/vnd.jupyter.widget-view+json": {
       "version_major": 2,
       "version_minor": 0,
       "model_id": "b844e67c5d864d0992f5ba74a9c57114"
      }
     },
     "metadata": {},
     "output_type": "display_data"
    }
   ],
   "source": [
    "embeds = [[] for _ in range(len(cyclicity.GRAPH_CLS))]\n",
    "with torch.no_grad():\n",
    "    for data in tqdm(cyclicity):\n",
    "        embeds[data.y.item()].append(model.eval()(pyg.data.Batch.from_data_list([data]))[\"embeds\"].numpy())\n",
    "mean_embeds = [torch.tensor(np.concatenate(e).mean(axis=0)) for e in embeds]"
   ]
  },
  {
   "cell_type": "code",
   "execution_count": 27,
   "id": "2c966c81e3166b9e",
   "metadata": {
    "collapsed": false,
    "ExecuteTime": {
     "end_time": "2023-10-30T05:00:21.438700Z",
     "start_time": "2023-10-30T05:00:20.951631Z"
    }
   },
   "outputs": [],
   "source": [
    "trainer = {}\n",
    "sampler = {}"
   ]
  },
  {
   "cell_type": "markdown",
   "id": "383c9c7a23eb249f",
   "metadata": {
    "collapsed": false
   },
   "source": [
    "# 1"
   ]
  },
  {
   "cell_type": "code",
   "execution_count": 59,
   "id": "20c1d36b425af72d",
   "metadata": {
    "collapsed": false,
    "ExecuteTime": {
     "end_time": "2023-10-30T06:29:00.164386Z",
     "start_time": "2023-10-30T06:29:00.122298Z"
    }
   },
   "outputs": [],
   "source": [
    "classes = 1\n",
    "sampler[classes] = s = GraphSampler(max_nodes=20,\n",
    "                                    num_edge_cls=len(cyclicity.EDGE_CLS),\n",
    "                                    temperature=0.15,\n",
    "                                    learn_node_feat=False,\n",
    "                                    learn_edge_feat=True)\n",
    "\n",
    "criterion = nn.Sequential(\n",
    "    WeightedCriterion([\n",
    "        dict(key=\"logits\", criterion=ClassScoreCriterion(class_idx=classes), mode=\"maximize\", weight=1),\n",
    "        dict(key=\"embeds\", criterion=EmbeddingCriterion(target_embedding=mean_embeds[classes]), weight=1),\n",
    "    ]),\n",
    "    NormPenalty(lambda: s.omega, order=1, weight=1), # L1 penalty on omega, encourage uncertainty\n",
    "    NormPenalty(lambda: s.omega, order=2, weight=1), # L2 penalty on omega, avoid extreme probabilities\n",
    "    # NormPenalty(lambda: s.xi, order=1, weight=0), # L1 penalty on xi\n",
    "    # NormPenalty(lambda: s.xi, order=2, weight=0), # L2 penalty on xi\n",
    "    # NormPenalty(lambda: s.eta, order=1, weight=0), # L1 penalty on eta\n",
    "    # NormPenalty(lambda: s.eta, order=2, weight=0), # L2 penalty on eta\n",
    "    budget := BudgetPenalty(lambda: s.theta, budget=10, order=2, beta=0.5, weight=100), # Budget penalty on theta, encourage sparsity\n",
    "    # CrossEntropyPenalty(lambda: s.theta, weight=0), # Element-wise entropy penalty on theta, encourage discreteness\n",
    "    KLDivergencePenalty(lambda: tuple(s.theta_pairs), binary=True, weight=1), # Pair-wise cross entropy on E, encourage connectivity\n",
    ")\n",
    "optimizer = torch.optim.SGD(s.parameters(), lr=1)\n",
    "scheduler = torch.optim.lr_scheduler.ExponentialLR(optimizer, gamma=1)\n",
    "\n",
    "# construct graph sampler trainer\n",
    "trainer[classes] = Trainer(sampler=s,\n",
    "                  discriminator=model,\n",
    "                  criterion=criterion,\n",
    "                  optimizer=optimizer,\n",
    "                  scheduler=scheduler,\n",
    "                  dataset=cyclicity,\n",
    "                  k_samples=16)"
   ]
  },
  {
   "cell_type": "code",
   "execution_count": 60,
   "id": "91b8c45bb38b58e",
   "metadata": {
    "collapsed": false,
    "ExecuteTime": {
     "end_time": "2023-10-30T06:29:00.490633Z",
     "start_time": "2023-10-30T06:29:00.452627Z"
    }
   },
   "outputs": [],
   "source": [
    "def penalty_cond(out, trainer, boundary_cls=classes):\n",
    "    return out[\"probs\"][0, classes].item() > 0.9\n"
   ]
  },
  {
   "cell_type": "code",
   "execution_count": 61,
   "id": "bc959668d833b3b6",
   "metadata": {
    "collapsed": false,
    "ExecuteTime": {
     "end_time": "2023-10-30T06:29:00.843819Z",
     "start_time": "2023-10-30T06:29:00.815755Z"
    }
   },
   "outputs": [],
   "source": [
    "def break_cond(out, trainer, boundary_cls=classes):\n",
    "    return all([\n",
    "        penalty_cond(out, trainer, boundary_cls),\n",
    "        trainer.sampler.expected_m < 15\n",
    "    ])"
   ]
  },
  {
   "cell_type": "code",
   "execution_count": 62,
   "id": "4c0bd9796d611c52",
   "metadata": {
    "collapsed": false,
    "ExecuteTime": {
     "end_time": "2023-10-30T06:29:11.760689Z",
     "start_time": "2023-10-30T06:29:02.414728Z"
    }
   },
   "outputs": [
    {
     "data": {
      "text/plain": "  0%|          | 0/2000 [00:00<?, ?it/s]",
      "application/vnd.jupyter.widget-view+json": {
       "version_major": 2,
       "version_minor": 0,
       "model_id": "8846437f72bb405782ba0fa65706eacd"
      }
     },
     "metadata": {},
     "output_type": "display_data"
    },
    {
     "ename": "KeyboardInterrupt",
     "evalue": "",
     "output_type": "error",
     "traceback": [
      "\u001B[0;31m---------------------------------------------------------------------------\u001B[0m",
      "\u001B[0;31mKeyboardInterrupt\u001B[0m                         Traceback (most recent call last)",
      "Cell \u001B[0;32mIn[62], line 1\u001B[0m\n\u001B[0;32m----> 1\u001B[0m \u001B[43mtrainer\u001B[49m\u001B[43m[\u001B[49m\u001B[38;5;241;43m1\u001B[39;49m\u001B[43m]\u001B[49m\u001B[38;5;241;43m.\u001B[39;49m\u001B[43mtrain\u001B[49m\u001B[43m(\u001B[49m\u001B[38;5;241;43m2000\u001B[39;49m\u001B[43m,\u001B[49m\u001B[43m \u001B[49m\u001B[43mdynamic_penalty\u001B[49m\u001B[38;5;241;43m=\u001B[39;49m\u001B[43mbudget\u001B[49m\u001B[43m,\u001B[49m\u001B[43m \u001B[49m\u001B[43mpenalty_cond\u001B[49m\u001B[38;5;241;43m=\u001B[39;49m\u001B[43mpenalty_cond\u001B[49m\u001B[43m,\u001B[49m\u001B[43m \u001B[49m\u001B[43mbreak_cond\u001B[49m\u001B[38;5;241;43m=\u001B[39;49m\u001B[43mbreak_cond\u001B[49m\u001B[43m)\u001B[49m\n",
      "File \u001B[0;32m~/Workspaces/gnninterpreter/gnninterpreter/trainer.py:77\u001B[0m, in \u001B[0;36mTrainer.train\u001B[0;34m(self, iterations, dynamic_penalty, penalty_cond, break_cond)\u001B[0m\n\u001B[1;32m     75\u001B[0m     \u001B[38;5;28;01mbreak\u001B[39;00m\n\u001B[1;32m     76\u001B[0m loss \u001B[38;5;241m=\u001B[39m \u001B[38;5;28mself\u001B[39m\u001B[38;5;241m.\u001B[39mcriterion(cont_out)\u001B[38;5;241m.\u001B[39mmean()\n\u001B[0;32m---> 77\u001B[0m \u001B[43mloss\u001B[49m\u001B[38;5;241;43m.\u001B[39;49m\u001B[43mbackward\u001B[49m\u001B[43m(\u001B[49m\u001B[43m)\u001B[49m  \u001B[38;5;66;03m# Back-propagate gradients\u001B[39;00m\n\u001B[1;32m     79\u001B[0m \u001B[38;5;66;03m# print(self.sampler.omega.grad)\u001B[39;00m\n\u001B[1;32m     81\u001B[0m \u001B[38;5;28;01mfor\u001B[39;00m opt \u001B[38;5;129;01min\u001B[39;00m \u001B[38;5;28mself\u001B[39m\u001B[38;5;241m.\u001B[39moptimizer:\n",
      "File \u001B[0;32m/opt/homebrew/Caskroom/mambaforge/base/lib/python3.10/site-packages/torch/_tensor.py:487\u001B[0m, in \u001B[0;36mTensor.backward\u001B[0;34m(self, gradient, retain_graph, create_graph, inputs)\u001B[0m\n\u001B[1;32m    477\u001B[0m \u001B[38;5;28;01mif\u001B[39;00m has_torch_function_unary(\u001B[38;5;28mself\u001B[39m):\n\u001B[1;32m    478\u001B[0m     \u001B[38;5;28;01mreturn\u001B[39;00m handle_torch_function(\n\u001B[1;32m    479\u001B[0m         Tensor\u001B[38;5;241m.\u001B[39mbackward,\n\u001B[1;32m    480\u001B[0m         (\u001B[38;5;28mself\u001B[39m,),\n\u001B[0;32m   (...)\u001B[0m\n\u001B[1;32m    485\u001B[0m         inputs\u001B[38;5;241m=\u001B[39minputs,\n\u001B[1;32m    486\u001B[0m     )\n\u001B[0;32m--> 487\u001B[0m \u001B[43mtorch\u001B[49m\u001B[38;5;241;43m.\u001B[39;49m\u001B[43mautograd\u001B[49m\u001B[38;5;241;43m.\u001B[39;49m\u001B[43mbackward\u001B[49m\u001B[43m(\u001B[49m\n\u001B[1;32m    488\u001B[0m \u001B[43m    \u001B[49m\u001B[38;5;28;43mself\u001B[39;49m\u001B[43m,\u001B[49m\u001B[43m \u001B[49m\u001B[43mgradient\u001B[49m\u001B[43m,\u001B[49m\u001B[43m \u001B[49m\u001B[43mretain_graph\u001B[49m\u001B[43m,\u001B[49m\u001B[43m \u001B[49m\u001B[43mcreate_graph\u001B[49m\u001B[43m,\u001B[49m\u001B[43m \u001B[49m\u001B[43minputs\u001B[49m\u001B[38;5;241;43m=\u001B[39;49m\u001B[43minputs\u001B[49m\n\u001B[1;32m    489\u001B[0m \u001B[43m\u001B[49m\u001B[43m)\u001B[49m\n",
      "File \u001B[0;32m/opt/homebrew/Caskroom/mambaforge/base/lib/python3.10/site-packages/torch/autograd/__init__.py:200\u001B[0m, in \u001B[0;36mbackward\u001B[0;34m(tensors, grad_tensors, retain_graph, create_graph, grad_variables, inputs)\u001B[0m\n\u001B[1;32m    195\u001B[0m     retain_graph \u001B[38;5;241m=\u001B[39m create_graph\n\u001B[1;32m    197\u001B[0m \u001B[38;5;66;03m# The reason we repeat same the comment below is that\u001B[39;00m\n\u001B[1;32m    198\u001B[0m \u001B[38;5;66;03m# some Python versions print out the first line of a multi-line function\u001B[39;00m\n\u001B[1;32m    199\u001B[0m \u001B[38;5;66;03m# calls in the traceback and some print out the last line\u001B[39;00m\n\u001B[0;32m--> 200\u001B[0m \u001B[43mVariable\u001B[49m\u001B[38;5;241;43m.\u001B[39;49m\u001B[43m_execution_engine\u001B[49m\u001B[38;5;241;43m.\u001B[39;49m\u001B[43mrun_backward\u001B[49m\u001B[43m(\u001B[49m\u001B[43m  \u001B[49m\u001B[38;5;66;43;03m# Calls into the C++ engine to run the backward pass\u001B[39;49;00m\n\u001B[1;32m    201\u001B[0m \u001B[43m    \u001B[49m\u001B[43mtensors\u001B[49m\u001B[43m,\u001B[49m\u001B[43m \u001B[49m\u001B[43mgrad_tensors_\u001B[49m\u001B[43m,\u001B[49m\u001B[43m \u001B[49m\u001B[43mretain_graph\u001B[49m\u001B[43m,\u001B[49m\u001B[43m \u001B[49m\u001B[43mcreate_graph\u001B[49m\u001B[43m,\u001B[49m\u001B[43m \u001B[49m\u001B[43minputs\u001B[49m\u001B[43m,\u001B[49m\n\u001B[1;32m    202\u001B[0m \u001B[43m    \u001B[49m\u001B[43mallow_unreachable\u001B[49m\u001B[38;5;241;43m=\u001B[39;49m\u001B[38;5;28;43;01mTrue\u001B[39;49;00m\u001B[43m,\u001B[49m\u001B[43m \u001B[49m\u001B[43maccumulate_grad\u001B[49m\u001B[38;5;241;43m=\u001B[39;49m\u001B[38;5;28;43;01mTrue\u001B[39;49;00m\u001B[43m)\u001B[49m\n",
      "\u001B[0;31mKeyboardInterrupt\u001B[0m: "
     ]
    }
   ],
   "source": [
    "trainer[1].train(2000, dynamic_penalty=budget, penalty_cond=penalty_cond, break_cond=break_cond)"
   ]
  },
  {
   "cell_type": "code",
   "execution_count": 63,
   "id": "7b268b4019492234",
   "metadata": {
    "collapsed": false,
    "ExecuteTime": {
     "end_time": "2023-10-30T06:29:16.545440Z",
     "start_time": "2023-10-30T06:29:16.389356Z"
    }
   },
   "outputs": [
    {
     "name": "stdout",
     "output_type": "stream",
     "text": [
      "n=11 m=18\n",
      "logits=[-216.79331970214844, 558.6318359375, -311.3712463378906]\n",
      "probs=[0.0, 1.0, 0.0]\n"
     ]
    },
    {
     "data": {
      "text/plain": "<Figure size 600x600 with 1 Axes>",
      "image/png": "[encoded data removed]"
     },
     "metadata": {},
     "output_type": "display_data"
    }
   ],
   "source": [
    "G = trainer[classes].evaluate(threshold=0.5, show=True)\n",
    "plt.show()"
   ]
  },
  {
   "cell_type": "markdown",
   "id": "4f4d3ddd-9bb6-456c-9a68-5a3edd019e6e",
   "metadata": {},
   "source": [
    "# 2"
   ]
  },
  {
   "cell_type": "code",
   "execution_count": 92,
   "id": "a71e2ec8-f880-401d-9b89-0f7235d02c3f",
   "metadata": {
    "ExecuteTime": {
     "end_time": "2023-10-30T06:36:01.227805Z",
     "start_time": "2023-10-30T06:36:01.186002Z"
    }
   },
   "outputs": [],
   "source": [
    "classes = 2\n",
    "sampler[classes] = s = GraphSampler(max_nodes=20,\n",
    "                                    num_edge_cls=len(cyclicity.EDGE_CLS),\n",
    "                                    temperature=0.1,\n",
    "                                    learn_node_feat=False,\n",
    "                                    learn_edge_feat=True)\n",
    "\n",
    "criterion = nn.Sequential(\n",
    "    WeightedCriterion([\n",
    "        # dict(key=\"logits\", criterion=ClassScoreCriterion(class_idx=0), mode=\"maximize\", weight=0.5),\n",
    "        dict(key=\"logits\", criterion=ClassScoreCriterion(class_idx=classes), mode=\"maximize\", weight=1),\n",
    "        # dict(key=\"logits\", criterion=ClassScoreCriterion(class_idx=2), mode=\"maximize\", weight=-0.5),\n",
    "        # dict(key=\"logits\", criterion=ClassScoreCriterion(class_idx=3), mode=\"maximize\", weight=-0.5),\n",
    "        # dict(key=\"logits\", criterion=CrossEntropyBoundaryCriterion(class_a=0, class_b=1), weight=1),\n",
    "        # dict(key=\"logits\", criterion=MeanSquareBoundaryCriterion(class_a=0, class_b=1), weight=1),\n",
    "        # dict(key=\"logits\", criterion=DynamicBalancingCriterion(classes=classes), weight=5),\n",
    "        # dict(key=\"embeds\", criterion=EmbeddingCriterion(target_embedding=mean_embeds[classes[0]]), weight=10),\n",
    "        dict(key=\"embeds\", criterion=EmbeddingCriterion(target_embedding=mean_embeds[classes]), weight=5),\n",
    "    ]),\n",
    "    NormPenalty(lambda: s.omega, order=1, weight=1), # L1 penalty on omega, encourage uncertainty\n",
    "    NormPenalty(lambda: s.omega, order=2, weight=1), # L2 penalty on omega, avoid extreme probabilities\n",
    "    # NormPenalty(lambda: s.xi, order=1, weight=0), # L1 penalty on xi\n",
    "    # NormPenalty(lambda: s.xi, order=2, weight=0), # L2 penalty on xi\n",
    "    # NormPenalty(lambda: s.eta, order=1, weight=0), # L1 penalty on eta\n",
    "    # NormPenalty(lambda: s.eta, order=2, weight=0), # L2 penalty on eta\n",
    "    budget := BudgetPenalty(lambda: s.theta, budget=10, order=2, beta=0.5, weight=25), # Budget penalty on theta, encourage sparsity\n",
    "    # CrossEntropyPenalty(lambda: s.theta, weight=0), # Element-wise entropy penalty on theta, encourage discreteness\n",
    "    KLDivergencePenalty(lambda: tuple(s.theta_pairs), binary=True, weight=15), # Pair-wise cross entropy on E, encourage connectivity\n",
    ")\n",
    "optimizer = torch.optim.SGD(s.parameters(), lr=1)\n",
    "scheduler = torch.optim.lr_scheduler.ExponentialLR(optimizer, gamma=1)\n",
    "\n",
    "# construct graph sampler trainer\n",
    "trainer[classes] = Trainer(sampler=s,\n",
    "                           discriminator=model,\n",
    "                           criterion=criterion,\n",
    "                           optimizer=optimizer,\n",
    "                           scheduler=scheduler,\n",
    "                           dataset=cyclicity,\n",
    "                           k_samples=16)"
   ]
  },
  {
   "cell_type": "code",
   "execution_count": 93,
   "id": "cee8d978ff9fc2ee",
   "metadata": {
    "collapsed": false,
    "ExecuteTime": {
     "end_time": "2023-10-30T06:36:01.723742Z",
     "start_time": "2023-10-30T06:36:01.688376Z"
    }
   },
   "outputs": [],
   "source": [
    "def penalty_cond(out, trainer, boundary_cls=classes):\n",
    "    return out[\"probs\"][0, classes].item() > 0.9\n"
   ]
  },
  {
   "cell_type": "code",
   "execution_count": 94,
   "id": "c1750f1b40d1d86b",
   "metadata": {
    "collapsed": false,
    "ExecuteTime": {
     "end_time": "2023-10-30T06:36:02.076490Z",
     "start_time": "2023-10-30T06:36:02.047838Z"
    }
   },
   "outputs": [],
   "source": [
    "def break_cond(out, trainer, boundary_cls=classes):\n",
    "    return all([\n",
    "        penalty_cond(out, trainer, boundary_cls),\n",
    "        trainer.sampler.expected_m < 15\n",
    "    ])"
   ]
  },
  {
   "cell_type": "code",
   "execution_count": 95,
   "id": "dcc3278f-a073-42e2-b446-0115025e391f",
   "metadata": {
    "ExecuteTime": {
     "end_time": "2023-10-30T06:36:03.780552Z",
     "start_time": "2023-10-30T06:36:02.536102Z"
    }
   },
   "outputs": [
    {
     "data": {
      "text/plain": "  0%|          | 0/2000 [00:00<?, ?it/s]",
      "application/vnd.jupyter.widget-view+json": {
       "version_major": 2,
       "version_minor": 0,
       "model_id": "01d109ed31f94e57a4858ccb3b369f71"
      }
     },
     "metadata": {},
     "output_type": "display_data"
    },
    {
     "data": {
      "text/plain": "True"
     },
     "execution_count": 95,
     "metadata": {},
     "output_type": "execute_result"
    }
   ],
   "source": [
    "trainer[2].train(2000, dynamic_penalty=budget, penalty_cond=penalty_cond, break_cond=break_cond)"
   ]
  },
  {
   "cell_type": "code",
   "execution_count": 96,
   "id": "10896fc3a8e2ea3d",
   "metadata": {
    "collapsed": false,
    "ExecuteTime": {
     "end_time": "2023-10-30T06:36:05.247982Z",
     "start_time": "2023-10-30T06:36:05.170827Z"
    }
   },
   "outputs": [
    {
     "name": "stdout",
     "output_type": "stream",
     "text": [
      "n=13 m=12\n",
      "logits=[-15.828670501708984, -7.78698205947876, 3.6513009071350098]\n",
      "probs=[3.4669809245713168e-09, 1.0774872862384655e-05, 0.9999892711639404]\n"
     ]
    },
    {
     "data": {
      "text/plain": "<Figure size 600x600 with 1 Axes>",
      "image/png": "[encoded data removed]"
     },
     "metadata": {},
     "output_type": "display_data"
    },
    {
     "data": {
      "text/plain": "<networkx.classes.graph.Graph at 0x2c7361a50>"
     },
     "execution_count": 96,
     "metadata": {},
     "output_type": "execute_result"
    }
   ],
   "source": [
    "trainer[2].evaluate(threshold=0.5, show=True)"
   ]
  },
  {
   "cell_type": "code",
   "execution_count": 98,
   "id": "b7c7549821169ebf",
   "metadata": {
    "collapsed": false,
    "ExecuteTime": {
     "end_time": "2023-10-30T06:36:17.862521Z",
     "start_time": "2023-10-30T06:36:17.789783Z"
    }
   },
   "outputs": [
    {
     "name": "stdout",
     "output_type": "stream",
     "text": [
      "n=15 m=14\n",
      "logits=[-8.079935073852539, -6.416947364807129, 3.0488319396972656]\n",
      "probs=[1.4682427718071267e-05, 7.745050243102014e-05, 0.9999078512191772]\n"
     ]
    },
    {
     "data": {
      "text/plain": "<Figure size 600x600 with 1 Axes>",
      "image/png": "[encoded data removed]"
     },
     "metadata": {},
     "output_type": "display_data"
    },
    {
     "data": {
      "text/plain": "<networkx.classes.graph.Graph at 0x2bae49ae0>"
     },
     "execution_count": 98,
     "metadata": {},
     "output_type": "execute_result"
    }
   ],
   "source": [
    "trainer[2].evaluate(bernoulli=True, show=True)"
   ]
  },
  {
   "cell_type": "markdown",
   "id": "750dd3e232b9e135",
   "metadata": {
    "collapsed": false
   },
   "source": [
    "# 0"
   ]
  },
  {
   "cell_type": "code",
   "execution_count": 129,
   "id": "38479a3c-3acf-40e4-bc4a-44c9befdf62b",
   "metadata": {
    "collapsed": false,
    "pycharm": {
     "name": "#%%\n"
    },
    "ExecuteTime": {
     "end_time": "2023-10-30T06:45:40.287070Z",
     "start_time": "2023-10-30T06:45:40.250409Z"
    }
   },
   "outputs": [],
   "source": [
    "classes = 0\n",
    "sampler[classes] = s = GraphSampler(max_nodes=20,\n",
    "                                    num_edge_cls=len(cyclicity.EDGE_CLS),\n",
    "                                    temperature=0.15,\n",
    "                                    learn_node_feat=False,\n",
    "                                    learn_edge_feat=True)\n",
    "\n",
    "criterion = nn.Sequential(\n",
    "    WeightedCriterion([\n",
    "        # dict(key=\"logits\", criterion=ClassScoreCriterion(class_idx=0), mode=\"maximize\", weight=0.5),\n",
    "        dict(key=\"logits\", criterion=ClassScoreCriterion(class_idx=classes), mode=\"maximize\", weight=1),\n",
    "        # dict(key=\"logits\", criterion=ClassScoreCriterion(class_idx=2), mode=\"maximize\", weight=-0.5),\n",
    "        # dict(key=\"logits\", criterion=ClassScoreCriterion(class_idx=3), mode=\"maximize\", weight=-0.5),\n",
    "        # dict(key=\"logits\", criterion=CrossEntropyBoundaryCriterion(class_a=0, class_b=1), weight=1),\n",
    "        # dict(key=\"logits\", criterion=MeanSquareBoundaryCriterion(class_a=0, class_b=1), weight=1),\n",
    "        # dict(key=\"logits\", criterion=DynamicBalancingCriterion(classes=classes), weight=5),\n",
    "        # dict(key=\"embeds\", criterion=EmbeddingCriterion(target_embedding=mean_embeds[classes[0]]), weight=10),\n",
    "        dict(key=\"embeds\", criterion=EmbeddingCriterion(target_embedding=mean_embeds[classes]), weight=1),\n",
    "    ]),\n",
    "    NormPenalty(lambda: s.omega, order=1, weight=1), # L1 penalty on omega, encourage uncertainty\n",
    "    NormPenalty(lambda: s.omega, order=2, weight=1), # L2 penalty on omega, avoid extreme probabilities\n",
    "    # NormPenalty(lambda: s.xi, order=1, weight=0), # L1 penalty on xi\n",
    "    # NormPenalty(lambda: s.xi, order=2, weight=0), # L2 penalty on xi\n",
    "    NormPenalty(lambda: s.eta, order=1, weight=1), # L1 penalty on eta\n",
    "    NormPenalty(lambda: s.eta, order=2, weight=1), # L2 penalty on eta\n",
    "    budget := BudgetPenalty(lambda: s.theta, budget=10, order=2, beta=0.5, weight=50), # Budget penalty on theta, encourage sparsity\n",
    "    # CrossEntropyPenalty(lambda: s.theta, weight=0), # Element-wise entropy penalty on theta, encourage discreteness\n",
    "    KLDivergencePenalty(lambda: tuple(s.theta_pairs), binary=True, weight=1), # Pair-wise cross entropy on E, encourage connectivity\n",
    ")\n",
    "optimizer = torch.optim.SGD(s.parameters(), lr=1)\n",
    "scheduler = torch.optim.lr_scheduler.ExponentialLR(optimizer, gamma=1)\n",
    "\n",
    "# construct graph sampler trainer\n",
    "trainer[classes] = Trainer(sampler=s,\n",
    "                           discriminator=model,\n",
    "                           criterion=criterion,\n",
    "                           optimizer=optimizer,\n",
    "                           scheduler=scheduler,\n",
    "                           dataset=cyclicity,\n",
    "                           k_samples=16)"
   ]
  },
  {
   "cell_type": "code",
   "execution_count": 130,
   "id": "5861e9b3266ebd02",
   "metadata": {
    "collapsed": false,
    "ExecuteTime": {
     "end_time": "2023-10-30T06:45:40.630754Z",
     "start_time": "2023-10-30T06:45:40.601758Z"
    }
   },
   "outputs": [],
   "source": [
    "def penalty_cond(out, trainer, boundary_cls=classes):\n",
    "    return out[\"probs\"][0, classes].item() > 0.9\n",
    "    \n",
    "def break_cond(out, trainer, boundary_cls=classes):\n",
    "    return all([\n",
    "        penalty_cond(out, trainer, boundary_cls),\n",
    "        trainer.sampler.expected_m < 15\n",
    "    ])"
   ]
  },
  {
   "cell_type": "code",
   "execution_count": 131,
   "id": "0cff7d90-c4be-44ac-ba36-25dc028640b7",
   "metadata": {
    "collapsed": false,
    "pycharm": {
     "name": "#%%\n"
    },
    "scrolled": true,
    "tags": [],
    "ExecuteTime": {
     "end_time": "2023-10-30T06:46:27.306369Z",
     "start_time": "2023-10-30T06:45:41.055571Z"
    }
   },
   "outputs": [
    {
     "data": {
      "text/plain": "  0%|          | 0/2000 [00:00<?, ?it/s]",
      "application/vnd.jupyter.widget-view+json": {
       "version_major": 2,
       "version_minor": 0,
       "model_id": "54bf22d090c545ce988a85368cbbcace"
      }
     },
     "metadata": {},
     "output_type": "display_data"
    },
    {
     "ename": "KeyboardInterrupt",
     "evalue": "",
     "output_type": "error",
     "traceback": [
      "\u001B[0;31m---------------------------------------------------------------------------\u001B[0m",
      "\u001B[0;31mKeyboardInterrupt\u001B[0m                         Traceback (most recent call last)",
      "Cell \u001B[0;32mIn[131], line 1\u001B[0m\n\u001B[0;32m----> 1\u001B[0m \u001B[43mtrainer\u001B[49m\u001B[43m[\u001B[49m\u001B[38;5;241;43m0\u001B[39;49m\u001B[43m]\u001B[49m\u001B[38;5;241;43m.\u001B[39;49m\u001B[43mtrain\u001B[49m\u001B[43m(\u001B[49m\u001B[38;5;241;43m2000\u001B[39;49m\u001B[43m,\u001B[49m\u001B[43m \u001B[49m\u001B[43mdynamic_penalty\u001B[49m\u001B[38;5;241;43m=\u001B[39;49m\u001B[43mbudget\u001B[49m\u001B[43m,\u001B[49m\u001B[43m \u001B[49m\u001B[43mpenalty_cond\u001B[49m\u001B[38;5;241;43m=\u001B[39;49m\u001B[43mpenalty_cond\u001B[49m\u001B[43m,\u001B[49m\u001B[43m \u001B[49m\u001B[43mbreak_cond\u001B[49m\u001B[38;5;241;43m=\u001B[39;49m\u001B[43mbreak_cond\u001B[49m\u001B[43m)\u001B[49m\n",
      "File \u001B[0;32m~/Workspaces/gnninterpreter/gnninterpreter/trainer.py:77\u001B[0m, in \u001B[0;36mTrainer.train\u001B[0;34m(self, iterations, dynamic_penalty, penalty_cond, break_cond)\u001B[0m\n\u001B[1;32m     75\u001B[0m     \u001B[38;5;28;01mbreak\u001B[39;00m\n\u001B[1;32m     76\u001B[0m loss \u001B[38;5;241m=\u001B[39m \u001B[38;5;28mself\u001B[39m\u001B[38;5;241m.\u001B[39mcriterion(cont_out)\u001B[38;5;241m.\u001B[39mmean()\n\u001B[0;32m---> 77\u001B[0m \u001B[43mloss\u001B[49m\u001B[38;5;241;43m.\u001B[39;49m\u001B[43mbackward\u001B[49m\u001B[43m(\u001B[49m\u001B[43m)\u001B[49m  \u001B[38;5;66;03m# Back-propagate gradients\u001B[39;00m\n\u001B[1;32m     79\u001B[0m \u001B[38;5;66;03m# print(self.sampler.omega.grad)\u001B[39;00m\n\u001B[1;32m     81\u001B[0m \u001B[38;5;28;01mfor\u001B[39;00m opt \u001B[38;5;129;01min\u001B[39;00m \u001B[38;5;28mself\u001B[39m\u001B[38;5;241m.\u001B[39moptimizer:\n",
      "File \u001B[0;32m/opt/homebrew/Caskroom/mambaforge/base/lib/python3.10/site-packages/torch/_tensor.py:487\u001B[0m, in \u001B[0;36mTensor.backward\u001B[0;34m(self, gradient, retain_graph, create_graph, inputs)\u001B[0m\n\u001B[1;32m    477\u001B[0m \u001B[38;5;28;01mif\u001B[39;00m has_torch_function_unary(\u001B[38;5;28mself\u001B[39m):\n\u001B[1;32m    478\u001B[0m     \u001B[38;5;28;01mreturn\u001B[39;00m handle_torch_function(\n\u001B[1;32m    479\u001B[0m         Tensor\u001B[38;5;241m.\u001B[39mbackward,\n\u001B[1;32m    480\u001B[0m         (\u001B[38;5;28mself\u001B[39m,),\n\u001B[0;32m   (...)\u001B[0m\n\u001B[1;32m    485\u001B[0m         inputs\u001B[38;5;241m=\u001B[39minputs,\n\u001B[1;32m    486\u001B[0m     )\n\u001B[0;32m--> 487\u001B[0m \u001B[43mtorch\u001B[49m\u001B[38;5;241;43m.\u001B[39;49m\u001B[43mautograd\u001B[49m\u001B[38;5;241;43m.\u001B[39;49m\u001B[43mbackward\u001B[49m\u001B[43m(\u001B[49m\n\u001B[1;32m    488\u001B[0m \u001B[43m    \u001B[49m\u001B[38;5;28;43mself\u001B[39;49m\u001B[43m,\u001B[49m\u001B[43m \u001B[49m\u001B[43mgradient\u001B[49m\u001B[43m,\u001B[49m\u001B[43m \u001B[49m\u001B[43mretain_graph\u001B[49m\u001B[43m,\u001B[49m\u001B[43m \u001B[49m\u001B[43mcreate_graph\u001B[49m\u001B[43m,\u001B[49m\u001B[43m \u001B[49m\u001B[43minputs\u001B[49m\u001B[38;5;241;43m=\u001B[39;49m\u001B[43minputs\u001B[49m\n\u001B[1;32m    489\u001B[0m \u001B[43m\u001B[49m\u001B[43m)\u001B[49m\n",
      "File \u001B[0;32m/opt/homebrew/Caskroom/mambaforge/base/lib/python3.10/site-packages/torch/autograd/__init__.py:200\u001B[0m, in \u001B[0;36mbackward\u001B[0;34m(tensors, grad_tensors, retain_graph, create_graph, grad_variables, inputs)\u001B[0m\n\u001B[1;32m    195\u001B[0m     retain_graph \u001B[38;5;241m=\u001B[39m create_graph\n\u001B[1;32m    197\u001B[0m \u001B[38;5;66;03m# The reason we repeat same the comment below is that\u001B[39;00m\n\u001B[1;32m    198\u001B[0m \u001B[38;5;66;03m# some Python versions print out the first line of a multi-line function\u001B[39;00m\n\u001B[1;32m    199\u001B[0m \u001B[38;5;66;03m# calls in the traceback and some print out the last line\u001B[39;00m\n\u001B[0;32m--> 200\u001B[0m \u001B[43mVariable\u001B[49m\u001B[38;5;241;43m.\u001B[39;49m\u001B[43m_execution_engine\u001B[49m\u001B[38;5;241;43m.\u001B[39;49m\u001B[43mrun_backward\u001B[49m\u001B[43m(\u001B[49m\u001B[43m  \u001B[49m\u001B[38;5;66;43;03m# Calls into the C++ engine to run the backward pass\u001B[39;49;00m\n\u001B[1;32m    201\u001B[0m \u001B[43m    \u001B[49m\u001B[43mtensors\u001B[49m\u001B[43m,\u001B[49m\u001B[43m \u001B[49m\u001B[43mgrad_tensors_\u001B[49m\u001B[43m,\u001B[49m\u001B[43m \u001B[49m\u001B[43mretain_graph\u001B[49m\u001B[43m,\u001B[49m\u001B[43m \u001B[49m\u001B[43mcreate_graph\u001B[49m\u001B[43m,\u001B[49m\u001B[43m \u001B[49m\u001B[43minputs\u001B[49m\u001B[43m,\u001B[49m\n\u001B[1;32m    202\u001B[0m \u001B[43m    \u001B[49m\u001B[43mallow_unreachable\u001B[49m\u001B[38;5;241;43m=\u001B[39;49m\u001B[38;5;28;43;01mTrue\u001B[39;49;00m\u001B[43m,\u001B[49m\u001B[43m \u001B[49m\u001B[43maccumulate_grad\u001B[49m\u001B[38;5;241;43m=\u001B[39;49m\u001B[38;5;28;43;01mTrue\u001B[39;49;00m\u001B[43m)\u001B[49m\n",
      "\u001B[0;31mKeyboardInterrupt\u001B[0m: "
     ]
    }
   ],
   "source": [
    "trainer[0].train(2000, dynamic_penalty=budget, penalty_cond=penalty_cond, break_cond=break_cond)"
   ]
  },
  {
   "cell_type": "code",
   "execution_count": 132,
   "id": "3ea01e28-f2a1-486b-ad1d-49b8513524dd",
   "metadata": {
    "collapsed": false,
    "pycharm": {
     "name": "#%%\n"
    },
    "scrolled": true,
    "tags": [],
    "ExecuteTime": {
     "end_time": "2023-10-30T06:46:30.247757Z",
     "start_time": "2023-10-30T06:46:30.164644Z"
    }
   },
   "outputs": [
    {
     "name": "stdout",
     "output_type": "stream",
     "text": [
      "n=17 m=28\n",
      "logits=[587.2236938476562, -609.8198852539062, -626.7744750976562]\n",
      "probs=[1.0, 0.0, 0.0]\n"
     ]
    },
    {
     "data": {
      "text/plain": "<Figure size 600x600 with 1 Axes>",
      "image/png": "[encoded data removed]"
     },
     "metadata": {},
     "output_type": "display_data"
    },
    {
     "data": {
      "text/plain": "<networkx.classes.graph.Graph at 0x2c71d74c0>"
     },
     "execution_count": 132,
     "metadata": {},
     "output_type": "execute_result"
    }
   ],
   "source": [
    "trainer[0].evaluate(threshold=0.5, show=True)"
   ]
  },
  {
   "cell_type": "code",
   "execution_count": 133,
   "id": "d7aff8a8-e5b5-41a7-bf8b-094702fb1ab8",
   "metadata": {
    "ExecuteTime": {
     "end_time": "2023-10-30T06:46:32.404193Z",
     "start_time": "2023-10-30T06:46:32.325938Z"
    }
   },
   "outputs": [
    {
     "name": "stdout",
     "output_type": "stream",
     "text": [
      "n=17 m=28\n",
      "logits=[587.2236938476562, -609.8198852539062, -626.7744750976562]\n",
      "probs=[1.0, 0.0, 0.0]\n"
     ]
    },
    {
     "data": {
      "text/plain": "<Figure size 600x600 with 1 Axes>",
      "image/png": "[encoded data removed]"
     },
     "metadata": {},
     "output_type": "display_data"
    },
    {
     "data": {
      "text/plain": "<networkx.classes.graph.Graph at 0x2c71d47c0>"
     },
     "execution_count": 133,
     "metadata": {},
     "output_type": "execute_result"
    }
   ],
   "source": [
    "trainer[0].evaluate(bernoulli=True, show=True)"
   ]
  },
  {
   "cell_type": "code",
   "execution_count": null,
   "id": "5f2ee2c4-fcdf-4a7e-be20-6a329b4909a4",
   "metadata": {},
   "outputs": [],
   "source": []
  }
 ],
 "metadata": {
  "kernelspec": {
   "display_name": "Python 3 (ipykernel)",
   "language": "python",
   "name": "python3"
  },
  "language_info": {
   "codemirror_mode": {
    "name": "ipython",
    "version": 3
   },
   "file_extension": ".py",
   "mimetype": "text/x-python",
   "name": "python",
   "nbconvert_exporter": "python",
   "pygments_lexer": "ipython3",
   "version": "3.10.12"
  },
  "widgets": {
   "application/vnd.jupyter.widget-state+json": {
    "state": {
     "07b43483463e4ae3b9a7b160d8938299": {
      "model_module": "@jupyter-widgets/controls",
      "model_module_version": "2.0.0",
      "model_name": "DescriptionStyleModel",
      "state": {
       "_model_module": "@jupyter-widgets/controls",
       "_model_name": "DescriptionStyleModel",
       "_view_name": "ErrorWidgetView",
       "description_width": "",
       "error": {},
       "msg": "Failed to load model class 'DescriptionStyleModel' from module '@jupyter-widgets/controls'"
      }
     },
     "0b87e5fec1ff41aeb4c9e624a222f89b": {
      "model_module": "@jupyter-widgets/base",
      "model_module_version": "2.0.0",
      "model_name": "LayoutModel",
      "state": {
       "_model_name": "LayoutModel",
       "_view_name": "ErrorWidgetView",
       "align_content": null,
       "align_items": null,
       "align_self": null,
       "border": null,
       "bottom": null,
       "display": null,
       "error": {},
       "flex": null,
       "flex_flow": null,
       "grid_area": null,
       "grid_auto_columns": null,
       "grid_auto_flow": null,
       "grid_auto_rows": null,
       "grid_column": null,
       "grid_gap": null,
       "grid_row": null,
       "grid_template_areas": null,
       "grid_template_columns": null,
       "grid_template_rows": null,
       "height": null,
       "justify_content": null,
       "justify_items": null,
       "left": null,
       "margin": null,
       "max_height": null,
       "max_width": null,
       "min_height": null,
       "min_width": null,
       "msg": "Failed to load model class 'LayoutModel' from module '@jupyter-widgets/base'",
       "object_fit": null,
       "object_position": null,
       "order": null,
       "overflow": null,
       "overflow_x": null,
       "overflow_y": null,
       "padding": null,
       "right": null,
       "top": null,
       "visibility": null,
       "width": null
      }
     },
     "0cf8ded72d3147d681343573a3c5c3ad": {
      "model_module": "@jupyter-widgets/base",
      "model_module_version": "2.0.0",
      "model_name": "LayoutModel",
      "state": {
       "_model_name": "LayoutModel",
       "_view_name": "ErrorWidgetView",
       "align_content": null,
       "align_items": null,
       "align_self": null,
       "border": null,
       "bottom": null,
       "display": null,
       "error": {},
       "flex": null,
       "flex_flow": null,
       "grid_area": null,
       "grid_auto_columns": null,
       "grid_auto_flow": null,
       "grid_auto_rows": null,
       "grid_column": null,
       "grid_gap": null,
       "grid_row": null,
       "grid_template_areas": null,
       "grid_template_columns": null,
       "grid_template_rows": null,
       "height": null,
       "justify_content": null,
       "justify_items": null,
       "left": null,
       "margin": null,
       "max_height": null,
       "max_width": null,
       "min_height": null,
       "min_width": null,
       "msg": "Failed to load model class 'LayoutModel' from module '@jupyter-widgets/base'",
       "object_fit": null,
       "object_position": null,
       "order": null,
       "overflow": null,
       "overflow_x": null,
       "overflow_y": null,
       "padding": null,
       "right": null,
       "top": null,
       "visibility": null,
       "width": null
      }
     },
     "0ef53961cc214c23a5cc520142ed3530": {
      "model_module": "@jupyter-widgets/controls",
      "model_module_version": "2.0.0",
      "model_name": "DescriptionStyleModel",
      "state": {
       "_model_module": "@jupyter-widgets/controls",
       "_model_name": "DescriptionStyleModel",
       "_view_name": "ErrorWidgetView",
       "description_width": "",
       "error": {},
       "msg": "Failed to load model class 'DescriptionStyleModel' from module '@jupyter-widgets/controls'"
      }
     },
     "10730754cf7a43eca9820d10763e9a41": {
      "model_module": "@jupyter-widgets/controls",
      "model_module_version": "2.0.0",
      "model_name": "HTMLModel",
      "state": {
       "_model_module": "@jupyter-widgets/controls",
       "_model_name": "HTMLModel",
       "_view_name": "ErrorWidgetView",
       "description": "",
       "description_tooltip": null,
       "error": {},
       "layout": "IPY_MODEL_1958cff3714b451e95a8fbc5e76541b6",
       "msg": "Failed to load model class 'HTMLModel' from module '@jupyter-widgets/controls'",
       "placeholder": "​",
       "style": "IPY_MODEL_0ef53961cc214c23a5cc520142ed3530",
       "value": " 11531/11531 [00:33&lt;00:00, 255.26it/s]"
      }
     },
     "14391e150296461ca407c9ff78c5ae7e": {
      "model_module": "@jupyter-widgets/controls",
      "model_module_version": "2.0.0",
      "model_name": "DescriptionStyleModel",
      "state": {
       "_model_module": "@jupyter-widgets/controls",
       "_model_name": "DescriptionStyleModel",
       "_view_name": "ErrorWidgetView",
       "description_width": "",
       "error": {},
       "msg": "Failed to load model class 'DescriptionStyleModel' from module '@jupyter-widgets/controls'"
      }
     },
     "1958cff3714b451e95a8fbc5e76541b6": {
      "model_module": "@jupyter-widgets/base",
      "model_module_version": "2.0.0",
      "model_name": "LayoutModel",
      "state": {
       "_model_name": "LayoutModel",
       "_view_name": "ErrorWidgetView",
       "align_content": null,
       "align_items": null,
       "align_self": null,
       "border": null,
       "bottom": null,
       "display": null,
       "error": {},
       "flex": null,
       "flex_flow": null,
       "grid_area": null,
       "grid_auto_columns": null,
       "grid_auto_flow": null,
       "grid_auto_rows": null,
       "grid_column": null,
       "grid_gap": null,
       "grid_row": null,
       "grid_template_areas": null,
       "grid_template_columns": null,
       "grid_template_rows": null,
       "height": null,
       "justify_content": null,
       "justify_items": null,
       "left": null,
       "margin": null,
       "max_height": null,
       "max_width": null,
       "min_height": null,
       "min_width": null,
       "msg": "Failed to load model class 'LayoutModel' from module '@jupyter-widgets/base'",
       "object_fit": null,
       "object_position": null,
       "order": null,
       "overflow": null,
       "overflow_x": null,
       "overflow_y": null,
       "padding": null,
       "right": null,
       "top": null,
       "visibility": null,
       "width": null
      }
     },
     "218cfca13d80402ab877a02fc12211cb": {
      "model_module": "@jupyter-widgets/base",
      "model_module_version": "2.0.0",
      "model_name": "LayoutModel",
      "state": {
       "_model_name": "LayoutModel",
       "_view_name": "ErrorWidgetView",
       "align_content": null,
       "align_items": null,
       "align_self": null,
       "border": null,
       "bottom": null,
       "display": null,
       "error": {},
       "flex": null,
       "flex_flow": null,
       "grid_area": null,
       "grid_auto_columns": null,
       "grid_auto_flow": null,
       "grid_auto_rows": null,
       "grid_column": null,
       "grid_gap": null,
       "grid_row": null,
       "grid_template_areas": null,
       "grid_template_columns": null,
       "grid_template_rows": null,
       "height": null,
       "justify_content": null,
       "justify_items": null,
       "left": null,
       "margin": null,
       "max_height": null,
       "max_width": null,
       "min_height": null,
       "min_width": null,
       "msg": "Failed to load model class 'LayoutModel' from module '@jupyter-widgets/base'",
       "object_fit": null,
       "object_position": null,
       "order": null,
       "overflow": null,
       "overflow_x": null,
       "overflow_y": null,
       "padding": null,
       "right": null,
       "top": null,
       "visibility": null,
       "width": null
      }
     },
     "26ccacccb90843b7ac727e9595ab1596": {
      "model_module": "@jupyter-widgets/controls",
      "model_module_version": "2.0.0",
      "model_name": "HBoxModel",
      "state": {
       "_model_module": "@jupyter-widgets/controls",
       "_model_name": "HBoxModel",
       "_view_name": "ErrorWidgetView",
       "box_style": "",
       "children": [
        "IPY_MODEL_34fa3b9e3ba74ee399312caeceb99f69",
        "IPY_MODEL_54daa2fea4ec45d0a23452074efd359e",
        "IPY_MODEL_10730754cf7a43eca9820d10763e9a41"
       ],
       "error": {},
       "layout": "IPY_MODEL_6d28c2f4d48043aa90f29bb764583bf9",
       "msg": "Failed to load model class 'HBoxModel' from module '@jupyter-widgets/controls'"
      }
     },
     "34fa3b9e3ba74ee399312caeceb99f69": {
      "model_module": "@jupyter-widgets/controls",
      "model_module_version": "2.0.0",
      "model_name": "HTMLModel",
      "state": {
       "_model_module": "@jupyter-widgets/controls",
       "_model_name": "HTMLModel",
       "_view_name": "ErrorWidgetView",
       "description": "",
       "description_tooltip": null,
       "error": {},
       "layout": "IPY_MODEL_e9446ec84ebf43ada6872814f2acb0bb",
       "msg": "Failed to load model class 'HTMLModel' from module '@jupyter-widgets/controls'",
       "placeholder": "​",
       "style": "IPY_MODEL_690ee1b6a3cf43adb5164f200cad4fb4",
       "value": "100%"
      }
     },
     "45e44448b1ea450db792b21878b84f01": {
      "model_module": "@jupyter-widgets/controls",
      "model_module_version": "2.0.0",
      "model_name": "ProgressStyleModel",
      "state": {
       "_model_module": "@jupyter-widgets/controls",
       "_model_name": "ProgressStyleModel",
       "_view_name": "ErrorWidgetView",
       "bar_color": null,
       "description_width": "",
       "error": {},
       "msg": "Failed to load model class 'ProgressStyleModel' from module '@jupyter-widgets/controls'"
      }
     },
     "54daa2fea4ec45d0a23452074efd359e": {
      "model_module": "@jupyter-widgets/controls",
      "model_module_version": "2.0.0",
      "model_name": "FloatProgressModel",
      "state": {
       "_model_module": "@jupyter-widgets/controls",
       "_model_name": "FloatProgressModel",
       "_view_name": "ErrorWidgetView",
       "bar_style": "success",
       "description": "",
       "description_tooltip": null,
       "error": {},
       "layout": "IPY_MODEL_218cfca13d80402ab877a02fc12211cb",
       "max": 11531,
       "min": 0,
       "msg": "Failed to load model class 'FloatProgressModel' from module '@jupyter-widgets/controls'",
       "orientation": "horizontal",
       "style": "IPY_MODEL_9706bfc895af4431a44ab22509435387",
       "value": 11531
      }
     },
     "690ee1b6a3cf43adb5164f200cad4fb4": {
      "model_module": "@jupyter-widgets/controls",
      "model_module_version": "2.0.0",
      "model_name": "DescriptionStyleModel",
      "state": {
       "_model_module": "@jupyter-widgets/controls",
       "_model_name": "DescriptionStyleModel",
       "_view_name": "ErrorWidgetView",
       "description_width": "",
       "error": {},
       "msg": "Failed to load model class 'DescriptionStyleModel' from module '@jupyter-widgets/controls'"
      }
     },
     "6d28c2f4d48043aa90f29bb764583bf9": {
      "model_module": "@jupyter-widgets/base",
      "model_module_version": "2.0.0",
      "model_name": "LayoutModel",
      "state": {
       "_model_name": "LayoutModel",
       "_view_name": "ErrorWidgetView",
       "align_content": null,
       "align_items": null,
       "align_self": null,
       "border": null,
       "bottom": null,
       "display": null,
       "error": {},
       "flex": null,
       "flex_flow": null,
       "grid_area": null,
       "grid_auto_columns": null,
       "grid_auto_flow": null,
       "grid_auto_rows": null,
       "grid_column": null,
       "grid_gap": null,
       "grid_row": null,
       "grid_template_areas": null,
       "grid_template_columns": null,
       "grid_template_rows": null,
       "height": null,
       "justify_content": null,
       "justify_items": null,
       "left": null,
       "margin": null,
       "max_height": null,
       "max_width": null,
       "min_height": null,
       "min_width": null,
       "msg": "Failed to load model class 'LayoutModel' from module '@jupyter-widgets/base'",
       "object_fit": null,
       "object_position": null,
       "order": null,
       "overflow": null,
       "overflow_x": null,
       "overflow_y": null,
       "padding": null,
       "right": null,
       "top": null,
       "visibility": null,
       "width": null
      }
     },
     "6e12fbb8b0f349e09c32c14601a1eddc": {
      "model_module": "@jupyter-widgets/controls",
      "model_module_version": "2.0.0",
      "model_name": "HTMLModel",
      "state": {
       "_model_module": "@jupyter-widgets/controls",
       "_model_name": "HTMLModel",
       "_view_name": "ErrorWidgetView",
       "description": "",
       "description_tooltip": null,
       "error": {},
       "layout": "IPY_MODEL_0cf8ded72d3147d681343573a3c5c3ad",
       "msg": "Failed to load model class 'HTMLModel' from module '@jupyter-widgets/controls'",
       "placeholder": "​",
       "style": "IPY_MODEL_07b43483463e4ae3b9a7b160d8938299",
       "value": "Loading graphs: 100%"
      }
     },
     "7821741103e94b03923bba81dbc4c2a9": {
      "model_module": "@jupyter-widgets/controls",
      "model_module_version": "2.0.0",
      "model_name": "HTMLModel",
      "state": {
       "_model_module": "@jupyter-widgets/controls",
       "_model_name": "HTMLModel",
       "_view_name": "ErrorWidgetView",
       "description": "",
       "description_tooltip": null,
       "error": {},
       "layout": "IPY_MODEL_0b87e5fec1ff41aeb4c9e624a222f89b",
       "msg": "Failed to load model class 'HTMLModel' from module '@jupyter-widgets/controls'",
       "placeholder": "​",
       "style": "IPY_MODEL_14391e150296461ca407c9ff78c5ae7e",
       "value": " 11534/11534 [00:56&lt;00:00, 247.95it/s]"
      }
     },
     "9706bfc895af4431a44ab22509435387": {
      "model_module": "@jupyter-widgets/controls",
      "model_module_version": "2.0.0",
      "model_name": "ProgressStyleModel",
      "state": {
       "_model_module": "@jupyter-widgets/controls",
       "_model_name": "ProgressStyleModel",
       "_view_name": "ErrorWidgetView",
       "bar_color": null,
       "description_width": "",
       "error": {},
       "msg": "Failed to load model class 'ProgressStyleModel' from module '@jupyter-widgets/controls'"
      }
     },
     "9b5d28e41af94931b674dcd1ddf14562": {
      "model_module": "@jupyter-widgets/base",
      "model_module_version": "2.0.0",
      "model_name": "LayoutModel",
      "state": {
       "_model_name": "LayoutModel",
       "_view_name": "ErrorWidgetView",
       "align_content": null,
       "align_items": null,
       "align_self": null,
       "border": null,
       "bottom": null,
       "display": null,
       "error": {},
       "flex": null,
       "flex_flow": null,
       "grid_area": null,
       "grid_auto_columns": null,
       "grid_auto_flow": null,
       "grid_auto_rows": null,
       "grid_column": null,
       "grid_gap": null,
       "grid_row": null,
       "grid_template_areas": null,
       "grid_template_columns": null,
       "grid_template_rows": null,
       "height": null,
       "justify_content": null,
       "justify_items": null,
       "left": null,
       "margin": null,
       "max_height": null,
       "max_width": null,
       "min_height": null,
       "min_width": null,
       "msg": "Failed to load model class 'LayoutModel' from module '@jupyter-widgets/base'",
       "object_fit": null,
       "object_position": null,
       "order": null,
       "overflow": null,
       "overflow_x": null,
       "overflow_y": null,
       "padding": null,
       "right": null,
       "top": null,
       "visibility": null,
       "width": null
      }
     },
     "c5606e09c1de4100be70fc1ef5fb367d": {
      "model_module": "@jupyter-widgets/base",
      "model_module_version": "2.0.0",
      "model_name": "LayoutModel",
      "state": {
       "_model_name": "LayoutModel",
       "_view_name": "ErrorWidgetView",
       "align_content": null,
       "align_items": null,
       "align_self": null,
       "border": null,
       "bottom": null,
       "display": null,
       "error": {},
       "flex": null,
       "flex_flow": null,
       "grid_area": null,
       "grid_auto_columns": null,
       "grid_auto_flow": null,
       "grid_auto_rows": null,
       "grid_column": null,
       "grid_gap": null,
       "grid_row": null,
       "grid_template_areas": null,
       "grid_template_columns": null,
       "grid_template_rows": null,
       "height": null,
       "justify_content": null,
       "justify_items": null,
       "left": null,
       "margin": null,
       "max_height": null,
       "max_width": null,
       "min_height": null,
       "min_width": null,
       "msg": "Failed to load model class 'LayoutModel' from module '@jupyter-widgets/base'",
       "object_fit": null,
       "object_position": null,
       "order": null,
       "overflow": null,
       "overflow_x": null,
       "overflow_y": null,
       "padding": null,
       "right": null,
       "top": null,
       "visibility": null,
       "width": null
      }
     },
     "ce6b2459d7fb430d9b0a8820031189de": {
      "model_module": "@jupyter-widgets/controls",
      "model_module_version": "2.0.0",
      "model_name": "FloatProgressModel",
      "state": {
       "_model_module": "@jupyter-widgets/controls",
       "_model_name": "FloatProgressModel",
       "_view_name": "ErrorWidgetView",
       "bar_style": "success",
       "description": "",
       "description_tooltip": null,
       "error": {},
       "layout": "IPY_MODEL_c5606e09c1de4100be70fc1ef5fb367d",
       "max": 11534,
       "min": 0,
       "msg": "Failed to load model class 'FloatProgressModel' from module '@jupyter-widgets/controls'",
       "orientation": "horizontal",
       "style": "IPY_MODEL_45e44448b1ea450db792b21878b84f01",
       "value": 11534
      }
     },
     "e9446ec84ebf43ada6872814f2acb0bb": {
      "model_module": "@jupyter-widgets/base",
      "model_module_version": "2.0.0",
      "model_name": "LayoutModel",
      "state": {
       "_model_name": "LayoutModel",
       "_view_name": "ErrorWidgetView",
       "align_content": null,
       "align_items": null,
       "align_self": null,
       "border": null,
       "bottom": null,
       "display": null,
       "error": {},
       "flex": null,
       "flex_flow": null,
       "grid_area": null,
       "grid_auto_columns": null,
       "grid_auto_flow": null,
       "grid_auto_rows": null,
       "grid_column": null,
       "grid_gap": null,
       "grid_row": null,
       "grid_template_areas": null,
       "grid_template_columns": null,
       "grid_template_rows": null,
       "height": null,
       "justify_content": null,
       "justify_items": null,
       "left": null,
       "margin": null,
       "max_height": null,
       "max_width": null,
       "min_height": null,
       "min_width": null,
       "msg": "Failed to load model class 'LayoutModel' from module '@jupyter-widgets/base'",
       "object_fit": null,
       "object_position": null,
       "order": null,
       "overflow": null,
       "overflow_x": null,
       "overflow_y": null,
       "padding": null,
       "right": null,
       "top": null,
       "visibility": null,
       "width": null
      }
     },
     "f64c7011415b4ea3a3043c3a81009193": {
      "model_module": "@jupyter-widgets/controls",
      "model_module_version": "2.0.0",
      "model_name": "HBoxModel",
      "state": {
       "_model_module": "@jupyter-widgets/controls",
       "_model_name": "HBoxModel",
       "_view_name": "ErrorWidgetView",
       "box_style": "",
       "children": [
        "IPY_MODEL_6e12fbb8b0f349e09c32c14601a1eddc",
        "IPY_MODEL_ce6b2459d7fb430d9b0a8820031189de",
        "IPY_MODEL_7821741103e94b03923bba81dbc4c2a9"
       ],
       "error": {},
       "layout": "IPY_MODEL_9b5d28e41af94931b674dcd1ddf14562",
       "msg": "Failed to load model class 'HBoxModel' from module '@jupyter-widgets/controls'"
      }
     }
    },
    "version_major": 2,
    "version_minor": 0
   }
  }
 },
 "nbformat": 4,
 "nbformat_minor": 5
}
