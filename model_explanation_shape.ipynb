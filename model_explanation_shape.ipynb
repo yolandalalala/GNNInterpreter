{
 "cells": [
  {
   "cell_type": "code",
   "execution_count": 1,
   "id": "1a91b813",
   "metadata": {
    "collapsed": false,
    "pycharm": {
     "name": "#%%\n"
    },
    "ExecuteTime": {
     "end_time": "2023-10-30T06:51:38.779830Z",
     "start_time": "2023-10-30T06:51:38.755189Z"
    }
   },
   "outputs": [],
   "source": [
    "%load_ext autoreload\n",
    "%autoreload 2"
   ]
  },
  {
   "cell_type": "code",
   "execution_count": 2,
   "id": "c7f4188d",
   "metadata": {
    "collapsed": false,
    "pycharm": {
     "name": "#%%\n"
    },
    "ExecuteTime": {
     "end_time": "2023-10-30T06:51:40.581197Z",
     "start_time": "2023-10-30T06:51:38.777512Z"
    }
   },
   "outputs": [],
   "source": [
    "from gnninterpreter import *"
   ]
  },
  {
   "cell_type": "code",
   "execution_count": 3,
   "id": "2ab76fb3",
   "metadata": {
    "collapsed": false,
    "pycharm": {
     "name": "#%%\n"
    },
    "ExecuteTime": {
     "end_time": "2023-10-30T06:51:40.770466Z",
     "start_time": "2023-10-30T06:51:40.581360Z"
    }
   },
   "outputs": [],
   "source": [
    "import numpy as np\n",
    "import matplotlib.pyplot as plt\n",
    "\n",
    "from tqdm.auto import tqdm, trange\n",
    "\n",
    "import torch\n",
    "from torch import nn\n",
    "import torch_geometric as pyg\n",
    "from torchmetrics import F1Score"
   ]
  },
  {
   "cell_type": "markdown",
   "id": "395a07f1",
   "metadata": {},
   "source": [
    "# Shape"
   ]
  },
  {
   "cell_type": "code",
   "execution_count": 11,
   "id": "52747602",
   "metadata": {
    "collapsed": false,
    "pycharm": {
     "name": "#%%\n"
    },
    "ExecuteTime": {
     "end_time": "2023-10-30T09:23:40.929820Z",
     "start_time": "2023-10-30T09:23:39.850070Z"
    }
   },
   "outputs": [],
   "source": [
    "shape = ShapeDataset(seed=12345)\n",
    "k_fold = 10\n",
    "train_data = shape[len(shape)//k_fold:]\n",
    "val_data = shape[:len(shape)//k_fold]\n",
    "train_loader = pyg.loader.DataLoader(train_data, batch_size=32, shuffle=True)\n",
    "val_loader = pyg.loader.DataLoader(val_data, batch_size=32, shuffle=False)"
   ]
  },
  {
   "cell_type": "code",
   "execution_count": 12,
   "id": "cc13aec4-3010-481b-89e1-dbc75b4ef012",
   "metadata": {
    "ExecuteTime": {
     "end_time": "2023-10-30T09:23:41.372215Z",
     "start_time": "2023-10-30T09:23:40.922498Z"
    }
   },
   "outputs": [
    {
     "data": {
      "text/plain": "{'mean_n': 30.1455,\n 'mean_m': 71.81625,\n 'std_n': 16.350529953185003,\n 'std_m': 66.97280967629699}"
     },
     "execution_count": 12,
     "metadata": {},
     "output_type": "execute_result"
    }
   ],
   "source": [
    "shape.describe()"
   ]
  },
  {
   "cell_type": "markdown",
   "id": "c004f55d-eae8-44af-983e-8ecd3aa9115b",
   "metadata": {},
   "source": [
    "# Train Model"
   ]
  },
  {
   "cell_type": "code",
   "execution_count": 62,
   "id": "4c1617a4-666d-43de-8f0e-c5301b74375f",
   "metadata": {
    "collapsed": false,
    "pycharm": {
     "name": "#%%\n"
    },
    "ExecuteTime": {
     "end_time": "2023-10-30T09:45:00.568404Z",
     "start_time": "2023-10-30T09:45:00.495665Z"
    }
   },
   "outputs": [],
   "source": [
    "model = GCNClassifier(node_features=len(shape.NODE_CLS),\n",
    "                      num_classes=len(shape.GRAPH_CLS),\n",
    "    hidden_channels=64,\n",
    "    num_layers=4)"
   ]
  },
  {
   "cell_type": "code",
   "execution_count": 63,
   "id": "3e938a78-8975-41ee-8cad-bdb2cc711296",
   "metadata": {
    "collapsed": false,
    "pycharm": {
     "name": "#%%\n"
    },
    "ExecuteTime": {
     "end_time": "2023-10-30T09:45:11.890277Z",
     "start_time": "2023-10-30T09:45:11.845486Z"
    }
   },
   "outputs": [],
   "source": [
    "optimizer = torch.optim.AdamW(model.parameters(), lr=0.001)\n",
    "criterion = nn.CrossEntropyLoss()"
   ]
  },
  {
   "cell_type": "code",
   "execution_count": 64,
   "id": "7cc78d48-f44b-4775-9589-864611bed0c4",
   "metadata": {
    "pycharm": {
     "name": "#%%\n"
    },
    "scrolled": true,
    "tags": [],
    "ExecuteTime": {
     "end_time": "2023-10-30T09:45:12.522182Z",
     "start_time": "2023-10-30T09:45:12.493687Z"
    }
   },
   "outputs": [],
   "source": [
    "def train():\n",
    "    model.train()\n",
    "    losses = []\n",
    "    for batch in tqdm(train_loader, position=1, leave=False, disable=True):\n",
    "        model.zero_grad()  # Clear gradients.\n",
    "        out = model(batch)  # Perform a single forward pass.\n",
    "        loss = criterion(out['logits'], batch.y)  # Compute the loss.\n",
    "        loss.backward()  # Derive gradients.\n",
    "        optimizer.step()  # Update parameters based on gradients.\n",
    "        losses.append(loss.item())\n",
    "    return np.mean(losses)\n",
    "\n",
    "@torch.no_grad()\n",
    "def test(loader):\n",
    "    f1 = F1Score(task=\"multiclass\", num_classes=len(motif.GRAPH_CLS), average=None)\n",
    "    model.eval()\n",
    "    for batch in tqdm(loader, position=1, leave=False, disable=True):\n",
    "        f1(model(batch)['logits'], batch.y)\n",
    "    return dict(zip(shape.GRAPH_CLS.values(), f1.compute().tolist()))\n",
    "\n",
    "@torch.no_grad()\n",
    "def gt_score():\n",
    "    batch = pyg.data.Batch.from_data_list([shape.motifs[1]])\n",
    "    neg, pos = model(batch).mean(dim=0).numpy()\n",
    "    return neg, pos"
   ]
  },
  {
   "cell_type": "code",
   "execution_count": null,
   "id": "1eaf7202-9c73-4823-9ea0-7db524818c7d",
   "metadata": {
    "pycharm": {
     "name": "#%%\n"
    },
    "scrolled": true,
    "tags": []
   },
   "outputs": [],
   "source": [
    "for epoch in trange(16, position=0, leave=True, disable=True):\n",
    "    train_loss = train()\n",
    "    train_acc = test(train_loader)\n",
    "    test_acc = test(val_loader)\n",
    "    # neg, pos = gt_score()\n",
    "    print(\n",
    "        f'Epoch: {epoch:03d}, '\n",
    "        f'Train Loss: {train_loss:.4f}, '\n",
    "        f'Train Acc: {train_acc}, '\n",
    "        f'Test Acc: {test_acc}, '\n",
    "        # f'GT Pos Score: {pos:.4f}, '\n",
    "        # f'GT Neg Score: {neg:.4f}, '\n",
    "    )"
   ]
  },
  {
   "cell_type": "code",
   "execution_count": 66,
   "id": "3a8139b5-424e-484e-a567-b325f015ccaf",
   "metadata": {
    "ExecuteTime": {
     "end_time": "2023-10-30T09:45:22.933485Z",
     "start_time": "2023-10-30T09:45:22.899726Z"
    }
   },
   "outputs": [
    {
     "data": {
      "text/plain": "<All keys matched successfully>"
     },
     "execution_count": 66,
     "metadata": {},
     "output_type": "execute_result"
    }
   ],
   "source": [
    "# torch.save(model.state_dict(), 'shape_gnn_64x4.pt')\n",
    "model.load_state_dict(torch.load('shape_simple_gcn.pt'))"
   ]
  },
  {
   "cell_type": "code",
   "execution_count": 68,
   "id": "6645ce41-8d77-4945-a474-561843ee8109",
   "metadata": {
    "ExecuteTime": {
     "end_time": "2023-10-30T09:45:58.272468Z",
     "start_time": "2023-10-30T09:45:56.907911Z"
    }
   },
   "outputs": [
    {
     "data": {
      "text/plain": "{'random': 0.9495508074760437,\n 'lollipop': 0.9366196990013123,\n 'wheel': 0.9874301552772522,\n 'grid': 0.9427810907363892,\n 'star': 1.0}"
     },
     "execution_count": 68,
     "metadata": {},
     "output_type": "execute_result"
    }
   ],
   "source": [
    "test(train_loader)"
   ]
  },
  {
   "cell_type": "code",
   "execution_count": 69,
   "id": "feee1f5b-d7e1-440c-bb6a-7fe4daf96956",
   "metadata": {
    "ExecuteTime": {
     "end_time": "2023-10-30T09:46:00.656552Z",
     "start_time": "2023-10-30T09:46:00.483841Z"
    }
   },
   "outputs": [
    {
     "data": {
      "text/plain": "{'random': 0.9383561611175537,\n 'lollipop': 0.921135663986206,\n 'wheel': 0.988950252532959,\n 'grid': 0.9296635985374451,\n 'star': 1.0}"
     },
     "execution_count": 69,
     "metadata": {},
     "output_type": "execute_result"
    }
   ],
   "source": [
    "test(val_loader)"
   ]
  },
  {
   "cell_type": "markdown",
   "id": "82f24dcd-c153-4c7c-8005-cca6c59b39ef",
   "metadata": {},
   "source": [
    "# Generate Average Embedding"
   ]
  },
  {
   "cell_type": "code",
   "execution_count": 70,
   "id": "d4a27bdf-0586-4652-9989-53b8257bb2e9",
   "metadata": {
    "ExecuteTime": {
     "end_time": "2023-10-30T09:46:13.570531Z",
     "start_time": "2023-10-30T09:46:06.021090Z"
    }
   },
   "outputs": [
    {
     "data": {
      "text/plain": "  0%|          | 0/8000 [00:00<?, ?it/s]",
      "application/vnd.jupyter.widget-view+json": {
       "version_major": 2,
       "version_minor": 0,
       "model_id": "349c2d9abeee4887a7facfac5799cc2b"
      }
     },
     "metadata": {},
     "output_type": "display_data"
    }
   ],
   "source": [
    "embeds = [[] for _ in range(len(shape.GRAPH_CLS))]\n",
    "with torch.no_grad():\n",
    "    for data in tqdm(shape):\n",
    "        embeds[data.y.item()].append(model.eval()(pyg.data.Batch.from_data_list([data]))[\"embeds\"].numpy())\n",
    "mean_embeds = [torch.tensor(np.concatenate(e).mean(axis=0)) for e in embeds]"
   ]
  },
  {
   "cell_type": "code",
   "execution_count": 71,
   "id": "2c966c81e3166b9e",
   "metadata": {
    "collapsed": false,
    "ExecuteTime": {
     "end_time": "2023-10-30T09:46:14.456489Z",
     "start_time": "2023-10-30T09:46:14.428778Z"
    }
   },
   "outputs": [],
   "source": [
    "trainer = {}\n",
    "sampler = {}"
   ]
  },
  {
   "cell_type": "markdown",
   "id": "383c9c7a23eb249f",
   "metadata": {
    "collapsed": false
   },
   "source": [
    "# 1"
   ]
  },
  {
   "cell_type": "code",
   "execution_count": 97,
   "id": "20c1d36b425af72d",
   "metadata": {
    "collapsed": false,
    "ExecuteTime": {
     "end_time": "2023-10-30T09:48:22.396744Z",
     "start_time": "2023-10-30T09:48:22.364826Z"
    }
   },
   "outputs": [],
   "source": [
    "classes = 1\n",
    "sampler[classes] = s = GraphSampler(max_nodes=25,\n",
    "                                    temperature=0.15,\n",
    "                                    learn_node_feat=False)\n",
    "\n",
    "criterion = nn.Sequential(\n",
    "    WeightedCriterion([\n",
    "        dict(key=\"logits\", criterion=ClassScoreCriterion(class_idx=classes), mode=\"maximize\", weight=1),\n",
    "        dict(key=\"embeds\", criterion=EmbeddingCriterion(target_embedding=mean_embeds[classes]), weight=5),\n",
    "    ]),\n",
    "    NormPenalty(lambda: s.omega, order=1, weight=1), # L1 penalty on omega, encourage uncertainty\n",
    "    NormPenalty(lambda: s.omega, order=2, weight=1), # L2 penalty on omega, avoid extreme probabilities\n",
    "    # NormPenalty(lambda: s.xi, order=1, weight=0), # L1 penalty on xi\n",
    "    # NormPenalty(lambda: s.xi, order=2, weight=0), # L2 penalty on xi\n",
    "    budget := BudgetPenalty(lambda: s.theta, budget=10, order=2, beta=0.5, weight=0), # Budget penalty on theta, encourage sparsity\n",
    "    KLDivergencePenalty(lambda: tuple(s.theta_pairs), binary=True, weight=15), # Pair-wise cross entropy on E, encourage connectivity\n",
    ")\n",
    "optimizer = torch.optim.SGD(s.parameters(), lr=1)\n",
    "scheduler = torch.optim.lr_scheduler.ExponentialLR(optimizer, gamma=1)\n",
    "\n",
    "# construct graph sampler trainer\n",
    "trainer[classes] = Trainer(sampler=s,\n",
    "                  discriminator=model,\n",
    "                  criterion=criterion,\n",
    "                  optimizer=optimizer,\n",
    "                  scheduler=scheduler,\n",
    "                  dataset=shape,\n",
    "                  k_samples=16)"
   ]
  },
  {
   "cell_type": "code",
   "execution_count": 98,
   "id": "91b8c45bb38b58e",
   "metadata": {
    "collapsed": false,
    "ExecuteTime": {
     "end_time": "2023-10-30T09:48:23.805245Z",
     "start_time": "2023-10-30T09:48:23.776069Z"
    }
   },
   "outputs": [],
   "source": [
    "def penalty_cond(out, trainer, boundary_cls=classes):\n",
    "    return out[\"probs\"][0, classes].item() > 0.9\n"
   ]
  },
  {
   "cell_type": "code",
   "execution_count": 99,
   "id": "bc959668d833b3b6",
   "metadata": {
    "collapsed": false,
    "ExecuteTime": {
     "end_time": "2023-10-30T09:48:24.082264Z",
     "start_time": "2023-10-30T09:48:24.048381Z"
    }
   },
   "outputs": [],
   "source": [
    "def break_cond(out, trainer, boundary_cls=classes):\n",
    "    return all([\n",
    "        penalty_cond(out, trainer, boundary_cls),\n",
    "        trainer.sampler.expected_m < 30\n",
    "    ])"
   ]
  },
  {
   "cell_type": "code",
   "execution_count": 100,
   "id": "4c0bd9796d611c52",
   "metadata": {
    "collapsed": false,
    "ExecuteTime": {
     "end_time": "2023-10-30T09:48:31.422656Z",
     "start_time": "2023-10-30T09:48:24.505413Z"
    }
   },
   "outputs": [
    {
     "data": {
      "text/plain": "  0%|          | 0/2000 [00:00<?, ?it/s]",
      "application/vnd.jupyter.widget-view+json": {
       "version_major": 2,
       "version_minor": 0,
       "model_id": "1ebcab447f6242b0be60154d494fd3a6"
      }
     },
     "metadata": {},
     "output_type": "display_data"
    },
    {
     "data": {
      "text/plain": "True"
     },
     "execution_count": 100,
     "metadata": {},
     "output_type": "execute_result"
    }
   ],
   "source": [
    "trainer[1].train(2000, dynamic_penalty=budget, penalty_cond=penalty_cond, break_cond=break_cond)"
   ]
  },
  {
   "cell_type": "code",
   "execution_count": 101,
   "id": "7b268b4019492234",
   "metadata": {
    "collapsed": false,
    "ExecuteTime": {
     "end_time": "2023-10-30T09:48:32.186923Z",
     "start_time": "2023-10-30T09:48:32.106779Z"
    }
   },
   "outputs": [
    {
     "name": "stdout",
     "output_type": "stream",
     "text": [
      "n=23 m=23\n",
      "logits=[-6.060784816741943, 3.4627106189727783, -39.373130798339844, 0.3638724088668823, -79.00065612792969]\n",
      "probs=[6.995351577643305e-05, 0.9567779302597046, 2.384741543462948e-19, 0.043152179569005966, 1.4703724789501891e-36]\n"
     ]
    },
    {
     "data": {
      "text/plain": "<Figure size 600x600 with 1 Axes>",
      "image/png": "[encoded data removed]"
     },
     "metadata": {},
     "output_type": "display_data"
    }
   ],
   "source": [
    "G = trainer[classes].evaluate(threshold=0.5, show=True)\n",
    "plt.show()"
   ]
  },
  {
   "cell_type": "markdown",
   "id": "4f4d3ddd-9bb6-456c-9a68-5a3edd019e6e",
   "metadata": {},
   "source": [
    "# 2"
   ]
  },
  {
   "cell_type": "code",
   "execution_count": 143,
   "id": "a71e2ec8-f880-401d-9b89-0f7235d02c3f",
   "metadata": {
    "ExecuteTime": {
     "end_time": "2023-10-30T09:52:53.532587Z",
     "start_time": "2023-10-30T09:52:53.493970Z"
    }
   },
   "outputs": [],
   "source": [
    "classes = 2\n",
    "sampler[classes] = s = GraphSampler(max_nodes=25,\n",
    "                                    num_node_cls=len(shape.NODE_CLS),\n",
    "                                    temperature=0.15,\n",
    "                                    learn_node_feat=True)\n",
    "\n",
    "criterion = nn.Sequential(\n",
    "    WeightedCriterion([\n",
    "        dict(key=\"logits\", criterion=ClassScoreCriterion(class_idx=classes), mode=\"maximize\", weight=1),\n",
    "        dict(key=\"embeds\", criterion=EmbeddingCriterion(target_embedding=mean_embeds[classes]), weight=5),\n",
    "    ]),\n",
    "    NormPenalty(lambda: s.omega, order=1, weight=1), # L1 penalty on omega, encourage uncertainty\n",
    "    NormPenalty(lambda: s.omega, order=2, weight=1), # L2 penalty on omega, avoid extreme probabilities\n",
    "    NormPenalty(lambda: s.xi, order=1, weight=0), # L1 penalty on xi\n",
    "    NormPenalty(lambda: s.xi, order=2, weight=0), # L2 penalty on xi\n",
    "    budget := BudgetPenalty(lambda: s.theta, budget=10, order=2, beta=0.5, weight=0), # Budget penalty on theta, encourage sparsity\n",
    "    KLDivergencePenalty(lambda: tuple(s.theta_pairs), binary=True, weight=10), # Pair-wise cross entropy on E, encourage connectivity\n",
    ")\n",
    "optimizer = torch.optim.SGD(s.parameters(), lr=1)\n",
    "scheduler = torch.optim.lr_scheduler.ExponentialLR(optimizer, gamma=1)\n",
    "\n",
    "# construct graph sampler trainer\n",
    "trainer[classes] = Trainer(sampler=s,\n",
    "                           discriminator=model,\n",
    "                           criterion=criterion,\n",
    "                           optimizer=optimizer,\n",
    "                           scheduler=scheduler,\n",
    "                           dataset=shape,\n",
    "                           k_samples=16)"
   ]
  },
  {
   "cell_type": "code",
   "execution_count": 112,
   "id": "cee8d978ff9fc2ee",
   "metadata": {
    "collapsed": false,
    "ExecuteTime": {
     "end_time": "2023-10-30T09:50:07.861887Z",
     "start_time": "2023-10-30T09:50:07.833043Z"
    }
   },
   "outputs": [],
   "source": [
    "def penalty_cond(out, trainer, boundary_cls=classes):\n",
    "    return out[\"probs\"][0, classes].item() > 0.9\n"
   ]
  },
  {
   "cell_type": "code",
   "execution_count": 113,
   "id": "c1750f1b40d1d86b",
   "metadata": {
    "collapsed": false,
    "ExecuteTime": {
     "end_time": "2023-10-30T09:50:08.070740Z",
     "start_time": "2023-10-30T09:50:08.036929Z"
    }
   },
   "outputs": [],
   "source": [
    "def break_cond(out, trainer, boundary_cls=classes):\n",
    "    return all([\n",
    "        penalty_cond(out, trainer, boundary_cls),\n",
    "        trainer.sampler.expected_m < 30\n",
    "    ])"
   ]
  },
  {
   "cell_type": "code",
   "execution_count": 114,
   "id": "dcc3278f-a073-42e2-b446-0115025e391f",
   "metadata": {
    "ExecuteTime": {
     "end_time": "2023-10-30T09:50:11.171295Z",
     "start_time": "2023-10-30T09:50:08.361559Z"
    }
   },
   "outputs": [
    {
     "data": {
      "text/plain": "  0%|          | 0/2000 [00:00<?, ?it/s]",
      "application/vnd.jupyter.widget-view+json": {
       "version_major": 2,
       "version_minor": 0,
       "model_id": "3b1fecc58e1e480eaaf206e06a556027"
      }
     },
     "metadata": {},
     "output_type": "display_data"
    },
    {
     "data": {
      "text/plain": "True"
     },
     "execution_count": 114,
     "metadata": {},
     "output_type": "execute_result"
    }
   ],
   "source": [
    "trainer[2].train(2000, dynamic_penalty=budget, penalty_cond=penalty_cond, break_cond=break_cond)"
   ]
  },
  {
   "cell_type": "code",
   "execution_count": 115,
   "id": "10896fc3a8e2ea3d",
   "metadata": {
    "collapsed": false,
    "ExecuteTime": {
     "end_time": "2023-10-30T09:50:11.898643Z",
     "start_time": "2023-10-30T09:50:11.821520Z"
    }
   },
   "outputs": [
    {
     "name": "stdout",
     "output_type": "stream",
     "text": [
      "n=19 m=26\n",
      "logits=[5.28969144821167, -8.220245361328125, 10.623064994812012, -45.418338775634766, -14.164005279541016]\n",
      "probs=[0.004804560914635658, 6.521721829244598e-09, 0.9951954483985901, 4.564945280630282e-25, 1.7100945659542788e-11]\n"
     ]
    },
    {
     "data": {
      "text/plain": "<Figure size 600x600 with 1 Axes>",
      "image/png": "[encoded data removed]"
     },
     "metadata": {},
     "output_type": "display_data"
    },
    {
     "data": {
      "text/plain": "<networkx.classes.graph.Graph at 0x2cf206350>"
     },
     "execution_count": 115,
     "metadata": {},
     "output_type": "execute_result"
    }
   ],
   "source": [
    "trainer[2].evaluate(threshold=0.5, show=True)"
   ]
  },
  {
   "cell_type": "code",
   "execution_count": 116,
   "id": "b7c7549821169ebf",
   "metadata": {
    "collapsed": false,
    "ExecuteTime": {
     "end_time": "2023-10-30T09:50:23.898449Z",
     "start_time": "2023-10-30T09:50:23.817211Z"
    }
   },
   "outputs": [
    {
     "name": "stdout",
     "output_type": "stream",
     "text": [
      "n=20 m=27\n",
      "logits=[5.091750621795654, -6.341153144836426, 7.143924236297607, -39.64129638671875, -17.253948211669922]\n",
      "probs=[0.11383278667926788, 1.233163175129448e-06, 0.8861659169197083, 4.2555106328421786e-21, 2.2472607108525722e-11]\n"
     ]
    },
    {
     "data": {
      "text/plain": "<Figure size 600x600 with 1 Axes>",
      "image/png": "[encoded data removed]"
     },
     "metadata": {},
     "output_type": "display_data"
    },
    {
     "data": {
      "text/plain": "<networkx.classes.graph.Graph at 0x2cecb6fe0>"
     },
     "execution_count": 116,
     "metadata": {},
     "output_type": "execute_result"
    }
   ],
   "source": [
    "trainer[2].evaluate(bernoulli=True, show=True)"
   ]
  },
  {
   "cell_type": "markdown",
   "id": "750dd3e232b9e135",
   "metadata": {
    "collapsed": false
   },
   "source": [
    "# 3"
   ]
  },
  {
   "cell_type": "code",
   "execution_count": 144,
   "id": "38479a3c-3acf-40e4-bc4a-44c9befdf62b",
   "metadata": {
    "collapsed": false,
    "pycharm": {
     "name": "#%%\n"
    },
    "ExecuteTime": {
     "end_time": "2023-10-30T09:53:15.453518Z",
     "start_time": "2023-10-30T09:53:15.361025Z"
    }
   },
   "outputs": [],
   "source": [
    "classes = 3\n",
    "sampler[classes] = s = GraphSampler(max_nodes=25,\n",
    "                                    num_node_cls=len(shape.NODE_CLS),\n",
    "                                    temperature=0.15,\n",
    "                                    learn_node_feat=False)\n",
    "\n",
    "criterion = nn.Sequential(\n",
    "    WeightedCriterion([\n",
    "        dict(key=\"logits\", criterion=ClassScoreCriterion(class_idx=classes), mode=\"maximize\", weight=1),\n",
    "        dict(key=\"embeds\", criterion=EmbeddingCriterion(target_embedding=mean_embeds[classes]), weight=10),\n",
    "    ]),\n",
    "    NormPenalty(lambda: s.omega, order=1, weight=1), # L1 penalty on omega, encourage uncertainty\n",
    "    NormPenalty(lambda: s.omega, order=2, weight=1), # L2 penalty on omega, avoid extreme probabilities\n",
    "    # NormPenalty(lambda: s.xi, order=1, weight=0), # L1 penalty on xi\n",
    "    # NormPenalty(lambda: s.xi, order=2, weight=0), # L2 penalty on xi\n",
    "    budget := BudgetPenalty(lambda: s.theta, budget=10, order=2, beta=0.5, weight=0), # Budget penalty on theta, encourage sparsity\n",
    "    KLDivergencePenalty(lambda: tuple(s.theta_pairs), binary=True, weight=20), # Pair-wise cross entropy on E, encourage connectivity\n",
    ")\n",
    "optimizer = torch.optim.SGD(s.parameters(), lr=1)\n",
    "scheduler = torch.optim.lr_scheduler.ExponentialLR(optimizer, gamma=1)\n",
    "\n",
    "# construct graph sampler trainer\n",
    "trainer[classes] = Trainer(sampler=s,\n",
    "                           discriminator=model,\n",
    "                           criterion=criterion,\n",
    "                           optimizer=optimizer,\n",
    "                           scheduler=scheduler,\n",
    "                           dataset=shape,\n",
    "                           k_samples=16)"
   ]
  },
  {
   "cell_type": "code",
   "execution_count": 145,
   "id": "5861e9b3266ebd02",
   "metadata": {
    "collapsed": false,
    "ExecuteTime": {
     "end_time": "2023-10-30T09:53:15.784402Z",
     "start_time": "2023-10-30T09:53:15.756008Z"
    }
   },
   "outputs": [],
   "source": [
    "def penalty_cond(out, trainer, boundary_cls=classes):\n",
    "    return out[\"probs\"][0, classes].item() > 0.9\n",
    "    \n",
    "def break_cond(out, trainer, boundary_cls=classes):\n",
    "    return all([\n",
    "        penalty_cond(out, trainer, boundary_cls),\n",
    "        trainer.sampler.expected_m < 30\n",
    "    ])"
   ]
  },
  {
   "cell_type": "code",
   "execution_count": 146,
   "id": "0cff7d90-c4be-44ac-ba36-25dc028640b7",
   "metadata": {
    "collapsed": false,
    "pycharm": {
     "name": "#%%\n"
    },
    "scrolled": true,
    "tags": [],
    "ExecuteTime": {
     "end_time": "2023-10-30T09:53:18.533969Z",
     "start_time": "2023-10-30T09:53:17.218714Z"
    }
   },
   "outputs": [
    {
     "data": {
      "text/plain": "  0%|          | 0/2000 [00:00<?, ?it/s]",
      "application/vnd.jupyter.widget-view+json": {
       "version_major": 2,
       "version_minor": 0,
       "model_id": "82713c87a6a4405d8dbc66505e27a1a3"
      }
     },
     "metadata": {},
     "output_type": "display_data"
    },
    {
     "data": {
      "text/plain": "True"
     },
     "execution_count": 146,
     "metadata": {},
     "output_type": "execute_result"
    }
   ],
   "source": [
    "trainer[3].train(2000, dynamic_penalty=budget, penalty_cond=penalty_cond, break_cond=break_cond)"
   ]
  },
  {
   "cell_type": "code",
   "execution_count": 147,
   "id": "3ea01e28-f2a1-486b-ad1d-49b8513524dd",
   "metadata": {
    "collapsed": false,
    "pycharm": {
     "name": "#%%\n"
    },
    "scrolled": true,
    "tags": [],
    "ExecuteTime": {
     "end_time": "2023-10-30T09:53:19.298441Z",
     "start_time": "2023-10-30T09:53:19.210389Z"
    }
   },
   "outputs": [
    {
     "name": "stdout",
     "output_type": "stream",
     "text": [
      "n=22 m=20\n",
      "logits=[-3.935885429382324, 1.1842457056045532, -45.89851760864258, 4.335306167602539, -78.94320678710938]\n",
      "probs=[0.0002452205226290971, 0.041039444506168365, 1.4635796959082953e-22, 0.9587153792381287, 6.520665058743477e-37]\n"
     ]
    },
    {
     "data": {
      "text/plain": "<Figure size 600x600 with 1 Axes>",
      "image/png": "[encoded data removed]"
     },
     "metadata": {},
     "output_type": "display_data"
    },
    {
     "data": {
      "text/plain": "<networkx.classes.graph.Graph at 0x2cf86c370>"
     },
     "execution_count": 147,
     "metadata": {},
     "output_type": "execute_result"
    }
   ],
   "source": [
    "trainer[3].evaluate(threshold=0.5, show=True)"
   ]
  },
  {
   "cell_type": "code",
   "execution_count": 148,
   "id": "d7aff8a8-e5b5-41a7-bf8b-094702fb1ab8",
   "metadata": {
    "ExecuteTime": {
     "end_time": "2023-10-30T09:53:29.140652Z",
     "start_time": "2023-10-30T09:53:29.062284Z"
    }
   },
   "outputs": [
    {
     "name": "stdout",
     "output_type": "stream",
     "text": [
      "n=25 m=31\n",
      "logits=[-2.6859655380249023, 0.7950382828712463, -42.267093658447266, 2.3351964950561523, -76.70035552978516]\n",
      "probs=[0.005403078161180019, 0.17555855214595795, 3.489597123374194e-20, 0.8190383315086365, 3.877927738742028e-35]\n"
     ]
    },
    {
     "data": {
      "text/plain": "<Figure size 600x600 with 1 Axes>",
      "image/png": "[encoded data removed]"
     },
     "metadata": {},
     "output_type": "display_data"
    },
    {
     "data": {
      "text/plain": "<networkx.classes.graph.Graph at 0x2cfad6e90>"
     },
     "execution_count": 148,
     "metadata": {},
     "output_type": "execute_result"
    }
   ],
   "source": [
    "trainer[3].evaluate(bernoulli=True, show=True)"
   ]
  },
  {
   "cell_type": "markdown",
   "id": "4231e600719d448c",
   "metadata": {
    "collapsed": false
   },
   "source": [
    "# 4"
   ]
  },
  {
   "cell_type": "code",
   "execution_count": 149,
   "id": "62f1eb98-2339-4cfc-95d9-de63ed49c176",
   "metadata": {
    "ExecuteTime": {
     "end_time": "2023-10-30T09:53:56.591870Z",
     "start_time": "2023-10-30T09:53:56.525287Z"
    }
   },
   "outputs": [],
   "source": [
    "classes = 4\n",
    "sampler[classes] = s = GraphSampler(max_nodes=20,\n",
    "                                    num_node_cls=len(shape.NODE_CLS),\n",
    "                                    temperature=0.15,\n",
    "                                    learn_node_feat=False)\n",
    "\n",
    "criterion = nn.Sequential(\n",
    "    WeightedCriterion([\n",
    "        dict(key=\"logits\", criterion=ClassScoreCriterion(class_idx=classes), mode=\"maximize\", weight=1),\n",
    "        dict(key=\"embeds\", criterion=EmbeddingCriterion(target_embedding=mean_embeds[classes]), weight=5),\n",
    "    ]),\n",
    "    NormPenalty(lambda: s.omega, order=1, weight=1), # L1 penalty on omega, encourage uncertainty\n",
    "    NormPenalty(lambda: s.omega, order=2, weight=1), # L2 penalty on omega, avoid extreme probabilities\n",
    "    # NormPenalty(lambda: s.xi, order=1, weight=0), # L1 penalty on xi\n",
    "    # NormPenalty(lambda: s.xi, order=2, weight=0), # L2 penalty on xi\n",
    "    budget := BudgetPenalty(lambda: s.theta, budget=10, order=2, beta=0.5, weight=0), # Budget penalty on theta, encourage sparsity\n",
    "    CrossEntropyPenalty(lambda: s.theta, weight=0), # Element-wise entropy penalty on theta, encourage discreteness\n",
    "    KLDivergencePenalty(lambda: tuple(s.theta_pairs), binary=True, weight=10), # Pair-wise cross entropy on E, encourage connectivity\n",
    ")\n",
    "optimizer = torch.optim.SGD(s.parameters(), lr=1)\n",
    "scheduler = torch.optim.lr_scheduler.ExponentialLR(optimizer, gamma=1)\n",
    "\n",
    "# construct graph sampler trainer\n",
    "trainer[classes] = Trainer(sampler=s,\n",
    "                           discriminator=model,\n",
    "                           criterion=criterion,\n",
    "                           optimizer=optimizer,\n",
    "                           scheduler=scheduler,\n",
    "                           dataset=shape,\n",
    "                           k_samples=16)"
   ]
  },
  {
   "cell_type": "code",
   "execution_count": 150,
   "id": "54eacd62452ea329",
   "metadata": {
    "collapsed": false,
    "ExecuteTime": {
     "end_time": "2023-10-30T09:53:56.816962Z",
     "start_time": "2023-10-30T09:53:56.778726Z"
    }
   },
   "outputs": [],
   "source": [
    "def penalty_cond(out, trainer, boundary_cls=classes):\n",
    "    return out[\"probs\"][0, classes].item() > 0.9\n",
    "    \n",
    "def break_cond(out, trainer, boundary_cls=classes):\n",
    "    return all([\n",
    "        penalty_cond(out, trainer, boundary_cls),\n",
    "        trainer.sampler.expected_m < 30\n",
    "    ])"
   ]
  },
  {
   "cell_type": "code",
   "execution_count": 151,
   "id": "72731ad9-26f5-4229-ab91-f1742e3eddf3",
   "metadata": {
    "ExecuteTime": {
     "end_time": "2023-10-30T09:53:59.144679Z",
     "start_time": "2023-10-30T09:53:57.854999Z"
    }
   },
   "outputs": [
    {
     "data": {
      "text/plain": "  0%|          | 0/5000 [00:00<?, ?it/s]",
      "application/vnd.jupyter.widget-view+json": {
       "version_major": 2,
       "version_minor": 0,
       "model_id": "2b6d9ae72c9347d395e57ea02eae0577"
      }
     },
     "metadata": {},
     "output_type": "display_data"
    },
    {
     "data": {
      "text/plain": "True"
     },
     "execution_count": 151,
     "metadata": {},
     "output_type": "execute_result"
    }
   ],
   "source": [
    "trainer[4].train(5000, dynamic_penalty=budget, penalty_cond=penalty_cond, break_cond=break_cond)"
   ]
  },
  {
   "cell_type": "code",
   "execution_count": 152,
   "id": "15eeaee56eb748d7",
   "metadata": {
    "collapsed": false,
    "ExecuteTime": {
     "end_time": "2023-10-30T09:54:01.013527Z",
     "start_time": "2023-10-30T09:54:00.938581Z"
    }
   },
   "outputs": [
    {
     "name": "stdout",
     "output_type": "stream",
     "text": [
      "n=20 m=30\n",
      "logits=[-157.11343383789062, -139.97312927246094, -122.244873046875, -636.2296142578125, 497.9161376953125]\n",
      "probs=[0.0, 0.0, 0.0, 0.0, 1.0]\n"
     ]
    },
    {
     "data": {
      "text/plain": "<Figure size 600x600 with 1 Axes>",
      "image/png": "[encoded data removed]"
     },
     "metadata": {},
     "output_type": "display_data"
    },
    {
     "data": {
      "text/plain": "<networkx.classes.graph.Graph at 0x2cfae03d0>"
     },
     "execution_count": 152,
     "metadata": {},
     "output_type": "execute_result"
    }
   ],
   "source": [
    "trainer[4].evaluate(threshold=0.5, show=True)"
   ]
  },
  {
   "cell_type": "code",
   "execution_count": 153,
   "id": "9488bcc98046961",
   "metadata": {
    "collapsed": false,
    "ExecuteTime": {
     "end_time": "2023-10-30T09:54:04.130845Z",
     "start_time": "2023-10-30T09:54:04.056193Z"
    }
   },
   "outputs": [
    {
     "name": "stdout",
     "output_type": "stream",
     "text": [
      "n=20 m=30\n",
      "logits=[-157.11343383789062, -139.97312927246094, -122.244873046875, -636.2296142578125, 497.9161376953125]\n",
      "probs=[0.0, 0.0, 0.0, 0.0, 1.0]\n"
     ]
    },
    {
     "data": {
      "text/plain": "<Figure size 600x600 with 1 Axes>",
      "image/png": "[encoded data removed]"
     },
     "metadata": {},
     "output_type": "display_data"
    },
    {
     "data": {
      "text/plain": "<networkx.classes.graph.Graph at 0x2cf86cb20>"
     },
     "execution_count": 153,
     "metadata": {},
     "output_type": "execute_result"
    }
   ],
   "source": [
    "trainer[4].evaluate(bernoulli=True, show=True)"
   ]
  },
  {
   "cell_type": "code",
   "execution_count": null,
   "id": "5f2ee2c4-fcdf-4a7e-be20-6a329b4909a4",
   "metadata": {},
   "outputs": [],
   "source": []
  }
 ],
 "metadata": {
  "kernelspec": {
   "display_name": "Python 3 (ipykernel)",
   "language": "python",
   "name": "python3"
  },
  "language_info": {
   "codemirror_mode": {
    "name": "ipython",
    "version": 3
   },
   "file_extension": ".py",
   "mimetype": "text/x-python",
   "name": "python",
   "nbconvert_exporter": "python",
   "pygments_lexer": "ipython3",
   "version": "3.10.12"
  },
  "widgets": {
   "application/vnd.jupyter.widget-state+json": {
    "state": {
     "07b43483463e4ae3b9a7b160d8938299": {
      "model_module": "@jupyter-widgets/controls",
      "model_module_version": "2.0.0",
      "model_name": "DescriptionStyleModel",
      "state": {
       "_model_module": "@jupyter-widgets/controls",
       "_model_name": "DescriptionStyleModel",
       "_view_name": "ErrorWidgetView",
       "description_width": "",
       "error": {},
       "msg": "Failed to load model class 'DescriptionStyleModel' from module '@jupyter-widgets/controls'"
      }
     },
     "0b87e5fec1ff41aeb4c9e624a222f89b": {
      "model_module": "@jupyter-widgets/base",
      "model_module_version": "2.0.0",
      "model_name": "LayoutModel",
      "state": {
       "_model_name": "LayoutModel",
       "_view_name": "ErrorWidgetView",
       "align_content": null,
       "align_items": null,
       "align_self": null,
       "border": null,
       "bottom": null,
       "display": null,
       "error": {},
       "flex": null,
       "flex_flow": null,
       "grid_area": null,
       "grid_auto_columns": null,
       "grid_auto_flow": null,
       "grid_auto_rows": null,
       "grid_column": null,
       "grid_gap": null,
       "grid_row": null,
       "grid_template_areas": null,
       "grid_template_columns": null,
       "grid_template_rows": null,
       "height": null,
       "justify_content": null,
       "justify_items": null,
       "left": null,
       "margin": null,
       "max_height": null,
       "max_width": null,
       "min_height": null,
       "min_width": null,
       "msg": "Failed to load model class 'LayoutModel' from module '@jupyter-widgets/base'",
       "object_fit": null,
       "object_position": null,
       "order": null,
       "overflow": null,
       "overflow_x": null,
       "overflow_y": null,
       "padding": null,
       "right": null,
       "top": null,
       "visibility": null,
       "width": null
      }
     },
     "0cf8ded72d3147d681343573a3c5c3ad": {
      "model_module": "@jupyter-widgets/base",
      "model_module_version": "2.0.0",
      "model_name": "LayoutModel",
      "state": {
       "_model_name": "LayoutModel",
       "_view_name": "ErrorWidgetView",
       "align_content": null,
       "align_items": null,
       "align_self": null,
       "border": null,
       "bottom": null,
       "display": null,
       "error": {},
       "flex": null,
       "flex_flow": null,
       "grid_area": null,
       "grid_auto_columns": null,
       "grid_auto_flow": null,
       "grid_auto_rows": null,
       "grid_column": null,
       "grid_gap": null,
       "grid_row": null,
       "grid_template_areas": null,
       "grid_template_columns": null,
       "grid_template_rows": null,
       "height": null,
       "justify_content": null,
       "justify_items": null,
       "left": null,
       "margin": null,
       "max_height": null,
       "max_width": null,
       "min_height": null,
       "min_width": null,
       "msg": "Failed to load model class 'LayoutModel' from module '@jupyter-widgets/base'",
       "object_fit": null,
       "object_position": null,
       "order": null,
       "overflow": null,
       "overflow_x": null,
       "overflow_y": null,
       "padding": null,
       "right": null,
       "top": null,
       "visibility": null,
       "width": null
      }
     },
     "0ef53961cc214c23a5cc520142ed3530": {
      "model_module": "@jupyter-widgets/controls",
      "model_module_version": "2.0.0",
      "model_name": "DescriptionStyleModel",
      "state": {
       "_model_module": "@jupyter-widgets/controls",
       "_model_name": "DescriptionStyleModel",
       "_view_name": "ErrorWidgetView",
       "description_width": "",
       "error": {},
       "msg": "Failed to load model class 'DescriptionStyleModel' from module '@jupyter-widgets/controls'"
      }
     },
     "10730754cf7a43eca9820d10763e9a41": {
      "model_module": "@jupyter-widgets/controls",
      "model_module_version": "2.0.0",
      "model_name": "HTMLModel",
      "state": {
       "_model_module": "@jupyter-widgets/controls",
       "_model_name": "HTMLModel",
       "_view_name": "ErrorWidgetView",
       "description": "",
       "description_tooltip": null,
       "error": {},
       "layout": "IPY_MODEL_1958cff3714b451e95a8fbc5e76541b6",
       "msg": "Failed to load model class 'HTMLModel' from module '@jupyter-widgets/controls'",
       "placeholder": "​",
       "style": "IPY_MODEL_0ef53961cc214c23a5cc520142ed3530",
       "value": " 11531/11531 [00:33&lt;00:00, 255.26it/s]"
      }
     },
     "14391e150296461ca407c9ff78c5ae7e": {
      "model_module": "@jupyter-widgets/controls",
      "model_module_version": "2.0.0",
      "model_name": "DescriptionStyleModel",
      "state": {
       "_model_module": "@jupyter-widgets/controls",
       "_model_name": "DescriptionStyleModel",
       "_view_name": "ErrorWidgetView",
       "description_width": "",
       "error": {},
       "msg": "Failed to load model class 'DescriptionStyleModel' from module '@jupyter-widgets/controls'"
      }
     },
     "1958cff3714b451e95a8fbc5e76541b6": {
      "model_module": "@jupyter-widgets/base",
      "model_module_version": "2.0.0",
      "model_name": "LayoutModel",
      "state": {
       "_model_name": "LayoutModel",
       "_view_name": "ErrorWidgetView",
       "align_content": null,
       "align_items": null,
       "align_self": null,
       "border": null,
       "bottom": null,
       "display": null,
       "error": {},
       "flex": null,
       "flex_flow": null,
       "grid_area": null,
       "grid_auto_columns": null,
       "grid_auto_flow": null,
       "grid_auto_rows": null,
       "grid_column": null,
       "grid_gap": null,
       "grid_row": null,
       "grid_template_areas": null,
       "grid_template_columns": null,
       "grid_template_rows": null,
       "height": null,
       "justify_content": null,
       "justify_items": null,
       "left": null,
       "margin": null,
       "max_height": null,
       "max_width": null,
       "min_height": null,
       "min_width": null,
       "msg": "Failed to load model class 'LayoutModel' from module '@jupyter-widgets/base'",
       "object_fit": null,
       "object_position": null,
       "order": null,
       "overflow": null,
       "overflow_x": null,
       "overflow_y": null,
       "padding": null,
       "right": null,
       "top": null,
       "visibility": null,
       "width": null
      }
     },
     "218cfca13d80402ab877a02fc12211cb": {
      "model_module": "@jupyter-widgets/base",
      "model_module_version": "2.0.0",
      "model_name": "LayoutModel",
      "state": {
       "_model_name": "LayoutModel",
       "_view_name": "ErrorWidgetView",
       "align_content": null,
       "align_items": null,
       "align_self": null,
       "border": null,
       "bottom": null,
       "display": null,
       "error": {},
       "flex": null,
       "flex_flow": null,
       "grid_area": null,
       "grid_auto_columns": null,
       "grid_auto_flow": null,
       "grid_auto_rows": null,
       "grid_column": null,
       "grid_gap": null,
       "grid_row": null,
       "grid_template_areas": null,
       "grid_template_columns": null,
       "grid_template_rows": null,
       "height": null,
       "justify_content": null,
       "justify_items": null,
       "left": null,
       "margin": null,
       "max_height": null,
       "max_width": null,
       "min_height": null,
       "min_width": null,
       "msg": "Failed to load model class 'LayoutModel' from module '@jupyter-widgets/base'",
       "object_fit": null,
       "object_position": null,
       "order": null,
       "overflow": null,
       "overflow_x": null,
       "overflow_y": null,
       "padding": null,
       "right": null,
       "top": null,
       "visibility": null,
       "width": null
      }
     },
     "26ccacccb90843b7ac727e9595ab1596": {
      "model_module": "@jupyter-widgets/controls",
      "model_module_version": "2.0.0",
      "model_name": "HBoxModel",
      "state": {
       "_model_module": "@jupyter-widgets/controls",
       "_model_name": "HBoxModel",
       "_view_name": "ErrorWidgetView",
       "box_style": "",
       "children": [
        "IPY_MODEL_34fa3b9e3ba74ee399312caeceb99f69",
        "IPY_MODEL_54daa2fea4ec45d0a23452074efd359e",
        "IPY_MODEL_10730754cf7a43eca9820d10763e9a41"
       ],
       "error": {},
       "layout": "IPY_MODEL_6d28c2f4d48043aa90f29bb764583bf9",
       "msg": "Failed to load model class 'HBoxModel' from module '@jupyter-widgets/controls'"
      }
     },
     "34fa3b9e3ba74ee399312caeceb99f69": {
      "model_module": "@jupyter-widgets/controls",
      "model_module_version": "2.0.0",
      "model_name": "HTMLModel",
      "state": {
       "_model_module": "@jupyter-widgets/controls",
       "_model_name": "HTMLModel",
       "_view_name": "ErrorWidgetView",
       "description": "",
       "description_tooltip": null,
       "error": {},
       "layout": "IPY_MODEL_e9446ec84ebf43ada6872814f2acb0bb",
       "msg": "Failed to load model class 'HTMLModel' from module '@jupyter-widgets/controls'",
       "placeholder": "​",
       "style": "IPY_MODEL_690ee1b6a3cf43adb5164f200cad4fb4",
       "value": "100%"
      }
     },
     "45e44448b1ea450db792b21878b84f01": {
      "model_module": "@jupyter-widgets/controls",
      "model_module_version": "2.0.0",
      "model_name": "ProgressStyleModel",
      "state": {
       "_model_module": "@jupyter-widgets/controls",
       "_model_name": "ProgressStyleModel",
       "_view_name": "ErrorWidgetView",
       "bar_color": null,
       "description_width": "",
       "error": {},
       "msg": "Failed to load model class 'ProgressStyleModel' from module '@jupyter-widgets/controls'"
      }
     },
     "54daa2fea4ec45d0a23452074efd359e": {
      "model_module": "@jupyter-widgets/controls",
      "model_module_version": "2.0.0",
      "model_name": "FloatProgressModel",
      "state": {
       "_model_module": "@jupyter-widgets/controls",
       "_model_name": "FloatProgressModel",
       "_view_name": "ErrorWidgetView",
       "bar_style": "success",
       "description": "",
       "description_tooltip": null,
       "error": {},
       "layout": "IPY_MODEL_218cfca13d80402ab877a02fc12211cb",
       "max": 11531,
       "min": 0,
       "msg": "Failed to load model class 'FloatProgressModel' from module '@jupyter-widgets/controls'",
       "orientation": "horizontal",
       "style": "IPY_MODEL_9706bfc895af4431a44ab22509435387",
       "value": 11531
      }
     },
     "690ee1b6a3cf43adb5164f200cad4fb4": {
      "model_module": "@jupyter-widgets/controls",
      "model_module_version": "2.0.0",
      "model_name": "DescriptionStyleModel",
      "state": {
       "_model_module": "@jupyter-widgets/controls",
       "_model_name": "DescriptionStyleModel",
       "_view_name": "ErrorWidgetView",
       "description_width": "",
       "error": {},
       "msg": "Failed to load model class 'DescriptionStyleModel' from module '@jupyter-widgets/controls'"
      }
     },
     "6d28c2f4d48043aa90f29bb764583bf9": {
      "model_module": "@jupyter-widgets/base",
      "model_module_version": "2.0.0",
      "model_name": "LayoutModel",
      "state": {
       "_model_name": "LayoutModel",
       "_view_name": "ErrorWidgetView",
       "align_content": null,
       "align_items": null,
       "align_self": null,
       "border": null,
       "bottom": null,
       "display": null,
       "error": {},
       "flex": null,
       "flex_flow": null,
       "grid_area": null,
       "grid_auto_columns": null,
       "grid_auto_flow": null,
       "grid_auto_rows": null,
       "grid_column": null,
       "grid_gap": null,
       "grid_row": null,
       "grid_template_areas": null,
       "grid_template_columns": null,
       "grid_template_rows": null,
       "height": null,
       "justify_content": null,
       "justify_items": null,
       "left": null,
       "margin": null,
       "max_height": null,
       "max_width": null,
       "min_height": null,
       "min_width": null,
       "msg": "Failed to load model class 'LayoutModel' from module '@jupyter-widgets/base'",
       "object_fit": null,
       "object_position": null,
       "order": null,
       "overflow": null,
       "overflow_x": null,
       "overflow_y": null,
       "padding": null,
       "right": null,
       "top": null,
       "visibility": null,
       "width": null
      }
     },
     "6e12fbb8b0f349e09c32c14601a1eddc": {
      "model_module": "@jupyter-widgets/controls",
      "model_module_version": "2.0.0",
      "model_name": "HTMLModel",
      "state": {
       "_model_module": "@jupyter-widgets/controls",
       "_model_name": "HTMLModel",
       "_view_name": "ErrorWidgetView",
       "description": "",
       "description_tooltip": null,
       "error": {},
       "layout": "IPY_MODEL_0cf8ded72d3147d681343573a3c5c3ad",
       "msg": "Failed to load model class 'HTMLModel' from module '@jupyter-widgets/controls'",
       "placeholder": "​",
       "style": "IPY_MODEL_07b43483463e4ae3b9a7b160d8938299",
       "value": "Loading graphs: 100%"
      }
     },
     "7821741103e94b03923bba81dbc4c2a9": {
      "model_module": "@jupyter-widgets/controls",
      "model_module_version": "2.0.0",
      "model_name": "HTMLModel",
      "state": {
       "_model_module": "@jupyter-widgets/controls",
       "_model_name": "HTMLModel",
       "_view_name": "ErrorWidgetView",
       "description": "",
       "description_tooltip": null,
       "error": {},
       "layout": "IPY_MODEL_0b87e5fec1ff41aeb4c9e624a222f89b",
       "msg": "Failed to load model class 'HTMLModel' from module '@jupyter-widgets/controls'",
       "placeholder": "​",
       "style": "IPY_MODEL_14391e150296461ca407c9ff78c5ae7e",
       "value": " 11534/11534 [00:56&lt;00:00, 247.95it/s]"
      }
     },
     "9706bfc895af4431a44ab22509435387": {
      "model_module": "@jupyter-widgets/controls",
      "model_module_version": "2.0.0",
      "model_name": "ProgressStyleModel",
      "state": {
       "_model_module": "@jupyter-widgets/controls",
       "_model_name": "ProgressStyleModel",
       "_view_name": "ErrorWidgetView",
       "bar_color": null,
       "description_width": "",
       "error": {},
       "msg": "Failed to load model class 'ProgressStyleModel' from module '@jupyter-widgets/controls'"
      }
     },
     "9b5d28e41af94931b674dcd1ddf14562": {
      "model_module": "@jupyter-widgets/base",
      "model_module_version": "2.0.0",
      "model_name": "LayoutModel",
      "state": {
       "_model_name": "LayoutModel",
       "_view_name": "ErrorWidgetView",
       "align_content": null,
       "align_items": null,
       "align_self": null,
       "border": null,
       "bottom": null,
       "display": null,
       "error": {},
       "flex": null,
       "flex_flow": null,
       "grid_area": null,
       "grid_auto_columns": null,
       "grid_auto_flow": null,
       "grid_auto_rows": null,
       "grid_column": null,
       "grid_gap": null,
       "grid_row": null,
       "grid_template_areas": null,
       "grid_template_columns": null,
       "grid_template_rows": null,
       "height": null,
       "justify_content": null,
       "justify_items": null,
       "left": null,
       "margin": null,
       "max_height": null,
       "max_width": null,
       "min_height": null,
       "min_width": null,
       "msg": "Failed to load model class 'LayoutModel' from module '@jupyter-widgets/base'",
       "object_fit": null,
       "object_position": null,
       "order": null,
       "overflow": null,
       "overflow_x": null,
       "overflow_y": null,
       "padding": null,
       "right": null,
       "top": null,
       "visibility": null,
       "width": null
      }
     },
     "c5606e09c1de4100be70fc1ef5fb367d": {
      "model_module": "@jupyter-widgets/base",
      "model_module_version": "2.0.0",
      "model_name": "LayoutModel",
      "state": {
       "_model_name": "LayoutModel",
       "_view_name": "ErrorWidgetView",
       "align_content": null,
       "align_items": null,
       "align_self": null,
       "border": null,
       "bottom": null,
       "display": null,
       "error": {},
       "flex": null,
       "flex_flow": null,
       "grid_area": null,
       "grid_auto_columns": null,
       "grid_auto_flow": null,
       "grid_auto_rows": null,
       "grid_column": null,
       "grid_gap": null,
       "grid_row": null,
       "grid_template_areas": null,
       "grid_template_columns": null,
       "grid_template_rows": null,
       "height": null,
       "justify_content": null,
       "justify_items": null,
       "left": null,
       "margin": null,
       "max_height": null,
       "max_width": null,
       "min_height": null,
       "min_width": null,
       "msg": "Failed to load model class 'LayoutModel' from module '@jupyter-widgets/base'",
       "object_fit": null,
       "object_position": null,
       "order": null,
       "overflow": null,
       "overflow_x": null,
       "overflow_y": null,
       "padding": null,
       "right": null,
       "top": null,
       "visibility": null,
       "width": null
      }
     },
     "ce6b2459d7fb430d9b0a8820031189de": {
      "model_module": "@jupyter-widgets/controls",
      "model_module_version": "2.0.0",
      "model_name": "FloatProgressModel",
      "state": {
       "_model_module": "@jupyter-widgets/controls",
       "_model_name": "FloatProgressModel",
       "_view_name": "ErrorWidgetView",
       "bar_style": "success",
       "description": "",
       "description_tooltip": null,
       "error": {},
       "layout": "IPY_MODEL_c5606e09c1de4100be70fc1ef5fb367d",
       "max": 11534,
       "min": 0,
       "msg": "Failed to load model class 'FloatProgressModel' from module '@jupyter-widgets/controls'",
       "orientation": "horizontal",
       "style": "IPY_MODEL_45e44448b1ea450db792b21878b84f01",
       "value": 11534
      }
     },
     "e9446ec84ebf43ada6872814f2acb0bb": {
      "model_module": "@jupyter-widgets/base",
      "model_module_version": "2.0.0",
      "model_name": "LayoutModel",
      "state": {
       "_model_name": "LayoutModel",
       "_view_name": "ErrorWidgetView",
       "align_content": null,
       "align_items": null,
       "align_self": null,
       "border": null,
       "bottom": null,
       "display": null,
       "error": {},
       "flex": null,
       "flex_flow": null,
       "grid_area": null,
       "grid_auto_columns": null,
       "grid_auto_flow": null,
       "grid_auto_rows": null,
       "grid_column": null,
       "grid_gap": null,
       "grid_row": null,
       "grid_template_areas": null,
       "grid_template_columns": null,
       "grid_template_rows": null,
       "height": null,
       "justify_content": null,
       "justify_items": null,
       "left": null,
       "margin": null,
       "max_height": null,
       "max_width": null,
       "min_height": null,
       "min_width": null,
       "msg": "Failed to load model class 'LayoutModel' from module '@jupyter-widgets/base'",
       "object_fit": null,
       "object_position": null,
       "order": null,
       "overflow": null,
       "overflow_x": null,
       "overflow_y": null,
       "padding": null,
       "right": null,
       "top": null,
       "visibility": null,
       "width": null
      }
     },
     "f64c7011415b4ea3a3043c3a81009193": {
      "model_module": "@jupyter-widgets/controls",
      "model_module_version": "2.0.0",
      "model_name": "HBoxModel",
      "state": {
       "_model_module": "@jupyter-widgets/controls",
       "_model_name": "HBoxModel",
       "_view_name": "ErrorWidgetView",
       "box_style": "",
       "children": [
        "IPY_MODEL_6e12fbb8b0f349e09c32c14601a1eddc",
        "IPY_MODEL_ce6b2459d7fb430d9b0a8820031189de",
        "IPY_MODEL_7821741103e94b03923bba81dbc4c2a9"
       ],
       "error": {},
       "layout": "IPY_MODEL_9b5d28e41af94931b674dcd1ddf14562",
       "msg": "Failed to load model class 'HBoxModel' from module '@jupyter-widgets/controls'"
      }
     }
    },
    "version_major": 2,
    "version_minor": 0
   }
  }
 },
 "nbformat": 4,
 "nbformat_minor": 5
}
