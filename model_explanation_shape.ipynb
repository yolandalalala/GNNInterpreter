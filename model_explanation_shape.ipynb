{
 "cells": [
  {
   "cell_type": "code",
   "execution_count": 1,
   "id": "1a91b813",
   "metadata": {
    "collapsed": false,
    "pycharm": {
     "name": "#%%\n"
    },
    "ExecuteTime": {
     "end_time": "2023-11-04T08:25:06.624396Z",
     "start_time": "2023-11-04T08:25:06.613908Z"
    }
   },
   "outputs": [],
   "source": [
    "%load_ext autoreload\n",
    "%autoreload 2"
   ]
  },
  {
   "cell_type": "code",
   "execution_count": 2,
   "id": "c7f4188d",
   "metadata": {
    "collapsed": false,
    "pycharm": {
     "name": "#%%\n"
    },
    "ExecuteTime": {
     "end_time": "2023-11-04T08:25:10.148977Z",
     "start_time": "2023-11-04T08:25:07.198487Z"
    }
   },
   "outputs": [],
   "source": [
    "from gnninterpreter import *"
   ]
  },
  {
   "cell_type": "code",
   "execution_count": 3,
   "id": "2ab76fb3",
   "metadata": {
    "collapsed": false,
    "pycharm": {
     "name": "#%%\n"
    },
    "ExecuteTime": {
     "end_time": "2023-11-04T08:25:10.170789Z",
     "start_time": "2023-11-04T08:25:10.147371Z"
    }
   },
   "outputs": [],
   "source": [
    "import torch\n",
    "from torch import nn"
   ]
  },
  {
   "cell_type": "markdown",
   "id": "395a07f1",
   "metadata": {},
   "source": [
    "# Shape"
   ]
  },
  {
   "cell_type": "code",
   "execution_count": 4,
   "id": "52747602",
   "metadata": {
    "collapsed": false,
    "pycharm": {
     "name": "#%%\n"
    },
    "ExecuteTime": {
     "end_time": "2023-11-04T08:25:10.873119Z",
     "start_time": "2023-11-04T08:25:10.169450Z"
    }
   },
   "outputs": [],
   "source": [
    "dataset = ShapeDataset(seed=12345)"
   ]
  },
  {
   "cell_type": "code",
   "execution_count": 5,
   "id": "4c1617a4-666d-43de-8f0e-c5301b74375f",
   "metadata": {
    "collapsed": false,
    "pycharm": {
     "name": "#%%\n"
    },
    "ExecuteTime": {
     "end_time": "2023-11-04T08:25:10.901607Z",
     "start_time": "2023-11-04T08:25:10.873582Z"
    }
   },
   "outputs": [],
   "source": [
    "model = GCNClassifier(node_features=len(dataset.NODE_CLS),\n",
    "                      num_classes=len(dataset.GRAPH_CLS),\n",
    "                      hidden_channels=64,\n",
    "                      num_layers=4)"
   ]
  },
  {
   "cell_type": "code",
   "execution_count": 6,
   "id": "3a8139b5-424e-484e-a567-b325f015ccaf",
   "metadata": {
    "ExecuteTime": {
     "end_time": "2023-11-04T08:25:10.926721Z",
     "start_time": "2023-11-04T08:25:10.896536Z"
    }
   },
   "outputs": [
    {
     "data": {
      "text/plain": "<All keys matched successfully>"
     },
     "execution_count": 6,
     "metadata": {},
     "output_type": "execute_result"
    }
   ],
   "source": [
    "model.load_state_dict(torch.load('ckpts/shape.pt'))"
   ]
  },
  {
   "cell_type": "code",
   "execution_count": 7,
   "id": "6645ce41-8d77-4945-a474-561843ee8109",
   "metadata": {
    "ExecuteTime": {
     "end_time": "2023-11-04T08:25:12.575556Z",
     "start_time": "2023-11-04T08:25:10.922288Z"
    }
   },
   "outputs": [
    {
     "name": "stderr",
     "output_type": "stream",
     "text": [
      "/opt/homebrew/Caskroom/mambaforge/base/lib/python3.10/site-packages/torch_geometric/deprecation.py:22: UserWarning: 'data.DataLoader' is deprecated, use 'loader.DataLoader' instead\n",
      "  warnings.warn(out)\n"
     ]
    },
    {
     "data": {
      "text/plain": "{'random': 0.9814640283584595,\n 'lollipop': 0.9847187995910645,\n 'wheel': 0.9916589260101318,\n 'grid': 0.9788162112236023,\n 'star': 1.0}"
     },
     "execution_count": 7,
     "metadata": {},
     "output_type": "execute_result"
    }
   ],
   "source": [
    "dataset.evaluate_model(model)"
   ]
  },
  {
   "cell_type": "code",
   "execution_count": 8,
   "id": "d4a27bdf-0586-4652-9989-53b8257bb2e9",
   "metadata": {
    "ExecuteTime": {
     "end_time": "2023-11-04T08:25:13.697723Z",
     "start_time": "2023-11-04T08:25:12.566426Z"
    }
   },
   "outputs": [],
   "source": [
    "mean_embeds = dataset.mean_embeddings(model)"
   ]
  },
  {
   "cell_type": "code",
   "execution_count": 9,
   "id": "2c966c81e3166b9e",
   "metadata": {
    "collapsed": false,
    "ExecuteTime": {
     "end_time": "2023-11-04T08:25:13.721193Z",
     "start_time": "2023-11-04T08:25:13.698231Z"
    }
   },
   "outputs": [],
   "source": [
    "trainer = {}\n",
    "sampler = {}"
   ]
  },
  {
   "cell_type": "markdown",
   "id": "383c9c7a23eb249f",
   "metadata": {
    "collapsed": false
   },
   "source": [
    "# Lollipop"
   ]
  },
  {
   "cell_type": "code",
   "execution_count": 16,
   "id": "bc959668d833b3b6",
   "metadata": {
    "collapsed": false,
    "ExecuteTime": {
     "end_time": "2023-11-04T08:25:31.672572Z",
     "start_time": "2023-11-04T08:25:31.647770Z"
    }
   },
   "outputs": [],
   "source": [
    "cls_idx = 1\n",
    "trainer[cls_idx] = Trainer(\n",
    "    sampler=(s := GraphSampler(\n",
    "        max_nodes=25,\n",
    "        temperature=0.15,\n",
    "        learn_node_feat=False\n",
    "    )),\n",
    "    discriminator=model,\n",
    "    criterion=WeightedCriterion([\n",
    "        dict(key=\"logits\", criterion=ClassScoreCriterion(class_idx=cls_idx, mode='maximize'), weight=1),\n",
    "        dict(key=\"embeds\", criterion=EmbeddingCriterion(target_embedding=mean_embeds[cls_idx]), weight=5),\n",
    "        dict(key=\"logits\", criterion=MeanPenalty(), weight=0),\n",
    "        dict(key=\"omega\", criterion=NormPenalty(order=1), weight=1),\n",
    "        dict(key=\"omega\", criterion=NormPenalty(order=2), weight=1),\n",
    "        # dict(key=\"xi\", criterion=NormPenalty(order=1), weight=0),\n",
    "        # dict(key=\"xi\", criterion=NormPenalty(order=2), weight=0),\n",
    "        # dict(key=\"eta\", criterion=NormPenalty(order=1), weight=0),\n",
    "        # dict(key=\"eta\", criterion=NormPenalty(order=2), weight=0),\n",
    "        dict(key=\"theta_pairs\", criterion=KLDivergencePenalty(binary=True), weight=15),\n",
    "    ]),\n",
    "    optimizer=(o := torch.optim.SGD(s.parameters(), lr=1)),\n",
    "    scheduler=torch.optim.lr_scheduler.ExponentialLR(o, gamma=1),\n",
    "    dataset=dataset,\n",
    "    budget_penalty=BudgetPenalty(budget=10, order=2, beta=1),\n",
    "    target_probs={cls_idx: (0.9, 1)},\n",
    "    k_samples=16\n",
    ")"
   ]
  },
  {
   "cell_type": "code",
   "execution_count": 17,
   "id": "4c0bd9796d611c52",
   "metadata": {
    "collapsed": false,
    "ExecuteTime": {
     "end_time": "2023-11-04T08:25:35.388185Z",
     "start_time": "2023-11-04T08:25:32.148990Z"
    }
   },
   "outputs": [
    {
     "data": {
      "text/plain": "  0%|          | 0/2000 [00:00<?, ?it/s]",
      "application/vnd.jupyter.widget-view+json": {
       "version_major": 2,
       "version_minor": 0,
       "model_id": "af987d0877794af4943f5095e316750a"
      }
     },
     "metadata": {},
     "output_type": "display_data"
    },
    {
     "data": {
      "text/plain": "True"
     },
     "execution_count": 17,
     "metadata": {},
     "output_type": "execute_result"
    }
   ],
   "source": [
    "trainer[1].train(2000)"
   ]
  },
  {
   "cell_type": "code",
   "execution_count": 19,
   "outputs": [
    {
     "name": "stdout",
     "output_type": "stream",
     "text": [
      "n=23 m=24\n",
      "logits=[-4.419562816619873, 0.9677745699882507, -28.28148078918457, -5.010132789611816, -143.8326873779297]\n",
      "probs=[0.0045418525114655495, 0.9929418563842773, 1.9684902037402086e-13, 0.0025162380188703537, 0.0]\n"
     ]
    },
    {
     "data": {
      "text/plain": "<Figure size 600x600 with 1 Axes>",
      "image/png": "[encoded data removed]"
     },
     "metadata": {},
     "output_type": "display_data"
    },
    {
     "data": {
      "text/plain": "<networkx.classes.graph.Graph at 0x287349210>"
     },
     "execution_count": 19,
     "metadata": {},
     "output_type": "execute_result"
    }
   ],
   "source": [
    "trainer[1].evaluate(threshold=0.5, show=True)"
   ],
   "metadata": {
    "collapsed": false,
    "ExecuteTime": {
     "end_time": "2023-11-04T08:25:52.435199Z",
     "start_time": "2023-11-04T08:25:52.208401Z"
    }
   },
   "id": "fd3d495b831e49c2"
  },
  {
   "cell_type": "markdown",
   "id": "4f4d3ddd-9bb6-456c-9a68-5a3edd019e6e",
   "metadata": {},
   "source": [
    "# Wheel"
   ]
  },
  {
   "cell_type": "code",
   "execution_count": 22,
   "id": "cee8d978ff9fc2ee",
   "metadata": {
    "collapsed": false,
    "ExecuteTime": {
     "end_time": "2023-11-04T08:27:03.630534Z",
     "start_time": "2023-11-04T08:27:03.602279Z"
    }
   },
   "outputs": [],
   "source": [
    "cls_idx = 2\n",
    "trainer[cls_idx] = Trainer(\n",
    "    sampler=(s := GraphSampler(\n",
    "        max_nodes=25,\n",
    "        temperature=0.15,\n",
    "        learn_node_feat=False\n",
    "    )),\n",
    "    discriminator=model,\n",
    "    criterion=WeightedCriterion([\n",
    "        dict(key=\"logits\", criterion=ClassScoreCriterion(class_idx=cls_idx, mode='maximize'), weight=1),\n",
    "        dict(key=\"embeds\", criterion=EmbeddingCriterion(target_embedding=mean_embeds[cls_idx]), weight=5),\n",
    "        dict(key=\"logits\", criterion=MeanPenalty(), weight=0),\n",
    "        dict(key=\"omega\", criterion=NormPenalty(order=1), weight=1),\n",
    "        dict(key=\"omega\", criterion=NormPenalty(order=2), weight=1),\n",
    "        # dict(key=\"xi\", criterion=NormPenalty(order=1), weight=0),\n",
    "        # dict(key=\"xi\", criterion=NormPenalty(order=2), weight=0),\n",
    "        # dict(key=\"eta\", criterion=NormPenalty(order=1), weight=0),\n",
    "        # dict(key=\"eta\", criterion=NormPenalty(order=2), weight=0),\n",
    "        dict(key=\"theta_pairs\", criterion=KLDivergencePenalty(binary=True), weight=10),\n",
    "    ]),\n",
    "    optimizer=(o := torch.optim.SGD(s.parameters(), lr=1)),\n",
    "    scheduler=torch.optim.lr_scheduler.ExponentialLR(o, gamma=1),\n",
    "    dataset=dataset,\n",
    "    budget_penalty=BudgetPenalty(budget=10, order=2, beta=1),\n",
    "    target_probs={cls_idx: (0.9, 1)},\n",
    "    k_samples=16\n",
    ")"
   ]
  },
  {
   "cell_type": "code",
   "execution_count": 24,
   "id": "dcc3278f-a073-42e2-b446-0115025e391f",
   "metadata": {
    "ExecuteTime": {
     "end_time": "2023-11-04T08:27:06.100406Z",
     "start_time": "2023-11-04T08:27:04.529803Z"
    }
   },
   "outputs": [
    {
     "data": {
      "text/plain": "  0%|          | 0/2000 [00:00<?, ?it/s]",
      "application/vnd.jupyter.widget-view+json": {
       "version_major": 2,
       "version_minor": 0,
       "model_id": "4a1925891a124179b810a113837c32ae"
      }
     },
     "metadata": {},
     "output_type": "display_data"
    },
    {
     "data": {
      "text/plain": "True"
     },
     "execution_count": 24,
     "metadata": {},
     "output_type": "execute_result"
    }
   ],
   "source": [
    "trainer[2].train(2000)"
   ]
  },
  {
   "cell_type": "code",
   "execution_count": 25,
   "id": "10896fc3a8e2ea3d",
   "metadata": {
    "collapsed": false,
    "ExecuteTime": {
     "end_time": "2023-11-04T08:27:08.038668Z",
     "start_time": "2023-11-04T08:27:07.965096Z"
    }
   },
   "outputs": [
    {
     "name": "stdout",
     "output_type": "stream",
     "text": [
      "n=22 m=24\n",
      "logits=[-20.861127853393555, -66.88731384277344, -5.212587833404541, -96.18472290039062, -11.704874038696289]\n",
      "probs=[1.5968630862062128e-07, 1.6381357290885235e-27, 0.998487114906311, 3.0948797623385045e-40, 0.0015127891674637794]\n"
     ]
    },
    {
     "data": {
      "text/plain": "<Figure size 600x600 with 1 Axes>",
      "image/png": "[encoded data removed]"
     },
     "metadata": {},
     "output_type": "display_data"
    },
    {
     "data": {
      "text/plain": "<networkx.classes.graph.Graph at 0x2c3bf6560>"
     },
     "execution_count": 25,
     "metadata": {},
     "output_type": "execute_result"
    }
   ],
   "source": [
    "trainer[2].evaluate(threshold=0.5, show=True)"
   ]
  },
  {
   "cell_type": "markdown",
   "id": "750dd3e232b9e135",
   "metadata": {
    "collapsed": false
   },
   "source": [
    "# Grid"
   ]
  },
  {
   "cell_type": "code",
   "execution_count": 30,
   "id": "5861e9b3266ebd02",
   "metadata": {
    "collapsed": false,
    "ExecuteTime": {
     "end_time": "2023-11-04T08:29:09.057519Z",
     "start_time": "2023-11-04T08:29:09.031768Z"
    }
   },
   "outputs": [],
   "source": [
    "cls_idx = 3\n",
    "trainer[cls_idx] = Trainer(\n",
    "    sampler=(s := GraphSampler(\n",
    "        max_nodes=25,\n",
    "        temperature=0.15,\n",
    "        learn_node_feat=False\n",
    "    )),\n",
    "    discriminator=model,\n",
    "    criterion=WeightedCriterion([\n",
    "        dict(key=\"logits\", criterion=ClassScoreCriterion(class_idx=cls_idx, mode='maximize'), weight=1),\n",
    "        dict(key=\"embeds\", criterion=EmbeddingCriterion(target_embedding=mean_embeds[cls_idx]), weight=10),\n",
    "        dict(key=\"logits\", criterion=MeanPenalty(), weight=0),\n",
    "        dict(key=\"omega\", criterion=NormPenalty(order=1), weight=1),\n",
    "        dict(key=\"omega\", criterion=NormPenalty(order=2), weight=1),\n",
    "        # dict(key=\"xi\", criterion=NormPenalty(order=1), weight=0),\n",
    "        # dict(key=\"xi\", criterion=NormPenalty(order=2), weight=0),\n",
    "        # dict(key=\"eta\", criterion=NormPenalty(order=1), weight=0),\n",
    "        # dict(key=\"eta\", criterion=NormPenalty(order=2), weight=0),\n",
    "        dict(key=\"theta_pairs\", criterion=KLDivergencePenalty(binary=True), weight=20),\n",
    "    ]),\n",
    "    optimizer=(o := torch.optim.SGD(s.parameters(), lr=1)),\n",
    "    scheduler=torch.optim.lr_scheduler.ExponentialLR(o, gamma=1),\n",
    "    dataset=dataset,\n",
    "    budget_penalty=BudgetPenalty(budget=10, order=2, beta=1),\n",
    "    target_probs={cls_idx: (0.9, 1)},\n",
    "    k_samples=16\n",
    ")"
   ]
  },
  {
   "cell_type": "code",
   "execution_count": 31,
   "id": "0cff7d90-c4be-44ac-ba36-25dc028640b7",
   "metadata": {
    "collapsed": false,
    "pycharm": {
     "name": "#%%\n"
    },
    "scrolled": true,
    "tags": [],
    "ExecuteTime": {
     "end_time": "2023-11-04T08:29:11.511453Z",
     "start_time": "2023-11-04T08:29:09.500049Z"
    }
   },
   "outputs": [
    {
     "data": {
      "text/plain": "  0%|          | 0/2000 [00:00<?, ?it/s]",
      "application/vnd.jupyter.widget-view+json": {
       "version_major": 2,
       "version_minor": 0,
       "model_id": "1ea7c18f799e43989f45b5857ce7a003"
      }
     },
     "metadata": {},
     "output_type": "display_data"
    },
    {
     "data": {
      "text/plain": "True"
     },
     "execution_count": 31,
     "metadata": {},
     "output_type": "execute_result"
    }
   ],
   "source": [
    "trainer[3].train(2000)"
   ]
  },
  {
   "cell_type": "code",
   "execution_count": 32,
   "id": "3ea01e28-f2a1-486b-ad1d-49b8513524dd",
   "metadata": {
    "collapsed": false,
    "pycharm": {
     "name": "#%%\n"
    },
    "scrolled": true,
    "tags": [],
    "ExecuteTime": {
     "end_time": "2023-11-04T08:29:13.041486Z",
     "start_time": "2023-11-04T08:29:12.969957Z"
    }
   },
   "outputs": [
    {
     "name": "stdout",
     "output_type": "stream",
     "text": [
      "n=23 m=25\n",
      "logits=[-6.079453468322754, -10.491562843322754, -36.03765106201172, 4.285440444946289, -170.6971435546875]\n",
      "probs=[3.151881537633017e-05, 3.8230953691709146e-07, 3.0753235142129233e-18, 0.9999680519104004, 0.0]\n"
     ]
    },
    {
     "data": {
      "text/plain": "<Figure size 600x600 with 1 Axes>",
      "image/png": "[encoded data removed]"
     },
     "metadata": {},
     "output_type": "display_data"
    },
    {
     "data": {
      "text/plain": "<networkx.classes.graph.Graph at 0x2c4cf2da0>"
     },
     "execution_count": 32,
     "metadata": {},
     "output_type": "execute_result"
    }
   ],
   "source": [
    "trainer[3].evaluate(threshold=0.5, show=True)"
   ]
  },
  {
   "cell_type": "markdown",
   "id": "4231e600719d448c",
   "metadata": {
    "collapsed": false
   },
   "source": [
    "# Star"
   ]
  },
  {
   "cell_type": "code",
   "execution_count": 35,
   "id": "54eacd62452ea329",
   "metadata": {
    "collapsed": false,
    "ExecuteTime": {
     "end_time": "2023-11-04T08:29:54.206743Z",
     "start_time": "2023-11-04T08:29:54.179455Z"
    }
   },
   "outputs": [],
   "source": [
    "cls_idx = 4\n",
    "trainer[cls_idx] = Trainer(\n",
    "    sampler=(s := GraphSampler(\n",
    "        max_nodes=25,\n",
    "        temperature=0.15,\n",
    "        learn_node_feat=False\n",
    "    )),\n",
    "    discriminator=model,\n",
    "    criterion=WeightedCriterion([\n",
    "        dict(key=\"logits\", criterion=ClassScoreCriterion(class_idx=cls_idx, mode='maximize'), weight=1),\n",
    "        dict(key=\"embeds\", criterion=EmbeddingCriterion(target_embedding=mean_embeds[cls_idx]), weight=5),\n",
    "        dict(key=\"logits\", criterion=MeanPenalty(), weight=0),\n",
    "        dict(key=\"omega\", criterion=NormPenalty(order=1), weight=1),\n",
    "        dict(key=\"omega\", criterion=NormPenalty(order=2), weight=1),\n",
    "        # dict(key=\"xi\", criterion=NormPenalty(order=1), weight=0),\n",
    "        # dict(key=\"xi\", criterion=NormPenalty(order=2), weight=0),\n",
    "        # dict(key=\"eta\", criterion=NormPenalty(order=1), weight=0),\n",
    "        # dict(key=\"eta\", criterion=NormPenalty(order=2), weight=0),\n",
    "        dict(key=\"theta_pairs\", criterion=KLDivergencePenalty(binary=True), weight=10),\n",
    "    ]),\n",
    "    optimizer=(o := torch.optim.SGD(s.parameters(), lr=1)),\n",
    "    scheduler=torch.optim.lr_scheduler.ExponentialLR(o, gamma=1),\n",
    "    dataset=dataset,\n",
    "    budget_penalty=BudgetPenalty(budget=10, order=2, beta=1),\n",
    "    target_probs={cls_idx: (0.9, 1)},\n",
    "    k_samples=16\n",
    ")"
   ]
  },
  {
   "cell_type": "code",
   "execution_count": 36,
   "id": "72731ad9-26f5-4229-ab91-f1742e3eddf3",
   "metadata": {
    "ExecuteTime": {
     "end_time": "2023-11-04T08:29:56.072712Z",
     "start_time": "2023-11-04T08:29:55.113493Z"
    }
   },
   "outputs": [
    {
     "data": {
      "text/plain": "  0%|          | 0/5000 [00:00<?, ?it/s]",
      "application/vnd.jupyter.widget-view+json": {
       "version_major": 2,
       "version_minor": 0,
       "model_id": "5fa92fda67b44ae2af86c28875ed62d8"
      }
     },
     "metadata": {},
     "output_type": "display_data"
    },
    {
     "data": {
      "text/plain": "True"
     },
     "execution_count": 36,
     "metadata": {},
     "output_type": "execute_result"
    }
   ],
   "source": [
    "trainer[4].train(5000)"
   ]
  },
  {
   "cell_type": "code",
   "execution_count": 37,
   "id": "15eeaee56eb748d7",
   "metadata": {
    "collapsed": false,
    "ExecuteTime": {
     "end_time": "2023-11-04T08:29:57.403785Z",
     "start_time": "2023-11-04T08:29:57.332211Z"
    }
   },
   "outputs": [
    {
     "name": "stdout",
     "output_type": "stream",
     "text": [
      "n=20 m=29\n",
      "logits=[-17.261682510375977, -66.1810531616211, -14.188146591186523, -82.38772583007812, -7.8946146965026855]\n",
      "probs=[8.532874926459044e-05, 4.849339990761838e-26, 0.0018446537433192134, 4.438273980123386e-33, 0.9980700612068176]\n"
     ]
    },
    {
     "data": {
      "text/plain": "<Figure size 600x600 with 1 Axes>",
      "image/png": "[encoded data removed]"
     },
     "metadata": {},
     "output_type": "display_data"
    },
    {
     "data": {
      "text/plain": "<networkx.classes.graph.Graph at 0x2c4d87dc0>"
     },
     "execution_count": 37,
     "metadata": {},
     "output_type": "execute_result"
    }
   ],
   "source": [
    "trainer[4].evaluate(threshold=0.5, show=True)"
   ]
  },
  {
   "cell_type": "code",
   "execution_count": null,
   "id": "5f2ee2c4-fcdf-4a7e-be20-6a329b4909a4",
   "metadata": {},
   "outputs": [],
   "source": []
  }
 ],
 "metadata": {
  "kernelspec": {
   "display_name": "Python 3 (ipykernel)",
   "language": "python",
   "name": "python3"
  },
  "language_info": {
   "codemirror_mode": {
    "name": "ipython",
    "version": 3
   },
   "file_extension": ".py",
   "mimetype": "text/x-python",
   "name": "python",
   "nbconvert_exporter": "python",
   "pygments_lexer": "ipython3",
   "version": "3.10.12"
  },
  "widgets": {
   "application/vnd.jupyter.widget-state+json": {
    "state": {
     "07b43483463e4ae3b9a7b160d8938299": {
      "model_module": "@jupyter-widgets/controls",
      "model_module_version": "2.0.0",
      "model_name": "DescriptionStyleModel",
      "state": {
       "_model_module": "@jupyter-widgets/controls",
       "_model_name": "DescriptionStyleModel",
       "_view_name": "ErrorWidgetView",
       "description_width": "",
       "error": {},
       "msg": "Failed to load model class 'DescriptionStyleModel' from module '@jupyter-widgets/controls'"
      }
     },
     "0b87e5fec1ff41aeb4c9e624a222f89b": {
      "model_module": "@jupyter-widgets/base",
      "model_module_version": "2.0.0",
      "model_name": "LayoutModel",
      "state": {
       "_model_name": "LayoutModel",
       "_view_name": "ErrorWidgetView",
       "align_content": null,
       "align_items": null,
       "align_self": null,
       "border": null,
       "bottom": null,
       "display": null,
       "error": {},
       "flex": null,
       "flex_flow": null,
       "grid_area": null,
       "grid_auto_columns": null,
       "grid_auto_flow": null,
       "grid_auto_rows": null,
       "grid_column": null,
       "grid_gap": null,
       "grid_row": null,
       "grid_template_areas": null,
       "grid_template_columns": null,
       "grid_template_rows": null,
       "height": null,
       "justify_content": null,
       "justify_items": null,
       "left": null,
       "margin": null,
       "max_height": null,
       "max_width": null,
       "min_height": null,
       "min_width": null,
       "msg": "Failed to load model class 'LayoutModel' from module '@jupyter-widgets/base'",
       "object_fit": null,
       "object_position": null,
       "order": null,
       "overflow": null,
       "overflow_x": null,
       "overflow_y": null,
       "padding": null,
       "right": null,
       "top": null,
       "visibility": null,
       "width": null
      }
     },
     "0cf8ded72d3147d681343573a3c5c3ad": {
      "model_module": "@jupyter-widgets/base",
      "model_module_version": "2.0.0",
      "model_name": "LayoutModel",
      "state": {
       "_model_name": "LayoutModel",
       "_view_name": "ErrorWidgetView",
       "align_content": null,
       "align_items": null,
       "align_self": null,
       "border": null,
       "bottom": null,
       "display": null,
       "error": {},
       "flex": null,
       "flex_flow": null,
       "grid_area": null,
       "grid_auto_columns": null,
       "grid_auto_flow": null,
       "grid_auto_rows": null,
       "grid_column": null,
       "grid_gap": null,
       "grid_row": null,
       "grid_template_areas": null,
       "grid_template_columns": null,
       "grid_template_rows": null,
       "height": null,
       "justify_content": null,
       "justify_items": null,
       "left": null,
       "margin": null,
       "max_height": null,
       "max_width": null,
       "min_height": null,
       "min_width": null,
       "msg": "Failed to load model class 'LayoutModel' from module '@jupyter-widgets/base'",
       "object_fit": null,
       "object_position": null,
       "order": null,
       "overflow": null,
       "overflow_x": null,
       "overflow_y": null,
       "padding": null,
       "right": null,
       "top": null,
       "visibility": null,
       "width": null
      }
     },
     "0ef53961cc214c23a5cc520142ed3530": {
      "model_module": "@jupyter-widgets/controls",
      "model_module_version": "2.0.0",
      "model_name": "DescriptionStyleModel",
      "state": {
       "_model_module": "@jupyter-widgets/controls",
       "_model_name": "DescriptionStyleModel",
       "_view_name": "ErrorWidgetView",
       "description_width": "",
       "error": {},
       "msg": "Failed to load model class 'DescriptionStyleModel' from module '@jupyter-widgets/controls'"
      }
     },
     "10730754cf7a43eca9820d10763e9a41": {
      "model_module": "@jupyter-widgets/controls",
      "model_module_version": "2.0.0",
      "model_name": "HTMLModel",
      "state": {
       "_model_module": "@jupyter-widgets/controls",
       "_model_name": "HTMLModel",
       "_view_name": "ErrorWidgetView",
       "description": "",
       "description_tooltip": null,
       "error": {},
       "layout": "IPY_MODEL_1958cff3714b451e95a8fbc5e76541b6",
       "msg": "Failed to load model class 'HTMLModel' from module '@jupyter-widgets/controls'",
       "placeholder": "​",
       "style": "IPY_MODEL_0ef53961cc214c23a5cc520142ed3530",
       "value": " 11531/11531 [00:33&lt;00:00, 255.26it/s]"
      }
     },
     "14391e150296461ca407c9ff78c5ae7e": {
      "model_module": "@jupyter-widgets/controls",
      "model_module_version": "2.0.0",
      "model_name": "DescriptionStyleModel",
      "state": {
       "_model_module": "@jupyter-widgets/controls",
       "_model_name": "DescriptionStyleModel",
       "_view_name": "ErrorWidgetView",
       "description_width": "",
       "error": {},
       "msg": "Failed to load model class 'DescriptionStyleModel' from module '@jupyter-widgets/controls'"
      }
     },
     "1958cff3714b451e95a8fbc5e76541b6": {
      "model_module": "@jupyter-widgets/base",
      "model_module_version": "2.0.0",
      "model_name": "LayoutModel",
      "state": {
       "_model_name": "LayoutModel",
       "_view_name": "ErrorWidgetView",
       "align_content": null,
       "align_items": null,
       "align_self": null,
       "border": null,
       "bottom": null,
       "display": null,
       "error": {},
       "flex": null,
       "flex_flow": null,
       "grid_area": null,
       "grid_auto_columns": null,
       "grid_auto_flow": null,
       "grid_auto_rows": null,
       "grid_column": null,
       "grid_gap": null,
       "grid_row": null,
       "grid_template_areas": null,
       "grid_template_columns": null,
       "grid_template_rows": null,
       "height": null,
       "justify_content": null,
       "justify_items": null,
       "left": null,
       "margin": null,
       "max_height": null,
       "max_width": null,
       "min_height": null,
       "min_width": null,
       "msg": "Failed to load model class 'LayoutModel' from module '@jupyter-widgets/base'",
       "object_fit": null,
       "object_position": null,
       "order": null,
       "overflow": null,
       "overflow_x": null,
       "overflow_y": null,
       "padding": null,
       "right": null,
       "top": null,
       "visibility": null,
       "width": null
      }
     },
     "218cfca13d80402ab877a02fc12211cb": {
      "model_module": "@jupyter-widgets/base",
      "model_module_version": "2.0.0",
      "model_name": "LayoutModel",
      "state": {
       "_model_name": "LayoutModel",
       "_view_name": "ErrorWidgetView",
       "align_content": null,
       "align_items": null,
       "align_self": null,
       "border": null,
       "bottom": null,
       "display": null,
       "error": {},
       "flex": null,
       "flex_flow": null,
       "grid_area": null,
       "grid_auto_columns": null,
       "grid_auto_flow": null,
       "grid_auto_rows": null,
       "grid_column": null,
       "grid_gap": null,
       "grid_row": null,
       "grid_template_areas": null,
       "grid_template_columns": null,
       "grid_template_rows": null,
       "height": null,
       "justify_content": null,
       "justify_items": null,
       "left": null,
       "margin": null,
       "max_height": null,
       "max_width": null,
       "min_height": null,
       "min_width": null,
       "msg": "Failed to load model class 'LayoutModel' from module '@jupyter-widgets/base'",
       "object_fit": null,
       "object_position": null,
       "order": null,
       "overflow": null,
       "overflow_x": null,
       "overflow_y": null,
       "padding": null,
       "right": null,
       "top": null,
       "visibility": null,
       "width": null
      }
     },
     "26ccacccb90843b7ac727e9595ab1596": {
      "model_module": "@jupyter-widgets/controls",
      "model_module_version": "2.0.0",
      "model_name": "HBoxModel",
      "state": {
       "_model_module": "@jupyter-widgets/controls",
       "_model_name": "HBoxModel",
       "_view_name": "ErrorWidgetView",
       "box_style": "",
       "children": [
        "IPY_MODEL_34fa3b9e3ba74ee399312caeceb99f69",
        "IPY_MODEL_54daa2fea4ec45d0a23452074efd359e",
        "IPY_MODEL_10730754cf7a43eca9820d10763e9a41"
       ],
       "error": {},
       "layout": "IPY_MODEL_6d28c2f4d48043aa90f29bb764583bf9",
       "msg": "Failed to load model class 'HBoxModel' from module '@jupyter-widgets/controls'"
      }
     },
     "34fa3b9e3ba74ee399312caeceb99f69": {
      "model_module": "@jupyter-widgets/controls",
      "model_module_version": "2.0.0",
      "model_name": "HTMLModel",
      "state": {
       "_model_module": "@jupyter-widgets/controls",
       "_model_name": "HTMLModel",
       "_view_name": "ErrorWidgetView",
       "description": "",
       "description_tooltip": null,
       "error": {},
       "layout": "IPY_MODEL_e9446ec84ebf43ada6872814f2acb0bb",
       "msg": "Failed to load model class 'HTMLModel' from module '@jupyter-widgets/controls'",
       "placeholder": "​",
       "style": "IPY_MODEL_690ee1b6a3cf43adb5164f200cad4fb4",
       "value": "100%"
      }
     },
     "45e44448b1ea450db792b21878b84f01": {
      "model_module": "@jupyter-widgets/controls",
      "model_module_version": "2.0.0",
      "model_name": "ProgressStyleModel",
      "state": {
       "_model_module": "@jupyter-widgets/controls",
       "_model_name": "ProgressStyleModel",
       "_view_name": "ErrorWidgetView",
       "bar_color": null,
       "description_width": "",
       "error": {},
       "msg": "Failed to load model class 'ProgressStyleModel' from module '@jupyter-widgets/controls'"
      }
     },
     "54daa2fea4ec45d0a23452074efd359e": {
      "model_module": "@jupyter-widgets/controls",
      "model_module_version": "2.0.0",
      "model_name": "FloatProgressModel",
      "state": {
       "_model_module": "@jupyter-widgets/controls",
       "_model_name": "FloatProgressModel",
       "_view_name": "ErrorWidgetView",
       "bar_style": "success",
       "description": "",
       "description_tooltip": null,
       "error": {},
       "layout": "IPY_MODEL_218cfca13d80402ab877a02fc12211cb",
       "max": 11531,
       "min": 0,
       "msg": "Failed to load model class 'FloatProgressModel' from module '@jupyter-widgets/controls'",
       "orientation": "horizontal",
       "style": "IPY_MODEL_9706bfc895af4431a44ab22509435387",
       "value": 11531
      }
     },
     "690ee1b6a3cf43adb5164f200cad4fb4": {
      "model_module": "@jupyter-widgets/controls",
      "model_module_version": "2.0.0",
      "model_name": "DescriptionStyleModel",
      "state": {
       "_model_module": "@jupyter-widgets/controls",
       "_model_name": "DescriptionStyleModel",
       "_view_name": "ErrorWidgetView",
       "description_width": "",
       "error": {},
       "msg": "Failed to load model class 'DescriptionStyleModel' from module '@jupyter-widgets/controls'"
      }
     },
     "6d28c2f4d48043aa90f29bb764583bf9": {
      "model_module": "@jupyter-widgets/base",
      "model_module_version": "2.0.0",
      "model_name": "LayoutModel",
      "state": {
       "_model_name": "LayoutModel",
       "_view_name": "ErrorWidgetView",
       "align_content": null,
       "align_items": null,
       "align_self": null,
       "border": null,
       "bottom": null,
       "display": null,
       "error": {},
       "flex": null,
       "flex_flow": null,
       "grid_area": null,
       "grid_auto_columns": null,
       "grid_auto_flow": null,
       "grid_auto_rows": null,
       "grid_column": null,
       "grid_gap": null,
       "grid_row": null,
       "grid_template_areas": null,
       "grid_template_columns": null,
       "grid_template_rows": null,
       "height": null,
       "justify_content": null,
       "justify_items": null,
       "left": null,
       "margin": null,
       "max_height": null,
       "max_width": null,
       "min_height": null,
       "min_width": null,
       "msg": "Failed to load model class 'LayoutModel' from module '@jupyter-widgets/base'",
       "object_fit": null,
       "object_position": null,
       "order": null,
       "overflow": null,
       "overflow_x": null,
       "overflow_y": null,
       "padding": null,
       "right": null,
       "top": null,
       "visibility": null,
       "width": null
      }
     },
     "6e12fbb8b0f349e09c32c14601a1eddc": {
      "model_module": "@jupyter-widgets/controls",
      "model_module_version": "2.0.0",
      "model_name": "HTMLModel",
      "state": {
       "_model_module": "@jupyter-widgets/controls",
       "_model_name": "HTMLModel",
       "_view_name": "ErrorWidgetView",
       "description": "",
       "description_tooltip": null,
       "error": {},
       "layout": "IPY_MODEL_0cf8ded72d3147d681343573a3c5c3ad",
       "msg": "Failed to load model class 'HTMLModel' from module '@jupyter-widgets/controls'",
       "placeholder": "​",
       "style": "IPY_MODEL_07b43483463e4ae3b9a7b160d8938299",
       "value": "Loading graphs: 100%"
      }
     },
     "7821741103e94b03923bba81dbc4c2a9": {
      "model_module": "@jupyter-widgets/controls",
      "model_module_version": "2.0.0",
      "model_name": "HTMLModel",
      "state": {
       "_model_module": "@jupyter-widgets/controls",
       "_model_name": "HTMLModel",
       "_view_name": "ErrorWidgetView",
       "description": "",
       "description_tooltip": null,
       "error": {},
       "layout": "IPY_MODEL_0b87e5fec1ff41aeb4c9e624a222f89b",
       "msg": "Failed to load model class 'HTMLModel' from module '@jupyter-widgets/controls'",
       "placeholder": "​",
       "style": "IPY_MODEL_14391e150296461ca407c9ff78c5ae7e",
       "value": " 11534/11534 [00:56&lt;00:00, 247.95it/s]"
      }
     },
     "9706bfc895af4431a44ab22509435387": {
      "model_module": "@jupyter-widgets/controls",
      "model_module_version": "2.0.0",
      "model_name": "ProgressStyleModel",
      "state": {
       "_model_module": "@jupyter-widgets/controls",
       "_model_name": "ProgressStyleModel",
       "_view_name": "ErrorWidgetView",
       "bar_color": null,
       "description_width": "",
       "error": {},
       "msg": "Failed to load model class 'ProgressStyleModel' from module '@jupyter-widgets/controls'"
      }
     },
     "9b5d28e41af94931b674dcd1ddf14562": {
      "model_module": "@jupyter-widgets/base",
      "model_module_version": "2.0.0",
      "model_name": "LayoutModel",
      "state": {
       "_model_name": "LayoutModel",
       "_view_name": "ErrorWidgetView",
       "align_content": null,
       "align_items": null,
       "align_self": null,
       "border": null,
       "bottom": null,
       "display": null,
       "error": {},
       "flex": null,
       "flex_flow": null,
       "grid_area": null,
       "grid_auto_columns": null,
       "grid_auto_flow": null,
       "grid_auto_rows": null,
       "grid_column": null,
       "grid_gap": null,
       "grid_row": null,
       "grid_template_areas": null,
       "grid_template_columns": null,
       "grid_template_rows": null,
       "height": null,
       "justify_content": null,
       "justify_items": null,
       "left": null,
       "margin": null,
       "max_height": null,
       "max_width": null,
       "min_height": null,
       "min_width": null,
       "msg": "Failed to load model class 'LayoutModel' from module '@jupyter-widgets/base'",
       "object_fit": null,
       "object_position": null,
       "order": null,
       "overflow": null,
       "overflow_x": null,
       "overflow_y": null,
       "padding": null,
       "right": null,
       "top": null,
       "visibility": null,
       "width": null
      }
     },
     "c5606e09c1de4100be70fc1ef5fb367d": {
      "model_module": "@jupyter-widgets/base",
      "model_module_version": "2.0.0",
      "model_name": "LayoutModel",
      "state": {
       "_model_name": "LayoutModel",
       "_view_name": "ErrorWidgetView",
       "align_content": null,
       "align_items": null,
       "align_self": null,
       "border": null,
       "bottom": null,
       "display": null,
       "error": {},
       "flex": null,
       "flex_flow": null,
       "grid_area": null,
       "grid_auto_columns": null,
       "grid_auto_flow": null,
       "grid_auto_rows": null,
       "grid_column": null,
       "grid_gap": null,
       "grid_row": null,
       "grid_template_areas": null,
       "grid_template_columns": null,
       "grid_template_rows": null,
       "height": null,
       "justify_content": null,
       "justify_items": null,
       "left": null,
       "margin": null,
       "max_height": null,
       "max_width": null,
       "min_height": null,
       "min_width": null,
       "msg": "Failed to load model class 'LayoutModel' from module '@jupyter-widgets/base'",
       "object_fit": null,
       "object_position": null,
       "order": null,
       "overflow": null,
       "overflow_x": null,
       "overflow_y": null,
       "padding": null,
       "right": null,
       "top": null,
       "visibility": null,
       "width": null
      }
     },
     "ce6b2459d7fb430d9b0a8820031189de": {
      "model_module": "@jupyter-widgets/controls",
      "model_module_version": "2.0.0",
      "model_name": "FloatProgressModel",
      "state": {
       "_model_module": "@jupyter-widgets/controls",
       "_model_name": "FloatProgressModel",
       "_view_name": "ErrorWidgetView",
       "bar_style": "success",
       "description": "",
       "description_tooltip": null,
       "error": {},
       "layout": "IPY_MODEL_c5606e09c1de4100be70fc1ef5fb367d",
       "max": 11534,
       "min": 0,
       "msg": "Failed to load model class 'FloatProgressModel' from module '@jupyter-widgets/controls'",
       "orientation": "horizontal",
       "style": "IPY_MODEL_45e44448b1ea450db792b21878b84f01",
       "value": 11534
      }
     },
     "e9446ec84ebf43ada6872814f2acb0bb": {
      "model_module": "@jupyter-widgets/base",
      "model_module_version": "2.0.0",
      "model_name": "LayoutModel",
      "state": {
       "_model_name": "LayoutModel",
       "_view_name": "ErrorWidgetView",
       "align_content": null,
       "align_items": null,
       "align_self": null,
       "border": null,
       "bottom": null,
       "display": null,
       "error": {},
       "flex": null,
       "flex_flow": null,
       "grid_area": null,
       "grid_auto_columns": null,
       "grid_auto_flow": null,
       "grid_auto_rows": null,
       "grid_column": null,
       "grid_gap": null,
       "grid_row": null,
       "grid_template_areas": null,
       "grid_template_columns": null,
       "grid_template_rows": null,
       "height": null,
       "justify_content": null,
       "justify_items": null,
       "left": null,
       "margin": null,
       "max_height": null,
       "max_width": null,
       "min_height": null,
       "min_width": null,
       "msg": "Failed to load model class 'LayoutModel' from module '@jupyter-widgets/base'",
       "object_fit": null,
       "object_position": null,
       "order": null,
       "overflow": null,
       "overflow_x": null,
       "overflow_y": null,
       "padding": null,
       "right": null,
       "top": null,
       "visibility": null,
       "width": null
      }
     },
     "f64c7011415b4ea3a3043c3a81009193": {
      "model_module": "@jupyter-widgets/controls",
      "model_module_version": "2.0.0",
      "model_name": "HBoxModel",
      "state": {
       "_model_module": "@jupyter-widgets/controls",
       "_model_name": "HBoxModel",
       "_view_name": "ErrorWidgetView",
       "box_style": "",
       "children": [
        "IPY_MODEL_6e12fbb8b0f349e09c32c14601a1eddc",
        "IPY_MODEL_ce6b2459d7fb430d9b0a8820031189de",
        "IPY_MODEL_7821741103e94b03923bba81dbc4c2a9"
       ],
       "error": {},
       "layout": "IPY_MODEL_9b5d28e41af94931b674dcd1ddf14562",
       "msg": "Failed to load model class 'HBoxModel' from module '@jupyter-widgets/controls'"
      }
     }
    },
    "version_major": 2,
    "version_minor": 0
   }
  }
 },
 "nbformat": 4,
 "nbformat_minor": 5
}
