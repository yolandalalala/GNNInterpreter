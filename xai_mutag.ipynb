{
 "cells": [
  {
   "cell_type": "code",
   "execution_count": 1,
   "id": "1a91b813",
   "metadata": {
    "collapsed": false,
    "pycharm": {
     "name": "#%%\n"
    },
    "ExecuteTime": {
     "end_time": "2023-10-30T09:34:35.229826Z",
     "start_time": "2023-10-30T09:34:35.212897Z"
    }
   },
   "outputs": [],
   "source": [
    "%load_ext autoreload\n",
    "%autoreload 2"
   ]
  },
  {
   "cell_type": "code",
   "execution_count": 2,
   "id": "c7f4188d",
   "metadata": {
    "collapsed": false,
    "pycharm": {
     "name": "#%%\n"
    },
    "ExecuteTime": {
     "end_time": "2023-10-30T09:34:39.474019Z",
     "start_time": "2023-10-30T09:34:35.721495Z"
    }
   },
   "outputs": [],
   "source": [
    "from gnninterpreter import *"
   ]
  },
  {
   "cell_type": "code",
   "execution_count": 3,
   "id": "2ab76fb3",
   "metadata": {
    "collapsed": false,
    "pycharm": {
     "name": "#%%\n"
    },
    "ExecuteTime": {
     "end_time": "2023-10-30T09:34:39.676481Z",
     "start_time": "2023-10-30T09:34:39.474492Z"
    }
   },
   "outputs": [],
   "source": [
    "import numpy as np\n",
    "import matplotlib.pyplot as plt\n",
    "\n",
    "from tqdm.auto import tqdm, trange\n",
    "\n",
    "import torch\n",
    "from torch import nn\n",
    "import torch_geometric as pyg\n",
    "from torchmetrics import F1Score"
   ]
  },
  {
   "cell_type": "markdown",
   "id": "395a07f1",
   "metadata": {},
   "source": [
    "# Mutag"
   ]
  },
  {
   "cell_type": "code",
   "execution_count": 13,
   "id": "52747602",
   "metadata": {
    "collapsed": false,
    "pycharm": {
     "name": "#%%\n"
    },
    "ExecuteTime": {
     "end_time": "2023-10-30T09:56:21.555920Z",
     "start_time": "2023-10-30T09:56:21.492420Z"
    }
   },
   "outputs": [],
   "source": [
    "mutag = MUTAGDataset(seed=12345)\n",
    "k_fold = 10\n",
    "train_data = mutag[len(mutag)//k_fold:]\n",
    "val_data = mutag[:len(mutag)//k_fold]\n",
    "train_loader = pyg.loader.DataLoader(train_data, batch_size=32, shuffle=True)\n",
    "val_loader = pyg.loader.DataLoader(val_data, batch_size=32, shuffle=False)\n",
    "all_loader = pyg.loader.DataLoader(mutag, batch_size=32, shuffle=False)"
   ]
  },
  {
   "cell_type": "code",
   "execution_count": 6,
   "id": "cc13aec4-3010-481b-89e1-dbc75b4ef012",
   "metadata": {
    "ExecuteTime": {
     "end_time": "2023-10-30T09:54:42.928194Z",
     "start_time": "2023-10-30T09:54:42.889348Z"
    }
   },
   "outputs": [
    {
     "data": {
      "text/plain": "{'mean_n': 17.930851063829788,\n 'mean_m': 19.79255319148936,\n 'std_n': 4.575664737098715,\n 'std_m': 5.684483160355228}"
     },
     "execution_count": 6,
     "metadata": {},
     "output_type": "execute_result"
    }
   ],
   "source": [
    "mutag.describe()"
   ]
  },
  {
   "cell_type": "markdown",
   "id": "c004f55d-eae8-44af-983e-8ecd3aa9115b",
   "metadata": {},
   "source": [
    "# Train Model"
   ]
  },
  {
   "cell_type": "code",
   "execution_count": 7,
   "id": "4c1617a4-666d-43de-8f0e-c5301b74375f",
   "metadata": {
    "collapsed": false,
    "pycharm": {
     "name": "#%%\n"
    },
    "ExecuteTime": {
     "end_time": "2023-10-30T09:55:03.921257Z",
     "start_time": "2023-10-30T09:55:03.892868Z"
    }
   },
   "outputs": [],
   "source": [
    "model = GNNClassifier(hidden_channels=64,\n",
    "                      node_features=len(mutag.NODE_CLS),\n",
    "                      num_classes=len(mutag.GRAPH_CLS))\n",
    "optimizer = torch.optim.AdamW(model.parameters(), lr=0.01)\n",
    "criterion = nn.CrossEntropyLoss()"
   ]
  },
  {
   "cell_type": "code",
   "execution_count": 8,
   "id": "7cc78d48-f44b-4775-9589-864611bed0c4",
   "metadata": {
    "pycharm": {
     "name": "#%%\n"
    },
    "scrolled": true,
    "tags": [],
    "ExecuteTime": {
     "end_time": "2023-10-30T09:55:20.739355Z",
     "start_time": "2023-10-30T09:55:20.711979Z"
    }
   },
   "outputs": [],
   "source": [
    "def train():\n",
    "    model.train()\n",
    "    losses = []\n",
    "    for batch in tqdm(train_loader, position=1, leave=False, disable=True):\n",
    "        model.zero_grad()  # Clear gradients.\n",
    "        out = model(batch)  # Perform a single forward pass.\n",
    "        loss = criterion(out['logits'], batch.y)  # Compute the loss.\n",
    "        loss.backward()  # Derive gradients.\n",
    "        optimizer.step()  # Update parameters based on gradients.\n",
    "        losses.append(loss.item())\n",
    "    return np.mean(losses)\n",
    "\n",
    "@torch.no_grad()\n",
    "def test(loader):\n",
    "    f1 = F1Score(task=\"multiclass\", num_classes=len(mutag.GRAPH_CLS), average=None)\n",
    "    model.eval()\n",
    "    for batch in tqdm(loader, position=1, leave=False, disable=True):\n",
    "        f1(model(batch)['logits'], batch.y)\n",
    "    return dict(zip(mutag.GRAPH_CLS.values(), f1.compute().tolist()))\n",
    "\n",
    "@torch.no_grad()\n",
    "def gt_score():\n",
    "    batch = pyg.data.Batch.from_data_list([mutag.motifs[1]])\n",
    "    neg, pos = model(batch).mean(dim=0).numpy()\n",
    "    return neg, pos"
   ]
  },
  {
   "cell_type": "code",
   "execution_count": null,
   "id": "1eaf7202-9c73-4823-9ea0-7db524818c7d",
   "metadata": {
    "pycharm": {
     "name": "#%%\n"
    },
    "scrolled": true,
    "tags": [],
    "is_executing": true,
    "ExecuteTime": {
     "start_time": "2023-10-30T09:29:07.067998Z"
    }
   },
   "outputs": [
    {
     "name": "stdout",
     "output_type": "stream",
     "text": [
      "Epoch: 000, Train Loss: 1.2749, Train Acc: {'random': 0.34185463190078735, 'lollipop': 0.08935974538326263, 'wheel': 0.8567175269126892, 'grid': 0.49056604504585266, 'star': 0.9532010555267334}, Test Acc: {'random': 0.2590673565864563, 'lollipop': 0.05907173082232475, 'wheel': 0.8856304883956909, 'grid': 0.49070632457733154, 'star': 0.962199330329895}, \n",
      "Epoch: 001, Train Loss: 0.7152, Train Acc: {'random': 0.6875210404396057, 'lollipop': 0.08843187987804413, 'wheel': 0.9398385882377625, 'grid': 0.5603621602058411, 'star': 0.9942445755004883}, Test Acc: {'random': 0.6578947305679321, 'lollipop': 0.08372092992067337, 'wheel': 0.945868968963623, 'grid': 0.5581395626068115, 'star': 0.9933333396911621}, \n",
      "Epoch: 002, Train Loss: 0.6276, Train Acc: {'random': 0.6162821650505066, 'lollipop': 0.4423440396785736, 'wheel': 0.9380764365196228, 'grid': 0.44609665870666504, 'star': 1.0}, Test Acc: {'random': 0.6025974154472351, 'lollipop': 0.4041095972061157, 'wheel': 0.9551451206207275, 'grid': 0.4628099203109741, 'star': 1.0}, \n",
      "Epoch: 003, Train Loss: 0.5888, Train Acc: {'random': 0.7158451676368713, 'lollipop': 0.0, 'wheel': 0.9729729890823364, 'grid': 0.6468366384506226, 'star': 0.9982085227966309}, Test Acc: {'random': 0.6928104758262634, 'lollipop': 0.0, 'wheel': 0.9836065769195557, 'grid': 0.6537634134292603, 'star': 0.9966777563095093}, \n",
      "Epoch: 004, Train Loss: 0.5574, Train Acc: {'random': 0.3940482437610626, 'lollipop': 0.48555588722229004, 'wheel': 0.9345454573631287, 'grid': 0.6372745633125305, 'star': 0.9946062564849854}, Test Acc: {'random': 0.41999998688697815, 'lollipop': 0.4864864945411682, 'wheel': 0.9488636255264282, 'grid': 0.6243386268615723, 'star': 0.9933333396911621}, \n",
      "Epoch: 005, Train Loss: 0.5149, Train Acc: {'random': 0.7198898792266846, 'lollipop': 0.40638864040374756, 'wheel': 0.9697601795196533, 'grid': 0.7022943496704102, 'star': 0.9974901676177979}, Test Acc: {'random': 0.7157190442085266, 'lollipop': 0.4534412920475006, 'wheel': 0.975476861000061, 'grid': 0.713178277015686, 'star': 0.9933333396911621}, \n",
      "Epoch: 006, Train Loss: 0.4956, Train Acc: {'random': 0.560474693775177, 'lollipop': 0.39751553535461426, 'wheel': 0.9473307132720947, 'grid': 0.6643683910369873, 'star': 0.9946062564849854}, Test Acc: {'random': 0.5726872086524963, 'lollipop': 0.39259257912635803, 'wheel': 0.9579831957817078, 'grid': 0.6547085046768188, 'star': 0.9933333396911621}, \n",
      "Epoch: 007, Train Loss: 0.4824, Train Acc: {'random': 0.7455841302871704, 'lollipop': 0.45225298404693604, 'wheel': 0.962837815284729, 'grid': 0.6651100516319275, 'star': 1.0}, Test Acc: {'random': 0.6951219439506531, 'lollipop': 0.45864662528038025, 'wheel': 0.9731183052062988, 'grid': 0.6626505851745605, 'star': 1.0}, \n",
      "Epoch: 008, Train Loss: 0.4934, Train Acc: {'random': 0.6863994002342224, 'lollipop': 0.607580840587616, 'wheel': 0.9517388343811035, 'grid': 0.643081784248352, 'star': 0.9946062564849854}, Test Acc: {'random': 0.699999988079071, 'lollipop': 0.6304909586906433, 'wheel': 0.9637883305549622, 'grid': 0.6496350169181824, 'star': 0.9933333396911621}, \n",
      "Epoch: 009, Train Loss: 0.4721, Train Acc: {'random': 0.7094515562057495, 'lollipop': 0.5489781498908997, 'wheel': 0.9583333134651184, 'grid': 0.7059513330459595, 'star': 1.0}, Test Acc: {'random': 0.7169811129570007, 'lollipop': 0.5804416537284851, 'wheel': 0.9633802771568298, 'grid': 0.698060929775238, 'star': 1.0}, \n",
      "Epoch: 010, Train Loss: 0.4565, Train Acc: {'random': 0.7456806898117065, 'lollipop': 0.6049273014068604, 'wheel': 0.9651530981063843, 'grid': 0.635200023651123, 'star': 1.0}, Test Acc: {'random': 0.7290970087051392, 'lollipop': 0.6410958766937256, 'wheel': 0.9750692248344421, 'grid': 0.6446886658668518, 'star': 1.0}, \n",
      "Epoch: 011, Train Loss: 0.4466, Train Acc: {'random': 0.7364317774772644, 'lollipop': 0.457883358001709, 'wheel': 0.9736931920051575, 'grid': 0.7023455500602722, 'star': 1.0}, Test Acc: {'random': 0.6941176652908325, 'lollipop': 0.4320000112056732, 'wheel': 0.9863760471343994, 'grid': 0.6803519129753113, 'star': 1.0}, \n",
      "Epoch: 012, Train Loss: 0.4405, Train Acc: {'random': 0.6774069666862488, 'lollipop': 0.6254681944847107, 'wheel': 0.9510086178779602, 'grid': 0.6385542154312134, 'star': 0.9974901676177979}, Test Acc: {'random': 0.678966760635376, 'lollipop': 0.641791045665741, 'wheel': 0.9577465057373047, 'grid': 0.6397058963775635, 'star': 0.9933333396911621}, \n",
      "Epoch: 013, Train Loss: 0.4440, Train Acc: {'random': 0.6525244116783142, 'lollipop': 0.6352941393852234, 'wheel': 0.9594594836235046, 'grid': 0.6986842155456543, 'star': 0.9982085227966309}, Test Acc: {'random': 0.6721311211585999, 'lollipop': 0.6522911190986633, 'wheel': 0.9693593382835388, 'grid': 0.689230740070343, 'star': 0.9966777563095093}, \n",
      "Epoch: 014, Train Loss: 0.4277, Train Acc: {'random': 0.7513611912727356, 'lollipop': 0.6329731345176697, 'wheel': 0.964336633682251, 'grid': 0.749370276927948, 'star': 1.0}, Test Acc: {'random': 0.7719298005104065, 'lollipop': 0.6581469774246216, 'wheel': 0.9720670580863953, 'grid': 0.7368420958518982, 'star': 1.0}, \n",
      "Epoch: 015, Train Loss: 0.4127, Train Acc: {'random': 0.6767100691795349, 'lollipop': 0.6494486331939697, 'wheel': 0.959213376045227, 'grid': 0.6955345273017883, 'star': 1.0}, Test Acc: {'random': 0.695652186870575, 'lollipop': 0.6684492230415344, 'wheel': 0.9629629850387573, 'grid': 0.6812499761581421, 'star': 1.0}, \n",
      "Epoch: 016, Train Loss: 0.4211, Train Acc: {'random': 0.7348659038543701, 'lollipop': 0.6027713418006897, 'wheel': 0.9773039817810059, 'grid': 0.7786697149276733, 'star': 1.0}, Test Acc: {'random': 0.7956204414367676, 'lollipop': 0.6762589812278748, 'wheel': 0.9890710115432739, 'grid': 0.7894737124443054, 'star': 1.0}, \n",
      "Epoch: 017, Train Loss: 0.4190, Train Acc: {'random': 0.7151469588279724, 'lollipop': 0.4029339849948883, 'wheel': 0.9675414562225342, 'grid': 0.7118982076644897, 'star': 1.0}, Test Acc: {'random': 0.7106227278709412, 'lollipop': 0.4890829622745514, 'wheel': 0.9808219075202942, 'grid': 0.7285382747650146, 'star': 1.0}, \n",
      "Epoch: 018, Train Loss: 0.4097, Train Acc: {'random': 0.7668955326080322, 'lollipop': 0.6201183199882507, 'wheel': 0.9729729890823364, 'grid': 0.7833723425865173, 'star': 1.0}, Test Acc: {'random': 0.7789473533630371, 'lollipop': 0.6446886658668518, 'wheel': 0.9890710115432739, 'grid': 0.7914438247680664, 'star': 1.0}, \n",
      "Epoch: 019, Train Loss: 0.4011, Train Acc: {'random': 0.7562710642814636, 'lollipop': 0.6020283699035645, 'wheel': 0.9704849123954773, 'grid': 0.7603533864021301, 'star': 1.0}, Test Acc: {'random': 0.75, 'lollipop': 0.6523297429084778, 'wheel': 0.9806094169616699, 'grid': 0.772020697593689, 'star': 1.0}, \n",
      "Epoch: 020, Train Loss: 0.4033, Train Acc: {'random': 0.7541603446006775, 'lollipop': 0.5435630679130554, 'wheel': 0.9743589758872986, 'grid': 0.7644850015640259, 'star': 1.0}, Test Acc: {'random': 0.7810218930244446, 'lollipop': 0.5976095795631409, 'wheel': 0.9890710115432739, 'grid': 0.7764127850532532, 'star': 1.0}, \n",
      "Epoch: 021, Train Loss: 0.3983, Train Acc: {'random': 0.7187373638153076, 'lollipop': 0.6466735601425171, 'wheel': 0.9683257937431335, 'grid': 0.75081866979599, 'star': 1.0}, Test Acc: {'random': 0.7615384459495544, 'lollipop': 0.6837060451507568, 'wheel': 0.9807162284851074, 'grid': 0.7569060921669006, 'star': 1.0}, \n",
      "Epoch: 022, Train Loss: 0.3963, Train Acc: {'random': 0.6799308061599731, 'lollipop': 0.6699721217155457, 'wheel': 0.9646806716918945, 'grid': 0.7461680173873901, 'star': 1.0}, Test Acc: {'random': 0.6916666626930237, 'lollipop': 0.6857143044471741, 'wheel': 0.9720670580863953, 'grid': 0.7314285635948181, 'star': 1.0}, \n",
      "Epoch: 023, Train Loss: 0.4033, Train Acc: {'random': 0.687162458896637, 'lollipop': 0.6302492022514343, 'wheel': 0.9725545644760132, 'grid': 0.7314652800559998, 'star': 1.0}, Test Acc: {'random': 0.6827309131622314, 'lollipop': 0.6483180522918701, 'wheel': 0.9806094169616699, 'grid': 0.7257617712020874, 'star': 1.0}, \n",
      "Epoch: 024, Train Loss: 0.3953, Train Acc: {'random': 0.7702560424804688, 'lollipop': 0.6434724926948547, 'wheel': 0.957868218421936, 'grid': 0.7241379022598267, 'star': 1.0}, Test Acc: {'random': 0.7777777910232544, 'lollipop': 0.6585366129875183, 'wheel': 0.9776536226272583, 'grid': 0.7160493731498718, 'star': 1.0}, \n",
      "Epoch: 025, Train Loss: 0.4079, Train Acc: {'random': 0.7584843635559082, 'lollipop': 0.44337812066078186, 'wheel': 0.969333827495575, 'grid': 0.7620614171028137, 'star': 1.0}, Test Acc: {'random': 0.7331189513206482, 'lollipop': 0.44052863121032715, 'wheel': 0.9834254384040833, 'grid': 0.7738693356513977, 'star': 1.0}, \n",
      "Epoch: 026, Train Loss: 0.4136, Train Acc: {'random': 0.6999292373657227, 'lollipop': 0.5918927192687988, 'wheel': 0.9445451498031616, 'grid': 0.6593806743621826, 'star': 0.9974901676177979}, Test Acc: {'random': 0.7034482955932617, 'lollipop': 0.6201117038726807, 'wheel': 0.9606741666793823, 'grid': 0.6891891956329346, 'star': 0.9933333396911621}, \n",
      "Epoch: 027, Train Loss: 0.4093, Train Acc: {'random': 0.7543534636497498, 'lollipop': 0.6155038475990295, 'wheel': 0.9750256538391113, 'grid': 0.7824808955192566, 'star': 1.0}, Test Acc: {'random': 0.7725631594657898, 'lollipop': 0.6411150097846985, 'wheel': 0.9863760471343994, 'grid': 0.779291570186615, 'star': 1.0}, \n",
      "Epoch: 028, Train Loss: 0.4117, Train Acc: {'random': 0.7281733751296997, 'lollipop': 0.4440020024776459, 'wheel': 0.9395440816879272, 'grid': 0.760047972202301, 'star': 0.9985714554786682}, Test Acc: {'random': 0.684684693813324, 'lollipop': 0.43317973613739014, 'wheel': 0.9627659320831299, 'grid': 0.7493261694908142, 'star': 0.9966996908187866}, \n",
      "Epoch: 029, Train Loss: 0.3826, Train Acc: {'random': 0.7427724003791809, 'lollipop': 0.6520022749900818, 'wheel': 0.9632768630981445, 'grid': 0.672468364238739, 'star': 1.0}, Test Acc: {'random': 0.7246376872062683, 'lollipop': 0.6683937907218933, 'wheel': 0.9777777791023254, 'grid': 0.6739130616188049, 'star': 1.0}, \n",
      "Epoch: 030, Train Loss: 0.3943, Train Acc: {'random': 0.7721238732337952, 'lollipop': 0.60317462682724, 'wheel': 0.9708737730979919, 'grid': 0.7817516326904297, 'star': 1.0}, Test Acc: {'random': 0.7664233446121216, 'lollipop': 0.6397058963775635, 'wheel': 0.9863013625144958, 'grid': 0.7958656549453735, 'star': 1.0}, \n",
      "Epoch: 031, Train Loss: 0.3753, Train Acc: {'random': 0.7890765070915222, 'lollipop': 0.6974818706512451, 'wheel': 0.9649309515953064, 'grid': 0.7879961133003235, 'star': 1.0}, Test Acc: {'random': 0.7872340679168701, 'lollipop': 0.7204968929290771, 'wheel': 0.9806094169616699, 'grid': 0.7807807922363281, 'star': 1.0}, \n",
      "Epoch: 032, Train Loss: 0.3896, Train Acc: {'random': 0.7671957612037659, 'lollipop': 0.4898941218852997, 'wheel': 0.9573395848274231, 'grid': 0.767092227935791, 'star': 1.0}, Test Acc: {'random': 0.7476038336753845, 'lollipop': 0.4821428656578064, 'wheel': 0.9731183052062988, 'grid': 0.76606684923172, 'star': 1.0}, \n",
      "Epoch: 033, Train Loss: 0.3973, Train Acc: {'random': 0.7639955878257751, 'lollipop': 0.6383426785469055, 'wheel': 0.9676522016525269, 'grid': 0.7541295886039734, 'star': 1.0}, Test Acc: {'random': 0.758865237236023, 'lollipop': 0.6237941980361938, 'wheel': 0.9807162284851074, 'grid': 0.7251461744308472, 'star': 1.0}, \n",
      "Epoch: 034, Train Loss: 0.3754, Train Acc: {'random': 0.790224015712738, 'lollipop': 0.6299960613250732, 'wheel': 0.975626528263092, 'grid': 0.7899316549301147, 'star': 1.0}, Test Acc: {'random': 0.7692307829856873, 'lollipop': 0.6334519386291504, 'wheel': 0.9890710115432739, 'grid': 0.7727272510528564, 'star': 1.0}, \n",
      "Epoch: 035, Train Loss: 0.3806, Train Acc: {'random': 0.7756360769271851, 'lollipop': 0.6840347647666931, 'wheel': 0.9705168008804321, 'grid': 0.7602936625480652, 'star': 1.0}, Test Acc: {'random': 0.7777777910232544, 'lollipop': 0.7055214643478394, 'wheel': 0.9863013625144958, 'grid': 0.7655786275863647, 'star': 1.0}, \n",
      "Epoch: 036, Train Loss: 0.3798, Train Acc: {'random': 0.7578241229057312, 'lollipop': 0.6666666865348816, 'wheel': 0.9590728282928467, 'grid': 0.7776809334754944, 'star': 1.0}, Test Acc: {'random': 0.7591241002082825, 'lollipop': 0.691525399684906, 'wheel': 0.9604519605636597, 'grid': 0.762666642665863, 'star': 1.0}, \n",
      "Epoch: 037, Train Loss: 0.3719, Train Acc: {'random': 0.7204724550247192, 'lollipop': 0.6572157740592957, 'wheel': 0.9583333134651184, 'grid': 0.6703540086746216, 'star': 0.9974901676177979}, Test Acc: {'random': 0.7392995953559875, 'lollipop': 0.6952140927314758, 'wheel': 0.9695290923118591, 'grid': 0.680701732635498, 'star': 0.9933333396911621}, \n",
      "Epoch: 038, Train Loss: 0.3797, Train Acc: {'random': 0.7733426094055176, 'lollipop': 0.6649672389030457, 'wheel': 0.9589502215385437, 'grid': 0.7547420859336853, 'star': 1.0}, Test Acc: {'random': 0.7687074542045593, 'lollipop': 0.6688963174819946, 'wheel': 0.9731183052062988, 'grid': 0.7147147059440613, 'star': 1.0}, \n",
      "Epoch: 039, Train Loss: 0.3694, Train Acc: {'random': 0.7757665514945984, 'lollipop': 0.5577758550643921, 'wheel': 0.9797041416168213, 'grid': 0.7689805030822754, 'star': 1.0}, Test Acc: {'random': 0.7913669347763062, 'lollipop': 0.6190476417541504, 'wheel': 0.9890710115432739, 'grid': 0.7761194109916687, 'star': 1.0}, \n",
      "Epoch: 040, Train Loss: 0.3715, Train Acc: {'random': 0.7725657224655151, 'lollipop': 0.6441260576248169, 'wheel': 0.9713886976242065, 'grid': 0.6450287699699402, 'star': 1.0}, Test Acc: {'random': 0.7628865838050842, 'lollipop': 0.6543535590171814, 'wheel': 0.9863013625144958, 'grid': 0.6539924144744873, 'star': 1.0}, \n",
      "Epoch: 041, Train Loss: 0.3805, Train Acc: {'random': 0.7639332413673401, 'lollipop': 0.529411792755127, 'wheel': 0.9638146758079529, 'grid': 0.7674033045768738, 'star': 1.0}, Test Acc: {'random': 0.7569444179534912, 'lollipop': 0.550000011920929, 'wheel': 0.9783783555030823, 'grid': 0.7649999856948853, 'star': 1.0}, \n",
      "Epoch: 042, Train Loss: 0.3521, Train Acc: {'random': 0.7776151895523071, 'lollipop': 0.7091377377510071, 'wheel': 0.9647228121757507, 'grid': 0.7649028897285461, 'star': 0.9992842078208923}, Test Acc: {'random': 0.7887324094772339, 'lollipop': 0.719298243522644, 'wheel': 0.9690141081809998, 'grid': 0.7610062956809998, 'star': 0.9966777563095093}, \n",
      "Epoch: 043, Train Loss: 0.3603, Train Acc: {'random': 0.8127884268760681, 'lollipop': 0.6881977915763855, 'wheel': 0.9659632444381714, 'grid': 0.7938540577888489, 'star': 1.0}, Test Acc: {'random': 0.7934426069259644, 'lollipop': 0.6959707140922546, 'wheel': 0.9729729890823364, 'grid': 0.7771428823471069, 'star': 1.0}, \n",
      "Epoch: 044, Train Loss: 0.3460, Train Acc: {'random': 0.760260820388794, 'lollipop': 0.689369261264801, 'wheel': 0.9641833901405334, 'grid': 0.7305516004562378, 'star': 1.0}, Test Acc: {'random': 0.7686567306518555, 'lollipop': 0.7180851101875305, 'wheel': 0.9747899174690247, 'grid': 0.7205387353897095, 'star': 1.0}, \n",
      "Epoch: 045, Train Loss: 0.3463, Train Acc: {'random': 0.8347765803337097, 'lollipop': 0.7197549939155579, 'wheel': 0.9817178249359131, 'grid': 0.8190892338752747, 'star': 1.0}, Test Acc: {'random': 0.8041236996650696, 'lollipop': 0.7197231650352478, 'wheel': 0.9863013625144958, 'grid': 0.798866868019104, 'star': 1.0}, \n",
      "Epoch: 046, Train Loss: 0.3268, Train Acc: {'random': 0.8319876790046692, 'lollipop': 0.7254538536071777, 'wheel': 0.9675579071044922, 'grid': 0.7722206115722656, 'star': 1.0}, Test Acc: {'random': 0.8226414918899536, 'lollipop': 0.7248322367668152, 'wheel': 0.9747899174690247, 'grid': 0.7566137313842773, 'star': 1.0}, \n",
      "Epoch: 047, Train Loss: 0.3086, Train Acc: {'random': 0.7569620013237, 'lollipop': 0.7405917644500732, 'wheel': 0.9753347635269165, 'grid': 0.767967164516449, 'star': 0.9974901676177979}, Test Acc: {'random': 0.7868852615356445, 'lollipop': 0.7586206793785095, 'wheel': 0.9807162284851074, 'grid': 0.746835470199585, 'star': 0.9933333396911621}, \n",
      "Epoch: 048, Train Loss: 0.3036, Train Acc: {'random': 0.8567483425140381, 'lollipop': 0.7053038477897644, 'wheel': 0.9824198484420776, 'grid': 0.7489016652107239, 'star': 1.0}, Test Acc: {'random': 0.8259385824203491, 'lollipop': 0.6962025165557861, 'wheel': 0.9890710115432739, 'grid': 0.7492260336875916, 'star': 1.0}, \n",
      "Epoch: 049, Train Loss: 0.2894, Train Acc: {'random': 0.8969298005104065, 'lollipop': 0.7947142124176025, 'wheel': 0.9756436944007874, 'grid': 0.770802915096283, 'star': 1.0}, Test Acc: {'random': 0.8913043737411499, 'lollipop': 0.796657383441925, 'wheel': 0.9750692248344421, 'grid': 0.7682119011878967, 'star': 1.0}, \n",
      "Epoch: 050, Train Loss: 0.2782, Train Acc: {'random': 0.842743456363678, 'lollipop': 0.7668665647506714, 'wheel': 0.9544294476509094, 'grid': 0.798090398311615, 'star': 0.9974901676177979}, Test Acc: {'random': 0.8432835936546326, 'lollipop': 0.7569444179534912, 'wheel': 0.9572649598121643, 'grid': 0.7888040542602539, 'star': 0.9933333396911621}, \n",
      "Epoch: 051, Train Loss: 0.2696, Train Acc: {'random': 0.9198875427246094, 'lollipop': 0.8149152398109436, 'wheel': 0.9799308180809021, 'grid': 0.8150684833526611, 'star': 0.9992842078208923}, Test Acc: {'random': 0.9078498482704163, 'lollipop': 0.8256880640983582, 'wheel': 0.9780219793319702, 'grid': 0.8317460417747498, 'star': 0.9966777563095093}, \n",
      "Epoch: 052, Train Loss: 0.2577, Train Acc: {'random': 0.9154694080352783, 'lollipop': 0.8386372327804565, 'wheel': 0.978006899356842, 'grid': 0.856105625629425, 'star': 1.0}, Test Acc: {'random': 0.8974359035491943, 'lollipop': 0.8083623647689819, 'wheel': 0.9890710115432739, 'grid': 0.8468468189239502, 'star': 1.0}, \n",
      "Epoch: 053, Train Loss: 0.2827, Train Acc: {'random': 0.8110377788543701, 'lollipop': 0.7343941330909729, 'wheel': 0.9554139971733093, 'grid': 0.7715091705322266, 'star': 1.0}, Test Acc: {'random': 0.790960431098938, 'lollipop': 0.7072243094444275, 'wheel': 0.9731183052062988, 'grid': 0.7508090734481812, 'star': 1.0}, \n",
      "Epoch: 054, Train Loss: 0.2442, Train Acc: {'random': 0.8742284178733826, 'lollipop': 0.805140495300293, 'wheel': 0.9699785709381104, 'grid': 0.7783972024917603, 'star': 0.9992842078208923}, Test Acc: {'random': 0.8404669165611267, 'lollipop': 0.7903226017951965, 'wheel': 0.9693593382835388, 'grid': 0.7652733325958252, 'star': 0.9966777563095093}, \n",
      "Epoch: 055, Train Loss: 0.2518, Train Acc: {'random': 0.8505154848098755, 'lollipop': 0.7913340926170349, 'wheel': 0.9606512784957886, 'grid': 0.791509747505188, 'star': 1.0}, Test Acc: {'random': 0.8338558077812195, 'lollipop': 0.7681660652160645, 'wheel': 0.9700272679328918, 'grid': 0.8049535751342773, 'star': 1.0}, \n",
      "Epoch: 056, Train Loss: 0.2415, Train Acc: {'random': 0.8471100330352783, 'lollipop': 0.7486744523048401, 'wheel': 0.9651363492012024, 'grid': 0.7857142686843872, 'star': 1.0}, Test Acc: {'random': 0.8308605551719666, 'lollipop': 0.6833855509757996, 'wheel': 0.9863013625144958, 'grid': 0.7220216393470764, 'star': 1.0}, \n",
      "Epoch: 057, Train Loss: 0.2569, Train Acc: {'random': 0.8808808922767639, 'lollipop': 0.6425629258155823, 'wheel': 0.9560549855232239, 'grid': 0.7765184640884399, 'star': 1.0}, Test Acc: {'random': 0.8698412775993347, 'lollipop': 0.6329113841056824, 'wheel': 0.9757412672042847, 'grid': 0.7839999794960022, 'star': 1.0}, \n",
      "Epoch: 058, Train Loss: 0.2604, Train Acc: {'random': 0.9002520442008972, 'lollipop': 0.8275862336158752, 'wheel': 0.967183530330658, 'grid': 0.8095238208770752, 'star': 0.9992842078208923}, Test Acc: {'random': 0.8825622797012329, 'lollipop': 0.8069164156913757, 'wheel': 0.9719101190567017, 'grid': 0.7873015999794006, 'star': 0.9966777563095093}, \n",
      "Epoch: 059, Train Loss: 0.2367, Train Acc: {'random': 0.9347747564315796, 'lollipop': 0.8499636054039001, 'wheel': 0.9791955351829529, 'grid': 0.8603561520576477, 'star': 0.9992842078208923}, Test Acc: {'random': 0.9318996667861938, 'lollipop': 0.8448845148086548, 'wheel': 0.9835164546966553, 'grid': 0.8555240631103516, 'star': 0.9966777563095093}, \n",
      "Epoch: 060, Train Loss: 0.2203, Train Acc: {'random': 0.9368606805801392, 'lollipop': 0.8585231304168701, 'wheel': 0.9805420637130737, 'grid': 0.8600066900253296, 'star': 1.0}, Test Acc: {'random': 0.9268292784690857, 'lollipop': 0.84112149477005, 'wheel': 0.9806094169616699, 'grid': 0.8389057517051697, 'star': 1.0}, \n",
      "Epoch: 061, Train Loss: 0.2499, Train Acc: {'random': 0.49389001727104187, 'lollipop': 0.6362559199333191, 'wheel': 0.9728203415870667, 'grid': 0.8260996341705322, 'star': 0.9992842078208923}, Test Acc: {'random': 0.5268292427062988, 'lollipop': 0.6483516693115234, 'wheel': 0.9691876769065857, 'grid': 0.8203753232955933, 'star': 0.9966777563095093}, \n",
      "Epoch: 062, Train Loss: 0.2291, Train Acc: {'random': 0.9285228252410889, 'lollipop': 0.866734504699707, 'wheel': 0.9685147404670715, 'grid': 0.8457960486412048, 'star': 1.0}, Test Acc: {'random': 0.9108911156654358, 'lollipop': 0.8374999761581421, 'wheel': 0.97826087474823, 'grid': 0.8208469152450562, 'star': 1.0}, \n",
      "Epoch: 063, Train Loss: 0.2441, Train Acc: {'random': 0.9091501235961914, 'lollipop': 0.8201485276222229, 'wheel': 0.9807162284851074, 'grid': 0.7957329154014587, 'star': 0.9996424913406372}, Test Acc: {'random': 0.887499988079071, 'lollipop': 0.7857142686843872, 'wheel': 0.9890710115432739, 'grid': 0.7681159377098083, 'star': 1.0}, \n",
      "Epoch: 064, Train Loss: 0.2379, Train Acc: {'random': 0.9174122214317322, 'lollipop': 0.8299733996391296, 'wheel': 0.9788880944252014, 'grid': 0.8621010184288025, 'star': 1.0}, Test Acc: {'random': 0.9078947305679321, 'lollipop': 0.7942238450050354, 'wheel': 0.9777777791023254, 'grid': 0.8571428656578064, 'star': 1.0}, \n",
      "Epoch: 065, Train Loss: 0.2188, Train Acc: {'random': 0.9430838227272034, 'lollipop': 0.8808788061141968, 'wheel': 0.9810540676116943, 'grid': 0.8750432729721069, 'star': 1.0}, Test Acc: {'random': 0.9427609443664551, 'lollipop': 0.8466257452964783, 'wheel': 0.9890710115432739, 'grid': 0.8349514603614807, 'star': 1.0}, \n",
      "Epoch: 066, Train Loss: 0.2283, Train Acc: {'random': 0.8895567059516907, 'lollipop': 0.8312112092971802, 'wheel': 0.9755752086639404, 'grid': 0.8592010736465454, 'star': 1.0}, Test Acc: {'random': 0.8814814686775208, 'lollipop': 0.8214285969734192, 'wheel': 0.9747899174690247, 'grid': 0.8477612137794495, 'star': 1.0}, \n",
      "Epoch: 067, Train Loss: 0.2344, Train Acc: {'random': 0.9397002458572388, 'lollipop': 0.8527786731719971, 'wheel': 0.9800412654876709, 'grid': 0.8422965407371521, 'star': 1.0}, Test Acc: {'random': 0.9419795274734497, 'lollipop': 0.8436577916145325, 'wheel': 0.9890710115432739, 'grid': 0.8266666531562805, 'star': 1.0}, \n",
      "Epoch: 068, Train Loss: 0.1986, Train Acc: {'random': 0.8671726584434509, 'lollipop': 0.7737407088279724, 'wheel': 0.9616298675537109, 'grid': 0.831869900226593, 'star': 1.0}, Test Acc: {'random': 0.8373494148254395, 'lollipop': 0.71875, 'wheel': 0.9700272679328918, 'grid': 0.8221574425697327, 'star': 1.0}, \n",
      "Epoch: 069, Train Loss: 0.2228, Train Acc: {'random': 0.9011936187744141, 'lollipop': 0.8411633372306824, 'wheel': 0.9654936790466309, 'grid': 0.8488918542861938, 'star': 0.9996424913406372}, Test Acc: {'random': 0.9025974273681641, 'lollipop': 0.837837815284729, 'wheel': 0.9726775884628296, 'grid': 0.8475610017776489, 'star': 1.0}, \n",
      "Epoch: 070, Train Loss: 0.2227, Train Acc: {'random': 0.9117341637611389, 'lollipop': 0.8087035417556763, 'wheel': 0.9644460082054138, 'grid': 0.7469111084938049, 'star': 1.0}, Test Acc: {'random': 0.8986486196517944, 'lollipop': 0.7922437787055969, 'wheel': 0.9696969985961914, 'grid': 0.7410072088241577, 'star': 1.0}, \n",
      "Epoch: 071, Train Loss: 0.2277, Train Acc: {'random': 0.8977089524269104, 'lollipop': 0.846037745475769, 'wheel': 0.971019446849823, 'grid': 0.8709346055984497, 'star': 0.9996424913406372}, Test Acc: {'random': 0.888198733329773, 'lollipop': 0.8041958212852478, 'wheel': 0.9836956262588501, 'grid': 0.8447204828262329, 'star': 1.0}, \n",
      "Epoch: 072, Train Loss: 0.2205, Train Acc: {'random': 0.9381663203239441, 'lollipop': 0.8624725937843323, 'wheel': 0.9769552946090698, 'grid': 0.8710081577301025, 'star': 0.9992842078208923}, Test Acc: {'random': 0.9090909361839294, 'lollipop': 0.8250824809074402, 'wheel': 0.9693593382835388, 'grid': 0.8433048725128174, 'star': 0.9966777563095093}, \n"
     ]
    }
   ],
   "source": [
    "for epoch in trange(128, position=0, leave=True, disable=True):\n",
    "    train_loss = train()\n",
    "    train_acc = test(train_loader)\n",
    "    test_acc = test(val_loader)\n",
    "    # neg, pos = gt_score()\n",
    "    print(\n",
    "        f'Epoch: {epoch:03d}, '\n",
    "        f'Train Loss: {train_loss:.4f}, '\n",
    "        f'Train Acc: {train_acc}, '\n",
    "        f'Test Acc: {test_acc}, '\n",
    "        # f'GT Pos Score: {pos:.4f}, '\n",
    "        # f'GT Neg Score: {neg:.4f}, '\n",
    "    )"
   ]
  },
  {
   "cell_type": "code",
   "execution_count": 10,
   "id": "3a8139b5-424e-484e-a567-b325f015ccaf",
   "metadata": {
    "ExecuteTime": {
     "end_time": "2023-10-30T09:55:46.366490Z",
     "start_time": "2023-10-30T09:55:46.329176Z"
    }
   },
   "outputs": [
    {
     "data": {
      "text/plain": "<All keys matched successfully>"
     },
     "execution_count": 10,
     "metadata": {},
     "output_type": "execute_result"
    }
   ],
   "source": [
    "# torch.save(model.state_dict(), 'shape_gnn_64x4.pt')\n",
    "model.load_state_dict(torch.load('mutag_gnn_64x3.pt'))"
   ]
  },
  {
   "cell_type": "code",
   "execution_count": 14,
   "id": "6645ce41-8d77-4945-a474-561843ee8109",
   "metadata": {
    "ExecuteTime": {
     "end_time": "2023-10-30T09:56:30.659364Z",
     "start_time": "2023-10-30T09:56:30.605654Z"
    }
   },
   "outputs": [
    {
     "data": {
      "text/plain": "{'nonmutagen': 0.8928571343421936, 'mutagen': 0.9473684430122375}"
     },
     "execution_count": 14,
     "metadata": {},
     "output_type": "execute_result"
    }
   ],
   "source": [
    "test(train_loader)"
   ]
  },
  {
   "cell_type": "code",
   "execution_count": 15,
   "id": "feee1f5b-d7e1-440c-bb6a-7fe4daf96956",
   "metadata": {
    "ExecuteTime": {
     "end_time": "2023-10-30T09:56:31.517937Z",
     "start_time": "2023-10-30T09:56:31.491108Z"
    }
   },
   "outputs": [
    {
     "data": {
      "text/plain": "{'nonmutagen': 0.7692307829856873, 'mutagen': 0.8695651888847351}"
     },
     "execution_count": 15,
     "metadata": {},
     "output_type": "execute_result"
    }
   ],
   "source": [
    "test(val_loader)"
   ]
  },
  {
   "cell_type": "markdown",
   "id": "82f24dcd-c153-4c7c-8005-cca6c59b39ef",
   "metadata": {},
   "source": [
    "# Generate Average Embedding"
   ]
  },
  {
   "cell_type": "code",
   "execution_count": 16,
   "id": "d4a27bdf-0586-4652-9989-53b8257bb2e9",
   "metadata": {
    "ExecuteTime": {
     "end_time": "2023-10-30T09:56:37.560140Z",
     "start_time": "2023-10-30T09:56:37.385912Z"
    }
   },
   "outputs": [
    {
     "data": {
      "text/plain": "  0%|          | 0/188 [00:00<?, ?it/s]",
      "application/vnd.jupyter.widget-view+json": {
       "version_major": 2,
       "version_minor": 0,
       "model_id": "750013a0ff4442ab9e8f2c50a8818a57"
      }
     },
     "metadata": {},
     "output_type": "display_data"
    }
   ],
   "source": [
    "embeds = [[] for _ in range(len(mutag.GRAPH_CLS))]\n",
    "with torch.no_grad():\n",
    "    for data in tqdm(mutag):\n",
    "        embeds[data.y.item()].append(model.eval()(pyg.data.Batch.from_data_list([data]))[\"embeds\"].numpy())\n",
    "mean_embeds = [torch.tensor(np.concatenate(e).mean(axis=0)) for e in embeds]"
   ]
  },
  {
   "cell_type": "code",
   "execution_count": 17,
   "id": "2c966c81e3166b9e",
   "metadata": {
    "collapsed": false,
    "ExecuteTime": {
     "end_time": "2023-10-30T09:56:42.326688Z",
     "start_time": "2023-10-30T09:56:42.303735Z"
    }
   },
   "outputs": [],
   "source": [
    "trainer = {}\n",
    "sampler = {}"
   ]
  },
  {
   "cell_type": "markdown",
   "id": "383c9c7a23eb249f",
   "metadata": {
    "collapsed": false
   },
   "source": [
    "# 1"
   ]
  },
  {
   "cell_type": "code",
   "execution_count": 24,
   "id": "20c1d36b425af72d",
   "metadata": {
    "collapsed": false,
    "ExecuteTime": {
     "end_time": "2023-10-30T09:57:17.988929Z",
     "start_time": "2023-10-30T09:57:17.961620Z"
    }
   },
   "outputs": [],
   "source": [
    "classes = 1\n",
    "sampler[classes] = s = GraphSampler(max_nodes=20,\n",
    "                                    num_node_cls=len(mutag.NODE_CLS),\n",
    "                                    temperature=0.15,\n",
    "                                    learn_node_feat=True)\n",
    "\n",
    "criterion = nn.Sequential(\n",
    "    WeightedCriterion([\n",
    "        dict(key=\"logits\", criterion=ClassScoreCriterion(class_idx=classes), mode=\"maximize\", weight=1),\n",
    "        dict(key=\"embeds\", criterion=EmbeddingCriterion(target_embedding=mean_embeds[classes]), weight=10),\n",
    "    ]),\n",
    "    NormPenalty(lambda: s.omega, order=1, weight=1), # L1 penalty on omega, encourage uncertainty\n",
    "    NormPenalty(lambda: s.omega, order=2, weight=1), # L2 penalty on omega, avoid extreme probabilities\n",
    "    NormPenalty(lambda: s.xi, order=1, weight=0), # L1 penalty on xi\n",
    "    NormPenalty(lambda: s.xi, order=2, weight=0), # L2 penalty on xi\n",
    "    budget := BudgetPenalty(lambda: s.theta, budget=10, order=2, beta=0.5, weight=1), # Budget penalty on theta, encourage sparsity\n",
    "    CrossEntropyPenalty(lambda: s.theta, weight=0), # Element-wise entropy penalty on theta, encourage discreteness\n",
    "    KLDivergencePenalty(lambda: tuple(s.theta_pairs), binary=True, weight=0), # Pair-wise cross entropy on E, encourage connectivity\n",
    ")\n",
    "optimizer = torch.optim.SGD(s.parameters(), lr=1)\n",
    "scheduler = torch.optim.lr_scheduler.ExponentialLR(optimizer, gamma=1)\n",
    "\n",
    "# construct graph sampler trainer\n",
    "trainer[classes] = Trainer(sampler=s,\n",
    "                  discriminator=model,\n",
    "                  criterion=criterion,\n",
    "                  optimizer=optimizer,\n",
    "                  scheduler=scheduler,\n",
    "                  dataset=mutag,\n",
    "                  k_samples=16)"
   ]
  },
  {
   "cell_type": "code",
   "execution_count": 25,
   "id": "91b8c45bb38b58e",
   "metadata": {
    "collapsed": false,
    "ExecuteTime": {
     "end_time": "2023-10-30T09:57:18.790811Z",
     "start_time": "2023-10-30T09:57:18.761402Z"
    }
   },
   "outputs": [],
   "source": [
    "def penalty_cond(out, trainer, boundary_cls=classes):\n",
    "    return out[\"probs\"][0, classes].item() > 0.9\n"
   ]
  },
  {
   "cell_type": "code",
   "execution_count": 26,
   "id": "bc959668d833b3b6",
   "metadata": {
    "collapsed": false,
    "ExecuteTime": {
     "end_time": "2023-10-30T09:57:19.611997Z",
     "start_time": "2023-10-30T09:57:19.582620Z"
    }
   },
   "outputs": [],
   "source": [
    "def break_cond(out, trainer, boundary_cls=classes):\n",
    "    return all([\n",
    "        penalty_cond(out, trainer, boundary_cls),\n",
    "        trainer.sampler.expected_m < 20\n",
    "    ])"
   ]
  },
  {
   "cell_type": "code",
   "execution_count": 27,
   "id": "4c0bd9796d611c52",
   "metadata": {
    "collapsed": false,
    "ExecuteTime": {
     "end_time": "2023-10-30T09:57:20.485474Z",
     "start_time": "2023-10-30T09:57:20.053335Z"
    }
   },
   "outputs": [
    {
     "data": {
      "text/plain": "  0%|          | 0/2000 [00:00<?, ?it/s]",
      "application/vnd.jupyter.widget-view+json": {
       "version_major": 2,
       "version_minor": 0,
       "model_id": "374653e3574641a4bbf8ce6fbedd7472"
      }
     },
     "metadata": {},
     "output_type": "display_data"
    },
    {
     "data": {
      "text/plain": "True"
     },
     "execution_count": 27,
     "metadata": {},
     "output_type": "execute_result"
    }
   ],
   "source": [
    "trainer[1].train(2000, dynamic_penalty=budget, penalty_cond=penalty_cond, break_cond=break_cond)"
   ]
  },
  {
   "cell_type": "code",
   "execution_count": 28,
   "id": "7b268b4019492234",
   "metadata": {
    "collapsed": false,
    "ExecuteTime": {
     "end_time": "2023-10-30T09:57:21.623638Z",
     "start_time": "2023-10-30T09:57:21.554347Z"
    }
   },
   "outputs": [
    {
     "name": "stdout",
     "output_type": "stream",
     "text": [
      "n=16 m=14\n",
      "logits=[-189.2996826171875, 188.76339721679688]\n",
      "probs=[0.0, 1.0]\n"
     ]
    },
    {
     "data": {
      "text/plain": "<Figure size 600x600 with 1 Axes>",
      "image/png": "[encoded data removed]"
     },
     "metadata": {},
     "output_type": "display_data"
    }
   ],
   "source": [
    "G = trainer[classes].evaluate(threshold=0.5, show=True)\n",
    "plt.show()"
   ]
  },
  {
   "cell_type": "markdown",
   "id": "4f4d3ddd-9bb6-456c-9a68-5a3edd019e6e",
   "metadata": {},
   "source": [
    "# 0"
   ]
  },
  {
   "cell_type": "code",
   "execution_count": 29,
   "id": "a71e2ec8-f880-401d-9b89-0f7235d02c3f",
   "metadata": {
    "ExecuteTime": {
     "end_time": "2023-10-30T09:57:57.201092Z",
     "start_time": "2023-10-30T09:57:57.173833Z"
    }
   },
   "outputs": [],
   "source": [
    "classes = 0\n",
    "sampler[classes] = s = GraphSampler(max_nodes=20,\n",
    "                                    num_node_cls=len(mutag.NODE_CLS),\n",
    "                                    temperature=0.15,\n",
    "                                    learn_node_feat=True)\n",
    "\n",
    "criterion = nn.Sequential(\n",
    "    WeightedCriterion([\n",
    "        dict(key=\"logits\", criterion=ClassScoreCriterion(class_idx=classes), mode=\"maximize\", weight=1),\n",
    "        dict(key=\"embeds\", criterion=EmbeddingCriterion(target_embedding=mean_embeds[classes]), weight=10),\n",
    "    ]),\n",
    "    NormPenalty(lambda: s.omega, order=1, weight=1), # L1 penalty on omega, encourage uncertainty\n",
    "    NormPenalty(lambda: s.omega, order=2, weight=1), # L2 penalty on omega, avoid extreme probabilities\n",
    "    NormPenalty(lambda: s.xi, order=1, weight=0), # L1 penalty on xi\n",
    "    NormPenalty(lambda: s.xi, order=2, weight=0), # L2 penalty on xi\n",
    "    budget := BudgetPenalty(lambda: s.theta, budget=10, order=2, beta=0.5, weight=1), # Budget penalty on theta, encourage sparsity\n",
    "    CrossEntropyPenalty(lambda: s.theta, weight=0), # Element-wise entropy penalty on theta, encourage discreteness\n",
    "    KLDivergencePenalty(lambda: tuple(s.theta_pairs), binary=True, weight=0), # Pair-wise cross entropy on E, encourage connectivity\n",
    ")\n",
    "optimizer = torch.optim.SGD(s.parameters(), lr=1)\n",
    "scheduler = torch.optim.lr_scheduler.ExponentialLR(optimizer, gamma=1)\n",
    "\n",
    "# construct graph sampler trainer\n",
    "trainer[classes] = Trainer(sampler=s,\n",
    "                           discriminator=model,\n",
    "                           criterion=criterion,\n",
    "                           optimizer=optimizer,\n",
    "                           scheduler=scheduler,\n",
    "                           dataset=mutag,\n",
    "                           k_samples=16)"
   ]
  },
  {
   "cell_type": "code",
   "execution_count": 30,
   "id": "cee8d978ff9fc2ee",
   "metadata": {
    "collapsed": false,
    "ExecuteTime": {
     "end_time": "2023-10-30T09:57:58.466810Z",
     "start_time": "2023-10-30T09:57:58.442035Z"
    }
   },
   "outputs": [],
   "source": [
    "def penalty_cond(out, trainer, boundary_cls=classes):\n",
    "    return out[\"probs\"][0, classes].item() > 0.9\n"
   ]
  },
  {
   "cell_type": "code",
   "execution_count": 31,
   "id": "c1750f1b40d1d86b",
   "metadata": {
    "collapsed": false,
    "ExecuteTime": {
     "end_time": "2023-10-30T09:58:02.779473Z",
     "start_time": "2023-10-30T09:58:02.752964Z"
    }
   },
   "outputs": [],
   "source": [
    "def break_cond(out, trainer, boundary_cls=classes):\n",
    "    return all([\n",
    "        penalty_cond(out, trainer, boundary_cls),\n",
    "        trainer.sampler.expected_m < 20\n",
    "    ])"
   ]
  },
  {
   "cell_type": "code",
   "execution_count": 33,
   "id": "dcc3278f-a073-42e2-b446-0115025e391f",
   "metadata": {
    "ExecuteTime": {
     "end_time": "2023-10-30T09:58:11.075873Z",
     "start_time": "2023-10-30T09:58:06.694010Z"
    }
   },
   "outputs": [
    {
     "data": {
      "text/plain": "  0%|          | 0/2000 [00:00<?, ?it/s]",
      "application/vnd.jupyter.widget-view+json": {
       "version_major": 2,
       "version_minor": 0,
       "model_id": "a6d0a61b5b4141fda17f6273d5ddd456"
      }
     },
     "metadata": {},
     "output_type": "display_data"
    },
    {
     "data": {
      "text/plain": "True"
     },
     "execution_count": 33,
     "metadata": {},
     "output_type": "execute_result"
    }
   ],
   "source": [
    "trainer[0].train(2000, dynamic_penalty=budget, penalty_cond=penalty_cond, break_cond=break_cond)"
   ]
  },
  {
   "cell_type": "code",
   "execution_count": 35,
   "id": "10896fc3a8e2ea3d",
   "metadata": {
    "collapsed": false,
    "ExecuteTime": {
     "end_time": "2023-10-30T09:58:15.932158Z",
     "start_time": "2023-10-30T09:58:15.863971Z"
    }
   },
   "outputs": [
    {
     "name": "stdout",
     "output_type": "stream",
     "text": [
      "n=18 m=20\n",
      "logits=[717.5263671875, -784.9716186523438]\n",
      "probs=[1.0, 0.0]\n"
     ]
    },
    {
     "data": {
      "text/plain": "<Figure size 600x600 with 1 Axes>",
      "image/png": "[encoded data removed]"
     },
     "metadata": {},
     "output_type": "display_data"
    },
    {
     "data": {
      "text/plain": "<networkx.classes.graph.Graph at 0x2a7cd8b50>"
     },
     "execution_count": 35,
     "metadata": {},
     "output_type": "execute_result"
    }
   ],
   "source": [
    "trainer[0].evaluate(threshold=0.5, show=True)"
   ]
  },
  {
   "cell_type": "code",
   "execution_count": 36,
   "id": "b7c7549821169ebf",
   "metadata": {
    "collapsed": false,
    "ExecuteTime": {
     "end_time": "2023-10-30T09:58:21.328024Z",
     "start_time": "2023-10-30T09:58:21.261536Z"
    }
   },
   "outputs": [
    {
     "name": "stdout",
     "output_type": "stream",
     "text": [
      "n=18 m=21\n",
      "logits=[692.9840698242188, -758.0659790039062]\n",
      "probs=[1.0, 0.0]\n"
     ]
    },
    {
     "data": {
      "text/plain": "<Figure size 600x600 with 1 Axes>",
      "image/png": "[encoded data removed]"
     },
     "metadata": {},
     "output_type": "display_data"
    },
    {
     "data": {
      "text/plain": "<networkx.classes.graph.Graph at 0x2a6cfcc40>"
     },
     "execution_count": 36,
     "metadata": {},
     "output_type": "execute_result"
    }
   ],
   "source": [
    "trainer[0].evaluate(bernoulli=True, show=True)"
   ]
  },
  {
   "cell_type": "code",
   "execution_count": null,
   "id": "5f2ee2c4-fcdf-4a7e-be20-6a329b4909a4",
   "metadata": {},
   "outputs": [],
   "source": []
  }
 ],
 "metadata": {
  "kernelspec": {
   "display_name": "Python 3 (ipykernel)",
   "language": "python",
   "name": "python3"
  },
  "language_info": {
   "codemirror_mode": {
    "name": "ipython",
    "version": 3
   },
   "file_extension": ".py",
   "mimetype": "text/x-python",
   "name": "python",
   "nbconvert_exporter": "python",
   "pygments_lexer": "ipython3",
   "version": "3.10.12"
  },
  "widgets": {
   "application/vnd.jupyter.widget-state+json": {
    "state": {
     "07b43483463e4ae3b9a7b160d8938299": {
      "model_module": "@jupyter-widgets/controls",
      "model_module_version": "2.0.0",
      "model_name": "DescriptionStyleModel",
      "state": {
       "_model_module": "@jupyter-widgets/controls",
       "_model_name": "DescriptionStyleModel",
       "_view_name": "ErrorWidgetView",
       "description_width": "",
       "error": {},
       "msg": "Failed to load model class 'DescriptionStyleModel' from module '@jupyter-widgets/controls'"
      }
     },
     "0b87e5fec1ff41aeb4c9e624a222f89b": {
      "model_module": "@jupyter-widgets/base",
      "model_module_version": "2.0.0",
      "model_name": "LayoutModel",
      "state": {
       "_model_name": "LayoutModel",
       "_view_name": "ErrorWidgetView",
       "align_content": null,
       "align_items": null,
       "align_self": null,
       "border": null,
       "bottom": null,
       "display": null,
       "error": {},
       "flex": null,
       "flex_flow": null,
       "grid_area": null,
       "grid_auto_columns": null,
       "grid_auto_flow": null,
       "grid_auto_rows": null,
       "grid_column": null,
       "grid_gap": null,
       "grid_row": null,
       "grid_template_areas": null,
       "grid_template_columns": null,
       "grid_template_rows": null,
       "height": null,
       "justify_content": null,
       "justify_items": null,
       "left": null,
       "margin": null,
       "max_height": null,
       "max_width": null,
       "min_height": null,
       "min_width": null,
       "msg": "Failed to load model class 'LayoutModel' from module '@jupyter-widgets/base'",
       "object_fit": null,
       "object_position": null,
       "order": null,
       "overflow": null,
       "overflow_x": null,
       "overflow_y": null,
       "padding": null,
       "right": null,
       "top": null,
       "visibility": null,
       "width": null
      }
     },
     "0cf8ded72d3147d681343573a3c5c3ad": {
      "model_module": "@jupyter-widgets/base",
      "model_module_version": "2.0.0",
      "model_name": "LayoutModel",
      "state": {
       "_model_name": "LayoutModel",
       "_view_name": "ErrorWidgetView",
       "align_content": null,
       "align_items": null,
       "align_self": null,
       "border": null,
       "bottom": null,
       "display": null,
       "error": {},
       "flex": null,
       "flex_flow": null,
       "grid_area": null,
       "grid_auto_columns": null,
       "grid_auto_flow": null,
       "grid_auto_rows": null,
       "grid_column": null,
       "grid_gap": null,
       "grid_row": null,
       "grid_template_areas": null,
       "grid_template_columns": null,
       "grid_template_rows": null,
       "height": null,
       "justify_content": null,
       "justify_items": null,
       "left": null,
       "margin": null,
       "max_height": null,
       "max_width": null,
       "min_height": null,
       "min_width": null,
       "msg": "Failed to load model class 'LayoutModel' from module '@jupyter-widgets/base'",
       "object_fit": null,
       "object_position": null,
       "order": null,
       "overflow": null,
       "overflow_x": null,
       "overflow_y": null,
       "padding": null,
       "right": null,
       "top": null,
       "visibility": null,
       "width": null
      }
     },
     "0ef53961cc214c23a5cc520142ed3530": {
      "model_module": "@jupyter-widgets/controls",
      "model_module_version": "2.0.0",
      "model_name": "DescriptionStyleModel",
      "state": {
       "_model_module": "@jupyter-widgets/controls",
       "_model_name": "DescriptionStyleModel",
       "_view_name": "ErrorWidgetView",
       "description_width": "",
       "error": {},
       "msg": "Failed to load model class 'DescriptionStyleModel' from module '@jupyter-widgets/controls'"
      }
     },
     "10730754cf7a43eca9820d10763e9a41": {
      "model_module": "@jupyter-widgets/controls",
      "model_module_version": "2.0.0",
      "model_name": "HTMLModel",
      "state": {
       "_model_module": "@jupyter-widgets/controls",
       "_model_name": "HTMLModel",
       "_view_name": "ErrorWidgetView",
       "description": "",
       "description_tooltip": null,
       "error": {},
       "layout": "IPY_MODEL_1958cff3714b451e95a8fbc5e76541b6",
       "msg": "Failed to load model class 'HTMLModel' from module '@jupyter-widgets/controls'",
       "placeholder": "​",
       "style": "IPY_MODEL_0ef53961cc214c23a5cc520142ed3530",
       "value": " 11531/11531 [00:33&lt;00:00, 255.26it/s]"
      }
     },
     "14391e150296461ca407c9ff78c5ae7e": {
      "model_module": "@jupyter-widgets/controls",
      "model_module_version": "2.0.0",
      "model_name": "DescriptionStyleModel",
      "state": {
       "_model_module": "@jupyter-widgets/controls",
       "_model_name": "DescriptionStyleModel",
       "_view_name": "ErrorWidgetView",
       "description_width": "",
       "error": {},
       "msg": "Failed to load model class 'DescriptionStyleModel' from module '@jupyter-widgets/controls'"
      }
     },
     "1958cff3714b451e95a8fbc5e76541b6": {
      "model_module": "@jupyter-widgets/base",
      "model_module_version": "2.0.0",
      "model_name": "LayoutModel",
      "state": {
       "_model_name": "LayoutModel",
       "_view_name": "ErrorWidgetView",
       "align_content": null,
       "align_items": null,
       "align_self": null,
       "border": null,
       "bottom": null,
       "display": null,
       "error": {},
       "flex": null,
       "flex_flow": null,
       "grid_area": null,
       "grid_auto_columns": null,
       "grid_auto_flow": null,
       "grid_auto_rows": null,
       "grid_column": null,
       "grid_gap": null,
       "grid_row": null,
       "grid_template_areas": null,
       "grid_template_columns": null,
       "grid_template_rows": null,
       "height": null,
       "justify_content": null,
       "justify_items": null,
       "left": null,
       "margin": null,
       "max_height": null,
       "max_width": null,
       "min_height": null,
       "min_width": null,
       "msg": "Failed to load model class 'LayoutModel' from module '@jupyter-widgets/base'",
       "object_fit": null,
       "object_position": null,
       "order": null,
       "overflow": null,
       "overflow_x": null,
       "overflow_y": null,
       "padding": null,
       "right": null,
       "top": null,
       "visibility": null,
       "width": null
      }
     },
     "218cfca13d80402ab877a02fc12211cb": {
      "model_module": "@jupyter-widgets/base",
      "model_module_version": "2.0.0",
      "model_name": "LayoutModel",
      "state": {
       "_model_name": "LayoutModel",
       "_view_name": "ErrorWidgetView",
       "align_content": null,
       "align_items": null,
       "align_self": null,
       "border": null,
       "bottom": null,
       "display": null,
       "error": {},
       "flex": null,
       "flex_flow": null,
       "grid_area": null,
       "grid_auto_columns": null,
       "grid_auto_flow": null,
       "grid_auto_rows": null,
       "grid_column": null,
       "grid_gap": null,
       "grid_row": null,
       "grid_template_areas": null,
       "grid_template_columns": null,
       "grid_template_rows": null,
       "height": null,
       "justify_content": null,
       "justify_items": null,
       "left": null,
       "margin": null,
       "max_height": null,
       "max_width": null,
       "min_height": null,
       "min_width": null,
       "msg": "Failed to load model class 'LayoutModel' from module '@jupyter-widgets/base'",
       "object_fit": null,
       "object_position": null,
       "order": null,
       "overflow": null,
       "overflow_x": null,
       "overflow_y": null,
       "padding": null,
       "right": null,
       "top": null,
       "visibility": null,
       "width": null
      }
     },
     "26ccacccb90843b7ac727e9595ab1596": {
      "model_module": "@jupyter-widgets/controls",
      "model_module_version": "2.0.0",
      "model_name": "HBoxModel",
      "state": {
       "_model_module": "@jupyter-widgets/controls",
       "_model_name": "HBoxModel",
       "_view_name": "ErrorWidgetView",
       "box_style": "",
       "children": [
        "IPY_MODEL_34fa3b9e3ba74ee399312caeceb99f69",
        "IPY_MODEL_54daa2fea4ec45d0a23452074efd359e",
        "IPY_MODEL_10730754cf7a43eca9820d10763e9a41"
       ],
       "error": {},
       "layout": "IPY_MODEL_6d28c2f4d48043aa90f29bb764583bf9",
       "msg": "Failed to load model class 'HBoxModel' from module '@jupyter-widgets/controls'"
      }
     },
     "34fa3b9e3ba74ee399312caeceb99f69": {
      "model_module": "@jupyter-widgets/controls",
      "model_module_version": "2.0.0",
      "model_name": "HTMLModel",
      "state": {
       "_model_module": "@jupyter-widgets/controls",
       "_model_name": "HTMLModel",
       "_view_name": "ErrorWidgetView",
       "description": "",
       "description_tooltip": null,
       "error": {},
       "layout": "IPY_MODEL_e9446ec84ebf43ada6872814f2acb0bb",
       "msg": "Failed to load model class 'HTMLModel' from module '@jupyter-widgets/controls'",
       "placeholder": "​",
       "style": "IPY_MODEL_690ee1b6a3cf43adb5164f200cad4fb4",
       "value": "100%"
      }
     },
     "45e44448b1ea450db792b21878b84f01": {
      "model_module": "@jupyter-widgets/controls",
      "model_module_version": "2.0.0",
      "model_name": "ProgressStyleModel",
      "state": {
       "_model_module": "@jupyter-widgets/controls",
       "_model_name": "ProgressStyleModel",
       "_view_name": "ErrorWidgetView",
       "bar_color": null,
       "description_width": "",
       "error": {},
       "msg": "Failed to load model class 'ProgressStyleModel' from module '@jupyter-widgets/controls'"
      }
     },
     "54daa2fea4ec45d0a23452074efd359e": {
      "model_module": "@jupyter-widgets/controls",
      "model_module_version": "2.0.0",
      "model_name": "FloatProgressModel",
      "state": {
       "_model_module": "@jupyter-widgets/controls",
       "_model_name": "FloatProgressModel",
       "_view_name": "ErrorWidgetView",
       "bar_style": "success",
       "description": "",
       "description_tooltip": null,
       "error": {},
       "layout": "IPY_MODEL_218cfca13d80402ab877a02fc12211cb",
       "max": 11531,
       "min": 0,
       "msg": "Failed to load model class 'FloatProgressModel' from module '@jupyter-widgets/controls'",
       "orientation": "horizontal",
       "style": "IPY_MODEL_9706bfc895af4431a44ab22509435387",
       "value": 11531
      }
     },
     "690ee1b6a3cf43adb5164f200cad4fb4": {
      "model_module": "@jupyter-widgets/controls",
      "model_module_version": "2.0.0",
      "model_name": "DescriptionStyleModel",
      "state": {
       "_model_module": "@jupyter-widgets/controls",
       "_model_name": "DescriptionStyleModel",
       "_view_name": "ErrorWidgetView",
       "description_width": "",
       "error": {},
       "msg": "Failed to load model class 'DescriptionStyleModel' from module '@jupyter-widgets/controls'"
      }
     },
     "6d28c2f4d48043aa90f29bb764583bf9": {
      "model_module": "@jupyter-widgets/base",
      "model_module_version": "2.0.0",
      "model_name": "LayoutModel",
      "state": {
       "_model_name": "LayoutModel",
       "_view_name": "ErrorWidgetView",
       "align_content": null,
       "align_items": null,
       "align_self": null,
       "border": null,
       "bottom": null,
       "display": null,
       "error": {},
       "flex": null,
       "flex_flow": null,
       "grid_area": null,
       "grid_auto_columns": null,
       "grid_auto_flow": null,
       "grid_auto_rows": null,
       "grid_column": null,
       "grid_gap": null,
       "grid_row": null,
       "grid_template_areas": null,
       "grid_template_columns": null,
       "grid_template_rows": null,
       "height": null,
       "justify_content": null,
       "justify_items": null,
       "left": null,
       "margin": null,
       "max_height": null,
       "max_width": null,
       "min_height": null,
       "min_width": null,
       "msg": "Failed to load model class 'LayoutModel' from module '@jupyter-widgets/base'",
       "object_fit": null,
       "object_position": null,
       "order": null,
       "overflow": null,
       "overflow_x": null,
       "overflow_y": null,
       "padding": null,
       "right": null,
       "top": null,
       "visibility": null,
       "width": null
      }
     },
     "6e12fbb8b0f349e09c32c14601a1eddc": {
      "model_module": "@jupyter-widgets/controls",
      "model_module_version": "2.0.0",
      "model_name": "HTMLModel",
      "state": {
       "_model_module": "@jupyter-widgets/controls",
       "_model_name": "HTMLModel",
       "_view_name": "ErrorWidgetView",
       "description": "",
       "description_tooltip": null,
       "error": {},
       "layout": "IPY_MODEL_0cf8ded72d3147d681343573a3c5c3ad",
       "msg": "Failed to load model class 'HTMLModel' from module '@jupyter-widgets/controls'",
       "placeholder": "​",
       "style": "IPY_MODEL_07b43483463e4ae3b9a7b160d8938299",
       "value": "Loading graphs: 100%"
      }
     },
     "7821741103e94b03923bba81dbc4c2a9": {
      "model_module": "@jupyter-widgets/controls",
      "model_module_version": "2.0.0",
      "model_name": "HTMLModel",
      "state": {
       "_model_module": "@jupyter-widgets/controls",
       "_model_name": "HTMLModel",
       "_view_name": "ErrorWidgetView",
       "description": "",
       "description_tooltip": null,
       "error": {},
       "layout": "IPY_MODEL_0b87e5fec1ff41aeb4c9e624a222f89b",
       "msg": "Failed to load model class 'HTMLModel' from module '@jupyter-widgets/controls'",
       "placeholder": "​",
       "style": "IPY_MODEL_14391e150296461ca407c9ff78c5ae7e",
       "value": " 11534/11534 [00:56&lt;00:00, 247.95it/s]"
      }
     },
     "9706bfc895af4431a44ab22509435387": {
      "model_module": "@jupyter-widgets/controls",
      "model_module_version": "2.0.0",
      "model_name": "ProgressStyleModel",
      "state": {
       "_model_module": "@jupyter-widgets/controls",
       "_model_name": "ProgressStyleModel",
       "_view_name": "ErrorWidgetView",
       "bar_color": null,
       "description_width": "",
       "error": {},
       "msg": "Failed to load model class 'ProgressStyleModel' from module '@jupyter-widgets/controls'"
      }
     },
     "9b5d28e41af94931b674dcd1ddf14562": {
      "model_module": "@jupyter-widgets/base",
      "model_module_version": "2.0.0",
      "model_name": "LayoutModel",
      "state": {
       "_model_name": "LayoutModel",
       "_view_name": "ErrorWidgetView",
       "align_content": null,
       "align_items": null,
       "align_self": null,
       "border": null,
       "bottom": null,
       "display": null,
       "error": {},
       "flex": null,
       "flex_flow": null,
       "grid_area": null,
       "grid_auto_columns": null,
       "grid_auto_flow": null,
       "grid_auto_rows": null,
       "grid_column": null,
       "grid_gap": null,
       "grid_row": null,
       "grid_template_areas": null,
       "grid_template_columns": null,
       "grid_template_rows": null,
       "height": null,
       "justify_content": null,
       "justify_items": null,
       "left": null,
       "margin": null,
       "max_height": null,
       "max_width": null,
       "min_height": null,
       "min_width": null,
       "msg": "Failed to load model class 'LayoutModel' from module '@jupyter-widgets/base'",
       "object_fit": null,
       "object_position": null,
       "order": null,
       "overflow": null,
       "overflow_x": null,
       "overflow_y": null,
       "padding": null,
       "right": null,
       "top": null,
       "visibility": null,
       "width": null
      }
     },
     "c5606e09c1de4100be70fc1ef5fb367d": {
      "model_module": "@jupyter-widgets/base",
      "model_module_version": "2.0.0",
      "model_name": "LayoutModel",
      "state": {
       "_model_name": "LayoutModel",
       "_view_name": "ErrorWidgetView",
       "align_content": null,
       "align_items": null,
       "align_self": null,
       "border": null,
       "bottom": null,
       "display": null,
       "error": {},
       "flex": null,
       "flex_flow": null,
       "grid_area": null,
       "grid_auto_columns": null,
       "grid_auto_flow": null,
       "grid_auto_rows": null,
       "grid_column": null,
       "grid_gap": null,
       "grid_row": null,
       "grid_template_areas": null,
       "grid_template_columns": null,
       "grid_template_rows": null,
       "height": null,
       "justify_content": null,
       "justify_items": null,
       "left": null,
       "margin": null,
       "max_height": null,
       "max_width": null,
       "min_height": null,
       "min_width": null,
       "msg": "Failed to load model class 'LayoutModel' from module '@jupyter-widgets/base'",
       "object_fit": null,
       "object_position": null,
       "order": null,
       "overflow": null,
       "overflow_x": null,
       "overflow_y": null,
       "padding": null,
       "right": null,
       "top": null,
       "visibility": null,
       "width": null
      }
     },
     "ce6b2459d7fb430d9b0a8820031189de": {
      "model_module": "@jupyter-widgets/controls",
      "model_module_version": "2.0.0",
      "model_name": "FloatProgressModel",
      "state": {
       "_model_module": "@jupyter-widgets/controls",
       "_model_name": "FloatProgressModel",
       "_view_name": "ErrorWidgetView",
       "bar_style": "success",
       "description": "",
       "description_tooltip": null,
       "error": {},
       "layout": "IPY_MODEL_c5606e09c1de4100be70fc1ef5fb367d",
       "max": 11534,
       "min": 0,
       "msg": "Failed to load model class 'FloatProgressModel' from module '@jupyter-widgets/controls'",
       "orientation": "horizontal",
       "style": "IPY_MODEL_45e44448b1ea450db792b21878b84f01",
       "value": 11534
      }
     },
     "e9446ec84ebf43ada6872814f2acb0bb": {
      "model_module": "@jupyter-widgets/base",
      "model_module_version": "2.0.0",
      "model_name": "LayoutModel",
      "state": {
       "_model_name": "LayoutModel",
       "_view_name": "ErrorWidgetView",
       "align_content": null,
       "align_items": null,
       "align_self": null,
       "border": null,
       "bottom": null,
       "display": null,
       "error": {},
       "flex": null,
       "flex_flow": null,
       "grid_area": null,
       "grid_auto_columns": null,
       "grid_auto_flow": null,
       "grid_auto_rows": null,
       "grid_column": null,
       "grid_gap": null,
       "grid_row": null,
       "grid_template_areas": null,
       "grid_template_columns": null,
       "grid_template_rows": null,
       "height": null,
       "justify_content": null,
       "justify_items": null,
       "left": null,
       "margin": null,
       "max_height": null,
       "max_width": null,
       "min_height": null,
       "min_width": null,
       "msg": "Failed to load model class 'LayoutModel' from module '@jupyter-widgets/base'",
       "object_fit": null,
       "object_position": null,
       "order": null,
       "overflow": null,
       "overflow_x": null,
       "overflow_y": null,
       "padding": null,
       "right": null,
       "top": null,
       "visibility": null,
       "width": null
      }
     },
     "f64c7011415b4ea3a3043c3a81009193": {
      "model_module": "@jupyter-widgets/controls",
      "model_module_version": "2.0.0",
      "model_name": "HBoxModel",
      "state": {
       "_model_module": "@jupyter-widgets/controls",
       "_model_name": "HBoxModel",
       "_view_name": "ErrorWidgetView",
       "box_style": "",
       "children": [
        "IPY_MODEL_6e12fbb8b0f349e09c32c14601a1eddc",
        "IPY_MODEL_ce6b2459d7fb430d9b0a8820031189de",
        "IPY_MODEL_7821741103e94b03923bba81dbc4c2a9"
       ],
       "error": {},
       "layout": "IPY_MODEL_9b5d28e41af94931b674dcd1ddf14562",
       "msg": "Failed to load model class 'HBoxModel' from module '@jupyter-widgets/controls'"
      }
     }
    },
    "version_major": 2,
    "version_minor": 0
   }
  }
 },
 "nbformat": 4,
 "nbformat_minor": 5
}
