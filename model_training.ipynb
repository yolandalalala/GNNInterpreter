{
 "cells": [
  {
   "cell_type": "code",
   "source": [
    "%load_ext autoreload\n",
    "%autoreload 2"
   ],
   "metadata": {
    "collapsed": false,
    "ExecuteTime": {
     "end_time": "2024-04-16T01:00:49.611186Z",
     "start_time": "2024-04-16T01:00:49.596684Z"
    }
   },
   "id": "8c2caaab483d0a24",
   "outputs": [],
   "execution_count": 1
  },
  {
   "cell_type": "code",
   "source": [
    "from gnninterpreter import *"
   ],
   "metadata": {
    "collapsed": false,
    "ExecuteTime": {
     "end_time": "2024-04-16T01:00:55.064608Z",
     "start_time": "2024-04-16T01:00:50.271022Z"
    }
   },
   "id": "97e983f9da03809c",
   "outputs": [],
   "execution_count": 2
  },
  {
   "cell_type": "code",
   "source": [
    "import torch\n",
    "from tqdm.auto import trange"
   ],
   "metadata": {
    "collapsed": false,
    "ExecuteTime": {
     "end_time": "2024-04-16T01:00:56.676029Z",
     "start_time": "2024-04-16T01:00:56.651404Z"
    }
   },
   "id": "8afbbc605bb13730",
   "outputs": [],
   "execution_count": 3
  },
  {
   "cell_type": "markdown",
   "source": [
    "# Cyclicity"
   ],
   "metadata": {
    "collapsed": false
   },
   "id": "fb003ff51143b6cf"
  },
  {
   "cell_type": "code",
   "source": [
    "cyclicity = CyclicityDataset(seed=12345)\n",
    "cyclicity_train, cyclicity_val = cyclicity.train_test_split(k=10)\n",
    "cyclicity_model = NNConvClassifier(node_features=len(cyclicity.NODE_CLS),\n",
    "                                   edge_features=len(cyclicity.EDGE_CLS),\n",
    "                                   num_classes=len(cyclicity.GRAPH_CLS),\n",
    "                                   hidden_channels=32)"
   ],
   "metadata": {
    "collapsed": false,
    "ExecuteTime": {
     "end_time": "2024-04-16T01:01:01.422612Z",
     "start_time": "2024-04-16T01:00:58.703590Z"
    }
   },
   "id": "f9ca8d33db768581",
   "outputs": [],
   "execution_count": 4
  },
  {
   "metadata": {
    "ExecuteTime": {
     "end_time": "2024-04-16T01:01:25.297269Z",
     "start_time": "2024-04-16T01:01:25.214256Z"
    }
   },
   "cell_type": "code",
   "source": "cyclicity_model.load_state_dict(torch.load('ckpts/cyclicity.pt'))",
   "id": "6184b0a0e815cd4d",
   "outputs": [
    {
     "data": {
      "text/plain": [
       "<All keys matched successfully>"
      ]
     },
     "execution_count": 5,
     "metadata": {},
     "output_type": "execute_result"
    }
   ],
   "execution_count": 5
  },
  {
   "metadata": {},
   "cell_type": "code",
   "outputs": [],
   "execution_count": null,
   "source": [
    "for epoch in trange(128):\n",
    "    train_loss = cyclicity_train.fit_model(cyclicity_model, lr=0.001)\n",
    "    train_f1 = cyclicity_train.evaluate_model(cyclicity_model)\n",
    "    val_f1 = cyclicity_val.evaluate_model(cyclicity_model)\n",
    "    print(f'Epoch: {epoch:03d}, '\n",
    "          f'Train Loss: {train_loss:.4f}, '\n",
    "          f'Train F1: {train_f1}, '\n",
    "          f'Test F1: {val_f1}')"
   ],
   "id": "5d04071033ea9eb"
  },
  {
   "metadata": {},
   "cell_type": "code",
   "outputs": [],
   "execution_count": null,
   "source": "# torch.save(cyclicity_model.state_dict(), 'ckpts/cyclicity.pt')",
   "id": "a3e9dfc10e55569f"
  },
  {
   "cell_type": "markdown",
   "source": [
    "# Motif"
   ],
   "metadata": {
    "collapsed": false
   },
   "id": "2364be7c0ee37620"
  },
  {
   "cell_type": "code",
   "source": [
    "motif = MotifDataset(seed=12345)\n",
    "motif_train, motif_val = motif.train_test_split(k=10)\n",
    "motif_model = GCNClassifier(node_features=len(motif.NODE_CLS),\n",
    "                            num_classes=len(motif.GRAPH_CLS),\n",
    "                            hidden_channels=64,\n",
    "                            num_layers=3)"
   ],
   "metadata": {
    "collapsed": false,
    "ExecuteTime": {
     "end_time": "2024-04-16T01:01:34.500065Z",
     "start_time": "2024-04-16T01:01:31.564156Z"
    }
   },
   "id": "85a99f52ad4d19a3",
   "outputs": [],
   "execution_count": 6
  },
  {
   "metadata": {
    "ExecuteTime": {
     "end_time": "2024-04-16T01:01:37.275936Z",
     "start_time": "2024-04-16T01:01:37.231855Z"
    }
   },
   "cell_type": "code",
   "source": "motif_model.load_state_dict(torch.load('ckpts/motif.pt'))",
   "id": "3ac90580b55bd488",
   "outputs": [
    {
     "data": {
      "text/plain": [
       "<All keys matched successfully>"
      ]
     },
     "execution_count": 7,
     "metadata": {},
     "output_type": "execute_result"
    }
   ],
   "execution_count": 7
  },
  {
   "cell_type": "code",
   "source": [
    "for epoch in range(128):\n",
    "    train_loss = motif_train.fit_model(motif_model, lr=0.001)\n",
    "    train_f1 = motif_train.evaluate_model(motif_model)\n",
    "    val_f1 = motif_val.evaluate_model(motif_model)\n",
    "    print(f'Epoch: {epoch:03d}, '\n",
    "          f'Train Loss: {train_loss:.4f}, '\n",
    "          f'Train F1: {train_f1}, '\n",
    "          f'Test F1: {val_f1}')"
   ],
   "metadata": {
    "collapsed": false
   },
   "id": "77849acc80fe593e",
   "outputs": [],
   "execution_count": null
  },
  {
   "cell_type": "code",
   "source": [
    "torch.save(motif_model.state_dict(), 'ckpts/motif.pt')"
   ],
   "metadata": {
    "collapsed": false
   },
   "id": "b2a5adde85f03d0a",
   "outputs": [],
   "execution_count": null
  },
  {
   "cell_type": "markdown",
   "source": [
    "# MUTAG"
   ],
   "metadata": {
    "collapsed": false
   },
   "id": "7fbdf852d5323bb9"
  },
  {
   "cell_type": "code",
   "source": [
    "mutag = MUTAGDataset(seed=12345)\n",
    "mutag_train, mutag_val = mutag.train_test_split(k=10)\n",
    "mutag_model = GCNClassifier(node_features=len(mutag.NODE_CLS),\n",
    "                            num_classes=len(mutag.GRAPH_CLS),\n",
    "                            hidden_channels=64,\n",
    "                            num_layers=3)"
   ],
   "metadata": {
    "collapsed": false,
    "ExecuteTime": {
     "end_time": "2024-04-16T01:02:06.135934Z",
     "start_time": "2024-04-16T01:02:06.081495Z"
    }
   },
   "id": "a0688406c7338df1",
   "outputs": [],
   "execution_count": 9
  },
  {
   "metadata": {
    "ExecuteTime": {
     "end_time": "2024-04-16T01:03:19.018968Z",
     "start_time": "2024-04-16T01:03:18.991633Z"
    }
   },
   "cell_type": "code",
   "source": "mutag_model.load_state_dict(torch.load('ckpts/mutag.pt'))",
   "id": "e7c48954c7e99593",
   "outputs": [
    {
     "data": {
      "text/plain": [
       "<All keys matched successfully>"
      ]
     },
     "execution_count": 11,
     "metadata": {},
     "output_type": "execute_result"
    }
   ],
   "execution_count": 11
  },
  {
   "cell_type": "code",
   "source": [
    "for epoch in trange(128):\n",
    "    train_loss = mutag_train.fit_model(mutag_model, lr=0.001)\n",
    "    train_f1 = mutag_train.evaluate_model(mutag_model)\n",
    "    val_f1 = mutag_val.evaluate_model(mutag_model)\n",
    "    print(f'Epoch: {epoch:03d}, '\n",
    "          f'Train Loss: {train_loss:.4f}, '\n",
    "          f'Train F1: {train_f1}, '\n",
    "          f'Test F1: {val_f1}')"
   ],
   "metadata": {
    "collapsed": false
   },
   "id": "55ec64e3c68d4b1e",
   "outputs": [],
   "execution_count": null
  },
  {
   "cell_type": "code",
   "source": [
    "torch.save(mutag_model.state_dict(), 'ckpts/mutag.pt')"
   ],
   "metadata": {
    "collapsed": false
   },
   "id": "6a5ab4dbfdc5fa6d",
   "outputs": [],
   "execution_count": null
  },
  {
   "cell_type": "markdown",
   "source": [
    "# Shape"
   ],
   "metadata": {
    "collapsed": false
   },
   "id": "c08571a9c4869c96"
  },
  {
   "cell_type": "code",
   "source": [
    "shape = ShapeDataset(seed=12345)\n",
    "shape_train, shape_val = shape.train_test_split(k=10)\n",
    "shape_model = GCNClassifier(node_features=len(shape.NODE_CLS),\n",
    "                            num_classes=len(shape.GRAPH_CLS),\n",
    "                            hidden_channels=64,\n",
    "                            num_layers=4)"
   ],
   "metadata": {
    "collapsed": false,
    "ExecuteTime": {
     "end_time": "2024-04-16T01:03:23.996496Z",
     "start_time": "2024-04-16T01:03:22.986013Z"
    }
   },
   "id": "209fa2b252805ab2",
   "outputs": [],
   "execution_count": 12
  },
  {
   "metadata": {
    "ExecuteTime": {
     "end_time": "2024-04-16T01:03:25.121485Z",
     "start_time": "2024-04-16T01:03:25.056630Z"
    }
   },
   "cell_type": "code",
   "source": "shape_model.load_state_dict(torch.load('ckpts/shape.pt'))",
   "id": "f2ada6701ace2f2d",
   "outputs": [
    {
     "data": {
      "text/plain": [
       "<All keys matched successfully>"
      ]
     },
     "execution_count": 13,
     "metadata": {},
     "output_type": "execute_result"
    }
   ],
   "execution_count": 13
  },
  {
   "cell_type": "code",
   "source": [
    "for epoch in range(128):\n",
    "    train_loss = shape_train.fit_model(shape_model, lr=0.0001)\n",
    "    train_f1 = shape_train.evaluate_model(shape_model)\n",
    "    val_f1 = shape_val.evaluate_model(shape_model)\n",
    "    print(f'Epoch: {epoch:03d}, '\n",
    "          f'Train Loss: {train_loss:.4f}, '\n",
    "          f'Train F1: {train_f1}, '\n",
    "          f'Test F1: {val_f1}')"
   ],
   "metadata": {
    "collapsed": false
   },
   "id": "1cfd9312b4bdc4d9",
   "outputs": [],
   "execution_count": null
  },
  {
   "cell_type": "code",
   "source": "torch.save(shape_model.state_dict(), 'ckpts/shape_overfitting.pt')",
   "metadata": {
    "collapsed": false
   },
   "id": "326dfb91cb8fba96",
   "outputs": [],
   "execution_count": null
  },
  {
   "cell_type": "code",
   "source": [],
   "metadata": {
    "collapsed": false
   },
   "id": "75b6d2b5b5eb7a65",
   "outputs": [],
   "execution_count": null
  }
 ],
 "metadata": {
  "kernelspec": {
   "display_name": "Python 3",
   "language": "python",
   "name": "python3"
  },
  "language_info": {
   "codemirror_mode": {
    "name": "ipython",
    "version": 2
   },
   "file_extension": ".py",
   "mimetype": "text/x-python",
   "name": "python",
   "nbconvert_exporter": "python",
   "pygments_lexer": "ipython2",
   "version": "2.7.6"
  }
 },
 "nbformat": 4,
 "nbformat_minor": 5
}
