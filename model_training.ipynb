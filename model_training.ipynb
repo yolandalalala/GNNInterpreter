{
 "cells": [
  {
   "cell_type": "code",
   "source": [
    "%load_ext autoreload\n",
    "%autoreload 2"
   ],
   "metadata": {
    "collapsed": false,
    "ExecuteTime": {
     "end_time": "2024-04-22T02:11:50.260923Z",
     "start_time": "2024-04-22T02:11:50.248670Z"
    }
   },
   "id": "8c2caaab483d0a24",
   "outputs": [],
   "execution_count": 1
  },
  {
   "cell_type": "code",
   "source": [
    "from gnninterpreter import *"
   ],
   "metadata": {
    "collapsed": false,
    "ExecuteTime": {
     "end_time": "2024-04-22T02:11:54.984534Z",
     "start_time": "2024-04-22T02:11:50.262049Z"
    }
   },
   "id": "97e983f9da03809c",
   "outputs": [],
   "execution_count": 2
  },
  {
   "cell_type": "code",
   "source": [
    "import torch\n",
    "from tqdm.auto import trange"
   ],
   "metadata": {
    "collapsed": false,
    "ExecuteTime": {
     "end_time": "2024-04-22T02:11:55.006691Z",
     "start_time": "2024-04-22T02:11:54.985590Z"
    }
   },
   "id": "8afbbc605bb13730",
   "outputs": [],
   "execution_count": 3
  },
  {
   "cell_type": "markdown",
   "source": [
    "# Cyclicity"
   ],
   "metadata": {
    "collapsed": false
   },
   "id": "fb003ff51143b6cf"
  },
  {
   "cell_type": "code",
   "source": [
    "cyclicity = CyclicityDataset(seed=12345)\n",
    "cyclicity_train, cyclicity_val = cyclicity.train_test_split(k=10)\n",
    "cyclicity_model = NNConvClassifier(node_features=len(cyclicity.NODE_CLS),\n",
    "                                   edge_features=len(cyclicity.EDGE_CLS),\n",
    "                                   num_classes=len(cyclicity.GRAPH_CLS),\n",
    "                                   hidden_channels=32)"
   ],
   "metadata": {
    "collapsed": false,
    "ExecuteTime": {
     "end_time": "2024-04-22T02:11:57.798951Z",
     "start_time": "2024-04-22T02:11:55.007658Z"
    }
   },
   "id": "f9ca8d33db768581",
   "outputs": [],
   "execution_count": 4
  },
  {
   "metadata": {
    "ExecuteTime": {
     "end_time": "2024-04-16T01:01:25.297269Z",
     "start_time": "2024-04-16T01:01:25.214256Z"
    }
   },
   "cell_type": "code",
   "source": "cyclicity_model.load_state_dict(torch.load('ckpts/cyclicity.pt'))",
   "id": "6184b0a0e815cd4d",
   "outputs": [
    {
     "data": {
      "text/plain": [
       "<All keys matched successfully>"
      ]
     },
     "execution_count": 5,
     "metadata": {},
     "output_type": "execute_result"
    }
   ],
   "execution_count": 5
  },
  {
   "metadata": {},
   "cell_type": "code",
   "outputs": [],
   "execution_count": null,
   "source": [
    "for epoch in trange(128):\n",
    "    train_loss = cyclicity_train.model_fit(cyclicity_model, lr=0.001)\n",
    "    train_metrics = cyclicity_train.model_evaluate(cyclicity_model)\n",
    "    val_metrics = cyclicity_val.model_evaluate(cyclicity_model)\n",
    "    print(f\"Epoch: {epoch:03d}, \"\n",
    "          f\"Train Loss: {train_loss:.4f}, \"\n",
    "          f\"Train Acc: {train_metrics['acc']:.4f}, \"\n",
    "          f\"Test Acc: {val_metrics['acc']:.4f}, \"\n",
    "          f\"Train F1: {train_metrics['f1']}, \"\n",
    "          f\"Test F1: {val_metrics['f1']}\")"
   ],
   "id": "5d04071033ea9eb"
  },
  {
   "metadata": {},
   "cell_type": "code",
   "outputs": [],
   "execution_count": null,
   "source": "# torch.save(cyclicity_model.state_dict(), 'ckpts/cyclicity.pt')",
   "id": "a3e9dfc10e55569f"
  },
  {
   "cell_type": "markdown",
   "source": [
    "# Motif"
   ],
   "metadata": {
    "collapsed": false
   },
   "id": "2364be7c0ee37620"
  },
  {
   "cell_type": "code",
   "source": [
    "motif = MotifDataset(seed=12345)\n",
    "motif_train, motif_val = motif.train_test_split(k=10)\n",
    "motif_model = GCNClassifier(node_features=len(motif.NODE_CLS),\n",
    "                            num_classes=len(motif.GRAPH_CLS),\n",
    "                            hidden_channels=64,\n",
    "                            num_layers=3)"
   ],
   "metadata": {
    "collapsed": false,
    "ExecuteTime": {
     "end_time": "2024-04-21T19:44:40.533474Z",
     "start_time": "2024-04-21T19:44:34.942464Z"
    }
   },
   "id": "85a99f52ad4d19a3",
   "outputs": [],
   "execution_count": 10
  },
  {
   "metadata": {
    "ExecuteTime": {
     "end_time": "2024-04-21T14:58:18.712652Z",
     "start_time": "2024-04-21T14:58:18.668171Z"
    }
   },
   "cell_type": "code",
   "source": "motif_model.load_state_dict(torch.load('ckpts/motif.pt'))",
   "id": "3ac90580b55bd488",
   "outputs": [
    {
     "data": {
      "text/plain": [
       "<All keys matched successfully>"
      ]
     },
     "execution_count": 5,
     "metadata": {},
     "output_type": "execute_result"
    }
   ],
   "execution_count": 5
  },
  {
   "cell_type": "code",
   "source": [
    "for epoch in range(64):\n",
    "    train_loss = motif_train.model_fit(motif_model, lr=0.0001)\n",
    "    train_metrics = motif_train.model_evaluate(motif_model)\n",
    "    val_metrics = motif_val.model_evaluate(motif_model)\n",
    "    print(f\"Epoch: {epoch:03d}, \"\n",
    "          f\"Train Loss: {train_loss:.4f}, \"\n",
    "          f\"Train Acc: {train_metrics['acc']:.4f}, \"\n",
    "          f\"Test Acc: {val_metrics['acc']:.4f}, \"\n",
    "          f\"Train F1: {train_metrics['f1']}, \"\n",
    "          f\"Test F1: {val_metrics['f1']}\")"
   ],
   "metadata": {
    "collapsed": false,
    "ExecuteTime": {
     "end_time": "2024-04-21T20:14:03.821784Z",
     "start_time": "2024-04-21T20:06:05.917373Z"
    }
   },
   "id": "77849acc80fe593e",
   "outputs": [
    {
     "name": "stdout",
     "output_type": "stream",
     "text": [
      "Epoch: 000, Train Loss: 0.0043, Train Acc: 0.9995, Test Acc: 0.9957, Train F1: {'partial': 0.9987972378730774, 'house': 0.9994962215423584, 'house_x': 1.0, 'comp_4': 0.9993079304695129, 'comp_5': 1.0}, Test F1: {'partial': 0.9887133240699768, 'house': 0.9956331849098206, 'house_x': 1.0, 'comp_4': 0.9937106966972351, 'comp_5': 1.0}\n",
      "Epoch: 001, Train Loss: 0.0028, Train Acc: 0.9997, Test Acc: 0.9948, Train F1: {'partial': 0.9992786645889282, 'house': 1.0, 'house_x': 1.0, 'comp_4': 0.9993079304695129, 'comp_5': 1.0}, Test F1: {'partial': 0.9864864945411682, 'house': 0.9934354424476624, 'house_x': 1.0, 'comp_4': 0.9937106966972351, 'comp_5': 1.0}\n",
      "Epoch: 002, Train Loss: 0.0026, Train Acc: 0.9995, Test Acc: 0.9957, Train F1: {'partial': 0.9987977743148804, 'house': 0.9994962215423584, 'house_x': 1.0, 'comp_4': 0.9993076324462891, 'comp_5': 1.0}, Test F1: {'partial': 0.9887133240699768, 'house': 0.9978213310241699, 'house_x': 1.0, 'comp_4': 0.9915966391563416, 'comp_5': 1.0}\n",
      "Epoch: 003, Train Loss: 0.0023, Train Acc: 0.9993, Test Acc: 0.9965, Train F1: {'partial': 0.9983144998550415, 'house': 0.9994962215423584, 'house_x': 1.0, 'comp_4': 0.9988476634025574, 'comp_5': 1.0}, Test F1: {'partial': 0.9909502267837524, 'house': 0.9978213310241699, 'house_x': 1.0, 'comp_4': 0.9937106966972351, 'comp_5': 1.0}\n",
      "Epoch: 004, Train Loss: 0.0019, Train Acc: 0.9998, Test Acc: 0.9965, Train F1: {'partial': 0.9995189905166626, 'house': 1.0, 'house_x': 1.0, 'comp_4': 0.9995387196540833, 'comp_5': 1.0}, Test F1: {'partial': 0.9909502267837524, 'house': 0.9978213310241699, 'house_x': 1.0, 'comp_4': 0.9937106966972351, 'comp_5': 1.0}\n",
      "Epoch: 005, Train Loss: 0.0017, Train Acc: 0.9998, Test Acc: 0.9948, Train F1: {'partial': 0.9995194673538208, 'house': 1.0, 'house_x': 1.0, 'comp_4': 0.9995383024215698, 'comp_5': 1.0}, Test F1: {'partial': 0.9865471124649048, 'house': 0.9956331849098206, 'house_x': 1.0, 'comp_4': 0.9915611743927002, 'comp_5': 1.0}\n",
      "Epoch: 006, Train Loss: 0.0017, Train Acc: 0.9997, Test Acc: 0.9948, Train F1: {'partial': 0.9992783069610596, 'house': 1.0, 'house_x': 1.0, 'comp_4': 0.9993082880973816, 'comp_5': 1.0}, Test F1: {'partial': 0.9864864945411682, 'house': 0.9956331849098206, 'house_x': 1.0, 'comp_4': 0.9915966391563416, 'comp_5': 1.0}\n",
      "Epoch: 007, Train Loss: 0.0019, Train Acc: 0.9995, Test Acc: 0.9957, Train F1: {'partial': 0.9987966418266296, 'house': 1.0, 'house_x': 1.0, 'comp_4': 0.9988476634025574, 'comp_5': 1.0}, Test F1: {'partial': 0.9887133240699768, 'house': 0.9956331849098206, 'house_x': 1.0, 'comp_4': 0.9937106966972351, 'comp_5': 1.0}\n",
      "Epoch: 008, Train Loss: 0.0018, Train Acc: 0.9998, Test Acc: 0.9957, Train F1: {'partial': 0.9995189905166626, 'house': 1.0, 'house_x': 1.0, 'comp_4': 0.9995387196540833, 'comp_5': 1.0}, Test F1: {'partial': 0.9887133240699768, 'house': 0.9978213310241699, 'house_x': 1.0, 'comp_4': 0.9915966391563416, 'comp_5': 1.0}\n",
      "Epoch: 009, Train Loss: 0.0013, Train Acc: 0.9998, Test Acc: 0.9957, Train F1: {'partial': 0.9995189905166626, 'house': 1.0, 'house_x': 1.0, 'comp_4': 0.9995387196540833, 'comp_5': 1.0}, Test F1: {'partial': 0.9887133240699768, 'house': 0.9978213310241699, 'house_x': 1.0, 'comp_4': 0.9915966391563416, 'comp_5': 1.0}\n",
      "Epoch: 010, Train Loss: 0.0016, Train Acc: 0.9999, Test Acc: 0.9965, Train F1: {'partial': 0.9997595548629761, 'house': 1.0, 'house_x': 1.0, 'comp_4': 0.9997693300247192, 'comp_5': 1.0}, Test F1: {'partial': 0.9909909963607788, 'house': 0.9978213310241699, 'house_x': 1.0, 'comp_4': 0.9936842322349548, 'comp_5': 1.0}\n",
      "Epoch: 011, Train Loss: 0.0011, Train Acc: 0.9999, Test Acc: 0.9965, Train F1: {'partial': 0.9997595548629761, 'house': 1.0, 'house_x': 1.0, 'comp_4': 0.9997693300247192, 'comp_5': 1.0}, Test F1: {'partial': 0.9909909963607788, 'house': 0.9978213310241699, 'house_x': 1.0, 'comp_4': 0.9936842322349548, 'comp_5': 1.0}\n",
      "Epoch: 012, Train Loss: 0.0014, Train Acc: 0.9998, Test Acc: 0.9965, Train F1: {'partial': 0.9995189905166626, 'house': 1.0, 'house_x': 1.0, 'comp_4': 0.9995387196540833, 'comp_5': 1.0}, Test F1: {'partial': 0.9909909963607788, 'house': 0.9978213310241699, 'house_x': 1.0, 'comp_4': 0.9936842322349548, 'comp_5': 1.0}\n",
      "Epoch: 013, Train Loss: 0.0012, Train Acc: 0.9998, Test Acc: 0.9948, Train F1: {'partial': 0.9995189905166626, 'house': 1.0, 'house_x': 1.0, 'comp_4': 0.9995387196540833, 'comp_5': 1.0}, Test F1: {'partial': 0.9864864945411682, 'house': 0.9934354424476624, 'house_x': 1.0, 'comp_4': 0.9937106966972351, 'comp_5': 1.0}\n",
      "Epoch: 014, Train Loss: 0.0012, Train Acc: 0.9998, Test Acc: 0.9948, Train F1: {'partial': 0.9995194673538208, 'house': 1.0, 'house_x': 1.0, 'comp_4': 0.9995383024215698, 'comp_5': 1.0}, Test F1: {'partial': 0.9865471124649048, 'house': 0.9978213310241699, 'house_x': 1.0, 'comp_4': 0.9894291758537292, 'comp_5': 1.0}\n",
      "Epoch: 015, Train Loss: 0.0011, Train Acc: 0.9998, Test Acc: 0.9965, Train F1: {'partial': 0.9995189905166626, 'house': 1.0, 'house_x': 1.0, 'comp_4': 0.9995387196540833, 'comp_5': 1.0}, Test F1: {'partial': 0.9909909963607788, 'house': 0.9978213310241699, 'house_x': 1.0, 'comp_4': 0.9936842322349548, 'comp_5': 1.0}\n",
      "Epoch: 016, Train Loss: 0.0010, Train Acc: 0.9987, Test Acc: 0.9957, Train F1: {'partial': 0.9968652129173279, 'house': 1.0, 'house_x': 1.0, 'comp_4': 0.9970094561576843, 'comp_5': 1.0}, Test F1: {'partial': 0.9887133240699768, 'house': 0.9956331849098206, 'house_x': 1.0, 'comp_4': 0.9937106966972351, 'comp_5': 1.0}\n",
      "Epoch: 017, Train Loss: 0.0012, Train Acc: 0.9997, Test Acc: 0.9965, Train F1: {'partial': 0.9992783069610596, 'house': 0.9997480511665344, 'house_x': 1.0, 'comp_4': 0.9995387196540833, 'comp_5': 1.0}, Test F1: {'partial': 0.9909502267837524, 'house': 0.9978213310241699, 'house_x': 1.0, 'comp_4': 0.9937106966972351, 'comp_5': 1.0}\n",
      "Epoch: 018, Train Loss: 0.0012, Train Acc: 0.9993, Test Acc: 0.9965, Train F1: {'partial': 0.9983144998550415, 'house': 1.0, 'house_x': 1.0, 'comp_4': 0.9983874559402466, 'comp_5': 1.0}, Test F1: {'partial': 0.9909502267837524, 'house': 0.9978213310241699, 'house_x': 1.0, 'comp_4': 0.9937106966972351, 'comp_5': 1.0}\n",
      "Epoch: 019, Train Loss: 0.0009, Train Acc: 0.9998, Test Acc: 0.9957, Train F1: {'partial': 0.9995194673538208, 'house': 1.0, 'house_x': 1.0, 'comp_4': 0.9995383024215698, 'comp_5': 1.0}, Test F1: {'partial': 0.9887640476226807, 'house': 0.9978213310241699, 'house_x': 1.0, 'comp_4': 0.9915611743927002, 'comp_5': 1.0}\n",
      "Epoch: 020, Train Loss: 0.0006, Train Acc: 0.9999, Test Acc: 0.9965, Train F1: {'partial': 0.9997595548629761, 'house': 1.0, 'house_x': 1.0, 'comp_4': 0.9997693300247192, 'comp_5': 1.0}, Test F1: {'partial': 0.9909502267837524, 'house': 0.9978213310241699, 'house_x': 1.0, 'comp_4': 0.9937106966972351, 'comp_5': 1.0}\n",
      "Epoch: 021, Train Loss: 0.0008, Train Acc: 1.0000, Test Acc: 0.9957, Train F1: {'partial': 1.0, 'house': 1.0, 'house_x': 1.0, 'comp_4': 1.0, 'comp_5': 1.0}, Test F1: {'partial': 0.9887133240699768, 'house': 0.9956331849098206, 'house_x': 1.0, 'comp_4': 0.9937106966972351, 'comp_5': 1.0}\n",
      "Epoch: 022, Train Loss: 0.0008, Train Acc: 1.0000, Test Acc: 0.9965, Train F1: {'partial': 1.0, 'house': 1.0, 'house_x': 1.0, 'comp_4': 1.0, 'comp_5': 1.0}, Test F1: {'partial': 0.9909909963607788, 'house': 0.9956331849098206, 'house_x': 1.0, 'comp_4': 0.9957982897758484, 'comp_5': 1.0}\n",
      "Epoch: 023, Train Loss: 0.0007, Train Acc: 1.0000, Test Acc: 0.9957, Train F1: {'partial': 1.0, 'house': 1.0, 'house_x': 1.0, 'comp_4': 1.0, 'comp_5': 1.0}, Test F1: {'partial': 0.9887640476226807, 'house': 0.9956331849098206, 'house_x': 1.0, 'comp_4': 0.9936842322349548, 'comp_5': 1.0}\n",
      "Epoch: 024, Train Loss: 0.0006, Train Acc: 1.0000, Test Acc: 0.9974, Train F1: {'partial': 1.0, 'house': 1.0, 'house_x': 1.0, 'comp_4': 1.0, 'comp_5': 1.0}, Test F1: {'partial': 0.993228018283844, 'house': 0.9978213310241699, 'house_x': 1.0, 'comp_4': 0.9957982897758484, 'comp_5': 1.0}\n",
      "Epoch: 025, Train Loss: 0.0008, Train Acc: 1.0000, Test Acc: 0.9957, Train F1: {'partial': 1.0, 'house': 1.0, 'house_x': 1.0, 'comp_4': 1.0, 'comp_5': 1.0}, Test F1: {'partial': 0.9887640476226807, 'house': 0.9956331849098206, 'house_x': 1.0, 'comp_4': 0.9936842322349548, 'comp_5': 1.0}\n",
      "Epoch: 026, Train Loss: 0.0006, Train Acc: 1.0000, Test Acc: 0.9948, Train F1: {'partial': 1.0, 'house': 1.0, 'house_x': 1.0, 'comp_4': 1.0, 'comp_5': 1.0}, Test F1: {'partial': 0.9866071343421936, 'house': 0.9956331849098206, 'house_x': 1.0, 'comp_4': 0.991525411605835, 'comp_5': 1.0}\n",
      "Epoch: 027, Train Loss: 0.0009, Train Acc: 0.9996, Test Acc: 0.9957, Train F1: {'partial': 0.9990375638008118, 'house': 1.0, 'house_x': 1.0, 'comp_4': 0.9990779161453247, 'comp_5': 1.0}, Test F1: {'partial': 0.9887133240699768, 'house': 0.9956331849098206, 'house_x': 1.0, 'comp_4': 0.9937106966972351, 'comp_5': 1.0}\n",
      "Epoch: 028, Train Loss: 0.0006, Train Acc: 1.0000, Test Acc: 0.9965, Train F1: {'partial': 1.0, 'house': 1.0, 'house_x': 1.0, 'comp_4': 1.0, 'comp_5': 1.0}, Test F1: {'partial': 0.9909502267837524, 'house': 0.9978213310241699, 'house_x': 1.0, 'comp_4': 0.9937106966972351, 'comp_5': 1.0}\n",
      "Epoch: 029, Train Loss: 0.0005, Train Acc: 0.9999, Test Acc: 0.9957, Train F1: {'partial': 0.9997595548629761, 'house': 1.0, 'house_x': 1.0, 'comp_4': 0.9997693300247192, 'comp_5': 1.0}, Test F1: {'partial': 0.9887133240699768, 'house': 0.9956331849098206, 'house_x': 1.0, 'comp_4': 0.9937106966972351, 'comp_5': 1.0}\n",
      "Epoch: 030, Train Loss: 0.0005, Train Acc: 0.9996, Test Acc: 0.9965, Train F1: {'partial': 0.9990375638008118, 'house': 1.0, 'house_x': 1.0, 'comp_4': 0.9990779161453247, 'comp_5': 1.0}, Test F1: {'partial': 0.9909502267837524, 'house': 0.9978213310241699, 'house_x': 1.0, 'comp_4': 0.9937106966972351, 'comp_5': 1.0}\n",
      "Epoch: 031, Train Loss: 0.0007, Train Acc: 1.0000, Test Acc: 0.9965, Train F1: {'partial': 1.0, 'house': 1.0, 'house_x': 1.0, 'comp_4': 1.0, 'comp_5': 1.0}, Test F1: {'partial': 0.9909909963607788, 'house': 0.9978213310241699, 'house_x': 1.0, 'comp_4': 0.9936842322349548, 'comp_5': 1.0}\n",
      "Epoch: 032, Train Loss: 0.0006, Train Acc: 1.0000, Test Acc: 0.9957, Train F1: {'partial': 1.0, 'house': 1.0, 'house_x': 1.0, 'comp_4': 1.0, 'comp_5': 1.0}, Test F1: {'partial': 0.9887640476226807, 'house': 0.9956331849098206, 'house_x': 1.0, 'comp_4': 0.9936842322349548, 'comp_5': 1.0}\n",
      "Epoch: 033, Train Loss: 0.0005, Train Acc: 1.0000, Test Acc: 0.9957, Train F1: {'partial': 1.0, 'house': 1.0, 'house_x': 1.0, 'comp_4': 1.0, 'comp_5': 1.0}, Test F1: {'partial': 0.9887133240699768, 'house': 0.9956331849098206, 'house_x': 1.0, 'comp_4': 0.9937106966972351, 'comp_5': 1.0}\n",
      "Epoch: 034, Train Loss: 0.0006, Train Acc: 1.0000, Test Acc: 0.9948, Train F1: {'partial': 1.0, 'house': 1.0, 'house_x': 1.0, 'comp_4': 1.0, 'comp_5': 1.0}, Test F1: {'partial': 0.9864864945411682, 'house': 0.9934354424476624, 'house_x': 1.0, 'comp_4': 0.9937106966972351, 'comp_5': 1.0}\n",
      "Epoch: 035, Train Loss: 0.0012, Train Acc: 0.9995, Test Acc: 0.9931, Train F1: {'partial': 0.9987995028495789, 'house': 0.9987383484840393, 'house_x': 1.0, 'comp_4': 1.0, 'comp_5': 1.0}, Test F1: {'partial': 0.9820627570152283, 'house': 0.9890109896659851, 'house_x': 1.0, 'comp_4': 0.9937106966972351, 'comp_5': 1.0}\n",
      "Epoch: 036, Train Loss: 0.0006, Train Acc: 1.0000, Test Acc: 0.9957, Train F1: {'partial': 1.0, 'house': 1.0, 'house_x': 1.0, 'comp_4': 1.0, 'comp_5': 1.0}, Test F1: {'partial': 0.9887133240699768, 'house': 0.9956331849098206, 'house_x': 1.0, 'comp_4': 0.9937106966972351, 'comp_5': 1.0}\n",
      "Epoch: 037, Train Loss: 0.0010, Train Acc: 0.9998, Test Acc: 0.9965, Train F1: {'partial': 0.9995189905166626, 'house': 1.0, 'house_x': 1.0, 'comp_4': 0.9995387196540833, 'comp_5': 1.0}, Test F1: {'partial': 0.9909502267837524, 'house': 0.9978213310241699, 'house_x': 1.0, 'comp_4': 0.9937106966972351, 'comp_5': 1.0}\n",
      "Epoch: 038, Train Loss: 0.0004, Train Acc: 0.9999, Test Acc: 0.9965, Train F1: {'partial': 0.9997595548629761, 'house': 1.0, 'house_x': 1.0, 'comp_4': 0.9997693300247192, 'comp_5': 1.0}, Test F1: {'partial': 0.9909502267837524, 'house': 0.9978213310241699, 'house_x': 1.0, 'comp_4': 0.9937106966972351, 'comp_5': 1.0}\n",
      "Epoch: 039, Train Loss: 0.0005, Train Acc: 0.9999, Test Acc: 0.9948, Train F1: {'partial': 0.9997595548629761, 'house': 1.0, 'house_x': 1.0, 'comp_4': 0.9997693300247192, 'comp_5': 1.0}, Test F1: {'partial': 0.9864864945411682, 'house': 0.9956331849098206, 'house_x': 1.0, 'comp_4': 0.9915966391563416, 'comp_5': 1.0}\n",
      "Epoch: 040, Train Loss: 0.0005, Train Acc: 0.9996, Test Acc: 0.9957, Train F1: {'partial': 0.9990375638008118, 'house': 1.0, 'house_x': 1.0, 'comp_4': 0.9990779161453247, 'comp_5': 1.0}, Test F1: {'partial': 0.9887133240699768, 'house': 0.9956331849098206, 'house_x': 1.0, 'comp_4': 0.9937106966972351, 'comp_5': 1.0}\n",
      "Epoch: 041, Train Loss: 0.0004, Train Acc: 1.0000, Test Acc: 0.9957, Train F1: {'partial': 1.0, 'house': 1.0, 'house_x': 1.0, 'comp_4': 1.0, 'comp_5': 1.0}, Test F1: {'partial': 0.9887640476226807, 'house': 0.9956331849098206, 'house_x': 1.0, 'comp_4': 0.9936842322349548, 'comp_5': 1.0}\n",
      "Epoch: 042, Train Loss: 0.0004, Train Acc: 1.0000, Test Acc: 0.9957, Train F1: {'partial': 1.0, 'house': 1.0, 'house_x': 1.0, 'comp_4': 1.0, 'comp_5': 1.0}, Test F1: {'partial': 0.9887133240699768, 'house': 0.9956331849098206, 'house_x': 1.0, 'comp_4': 0.9937106966972351, 'comp_5': 1.0}\n",
      "Epoch: 043, Train Loss: 0.0005, Train Acc: 1.0000, Test Acc: 0.9965, Train F1: {'partial': 1.0, 'house': 1.0, 'house_x': 1.0, 'comp_4': 1.0, 'comp_5': 1.0}, Test F1: {'partial': 0.9909909963607788, 'house': 0.9978213310241699, 'house_x': 1.0, 'comp_4': 0.9936842322349548, 'comp_5': 1.0}\n",
      "Epoch: 044, Train Loss: 0.0004, Train Acc: 0.9976, Test Acc: 0.9913, Train F1: {'partial': 0.9940263032913208, 'house': 1.0, 'house_x': 0.9997548460960388, 'comp_4': 0.9944315552711487, 'comp_5': 1.0}, Test F1: {'partial': 0.9778761267662048, 'house': 0.9978213310241699, 'house_x': 1.0, 'comp_4': 0.980728030204773, 'comp_5': 1.0}\n",
      "Epoch: 045, Train Loss: 0.0004, Train Acc: 1.0000, Test Acc: 0.9957, Train F1: {'partial': 1.0, 'house': 1.0, 'house_x': 1.0, 'comp_4': 1.0, 'comp_5': 1.0}, Test F1: {'partial': 0.9887133240699768, 'house': 0.9956331849098206, 'house_x': 1.0, 'comp_4': 0.9937106966972351, 'comp_5': 1.0}\n",
      "Epoch: 046, Train Loss: 0.0003, Train Acc: 1.0000, Test Acc: 0.9957, Train F1: {'partial': 1.0, 'house': 1.0, 'house_x': 1.0, 'comp_4': 1.0, 'comp_5': 1.0}, Test F1: {'partial': 0.9887640476226807, 'house': 0.9956331849098206, 'house_x': 1.0, 'comp_4': 0.9936842322349548, 'comp_5': 1.0}\n",
      "Epoch: 047, Train Loss: 0.0004, Train Acc: 0.9998, Test Acc: 0.9957, Train F1: {'partial': 0.9995189905166626, 'house': 1.0, 'house_x': 1.0, 'comp_4': 1.0, 'comp_5': 0.9995256066322327}, Test F1: {'partial': 0.9886621236801147, 'house': 0.9978213310241699, 'house_x': 1.0, 'comp_4': 0.9937106966972351, 'comp_5': 0.9978586435317993}\n",
      "Epoch: 048, Train Loss: 0.0004, Train Acc: 1.0000, Test Acc: 0.9965, Train F1: {'partial': 1.0, 'house': 1.0, 'house_x': 1.0, 'comp_4': 1.0, 'comp_5': 1.0}, Test F1: {'partial': 0.9909502267837524, 'house': 0.9978213310241699, 'house_x': 1.0, 'comp_4': 0.9937106966972351, 'comp_5': 1.0}\n",
      "Epoch: 049, Train Loss: 0.0004, Train Acc: 0.9990, Test Acc: 0.9948, Train F1: {'partial': 0.9975903630256653, 'house': 1.0, 'house_x': 1.0, 'comp_4': 0.9976979494094849, 'comp_5': 1.0}, Test F1: {'partial': 0.9864864945411682, 'house': 0.9934354424476624, 'house_x': 1.0, 'comp_4': 0.9937106966972351, 'comp_5': 1.0}\n",
      "Epoch: 050, Train Loss: 0.0003, Train Acc: 1.0000, Test Acc: 0.9957, Train F1: {'partial': 1.0, 'house': 1.0, 'house_x': 1.0, 'comp_4': 1.0, 'comp_5': 1.0}, Test F1: {'partial': 0.9887133240699768, 'house': 0.9956521987915039, 'house_x': 1.0, 'comp_4': 0.9936842322349548, 'comp_5': 1.0}\n",
      "Epoch: 051, Train Loss: 0.0004, Train Acc: 0.9997, Test Acc: 0.9965, Train F1: {'partial': 0.9992783069610596, 'house': 1.0, 'house_x': 1.0, 'comp_4': 0.9993082880973816, 'comp_5': 1.0}, Test F1: {'partial': 0.9909502267837524, 'house': 0.9978213310241699, 'house_x': 1.0, 'comp_4': 0.9937106966972351, 'comp_5': 1.0}\n",
      "Epoch: 052, Train Loss: 0.0004, Train Acc: 1.0000, Test Acc: 0.9965, Train F1: {'partial': 1.0, 'house': 1.0, 'house_x': 1.0, 'comp_4': 1.0, 'comp_5': 1.0}, Test F1: {'partial': 0.9909909963607788, 'house': 0.9956331849098206, 'house_x': 1.0, 'comp_4': 0.9957982897758484, 'comp_5': 1.0}\n",
      "Epoch: 053, Train Loss: 0.0003, Train Acc: 1.0000, Test Acc: 0.9957, Train F1: {'partial': 1.0, 'house': 1.0, 'house_x': 1.0, 'comp_4': 1.0, 'comp_5': 1.0}, Test F1: {'partial': 0.9887640476226807, 'house': 0.9956331849098206, 'house_x': 1.0, 'comp_4': 0.9936842322349548, 'comp_5': 1.0}\n",
      "Epoch: 054, Train Loss: 0.0003, Train Acc: 1.0000, Test Acc: 0.9957, Train F1: {'partial': 1.0, 'house': 1.0, 'house_x': 1.0, 'comp_4': 1.0, 'comp_5': 1.0}, Test F1: {'partial': 0.9887640476226807, 'house': 0.9956331849098206, 'house_x': 1.0, 'comp_4': 0.9936842322349548, 'comp_5': 1.0}\n",
      "Epoch: 055, Train Loss: 0.0005, Train Acc: 1.0000, Test Acc: 0.9957, Train F1: {'partial': 1.0, 'house': 1.0, 'house_x': 1.0, 'comp_4': 1.0, 'comp_5': 1.0}, Test F1: {'partial': 0.9887640476226807, 'house': 0.9956331849098206, 'house_x': 1.0, 'comp_4': 0.9936842322349548, 'comp_5': 1.0}\n",
      "Epoch: 056, Train Loss: 0.0003, Train Acc: 1.0000, Test Acc: 0.9965, Train F1: {'partial': 1.0, 'house': 1.0, 'house_x': 1.0, 'comp_4': 1.0, 'comp_5': 1.0}, Test F1: {'partial': 0.9909909963607788, 'house': 0.9978213310241699, 'house_x': 1.0, 'comp_4': 0.9936842322349548, 'comp_5': 1.0}\n",
      "Epoch: 057, Train Loss: 0.0008, Train Acc: 1.0000, Test Acc: 0.9957, Train F1: {'partial': 1.0, 'house': 1.0, 'house_x': 1.0, 'comp_4': 1.0, 'comp_5': 1.0}, Test F1: {'partial': 0.9887133240699768, 'house': 0.9978213310241699, 'house_x': 1.0, 'comp_4': 0.9915966391563416, 'comp_5': 1.0}\n",
      "Epoch: 058, Train Loss: 0.0006, Train Acc: 1.0000, Test Acc: 0.9957, Train F1: {'partial': 1.0, 'house': 1.0, 'house_x': 1.0, 'comp_4': 1.0, 'comp_5': 1.0}, Test F1: {'partial': 0.9887640476226807, 'house': 0.9956331849098206, 'house_x': 1.0, 'comp_4': 0.9936842322349548, 'comp_5': 1.0}\n",
      "Epoch: 059, Train Loss: 0.0003, Train Acc: 1.0000, Test Acc: 0.9965, Train F1: {'partial': 1.0, 'house': 1.0, 'house_x': 1.0, 'comp_4': 1.0, 'comp_5': 1.0}, Test F1: {'partial': 0.9909909963607788, 'house': 0.9978213310241699, 'house_x': 1.0, 'comp_4': 0.9936842322349548, 'comp_5': 1.0}\n",
      "Epoch: 060, Train Loss: 0.0005, Train Acc: 1.0000, Test Acc: 0.9965, Train F1: {'partial': 1.0, 'house': 1.0, 'house_x': 1.0, 'comp_4': 1.0, 'comp_5': 1.0}, Test F1: {'partial': 0.9909909963607788, 'house': 0.9978213310241699, 'house_x': 1.0, 'comp_4': 0.9936842322349548, 'comp_5': 1.0}\n",
      "Epoch: 061, Train Loss: 0.0003, Train Acc: 1.0000, Test Acc: 0.9965, Train F1: {'partial': 1.0, 'house': 1.0, 'house_x': 1.0, 'comp_4': 1.0, 'comp_5': 1.0}, Test F1: {'partial': 0.9909909963607788, 'house': 0.9978213310241699, 'house_x': 1.0, 'comp_4': 0.9936842322349548, 'comp_5': 1.0}\n",
      "Epoch: 062, Train Loss: 0.0008, Train Acc: 1.0000, Test Acc: 0.9939, Train F1: {'partial': 1.0, 'house': 1.0, 'house_x': 1.0, 'comp_4': 1.0, 'comp_5': 1.0}, Test F1: {'partial': 0.9842696785926819, 'house': 0.9934354424476624, 'house_x': 1.0, 'comp_4': 0.9915966391563416, 'comp_5': 1.0}\n",
      "Epoch: 063, Train Loss: 0.0002, Train Acc: 1.0000, Test Acc: 0.9957, Train F1: {'partial': 1.0, 'house': 1.0, 'house_x': 1.0, 'comp_4': 1.0, 'comp_5': 1.0}, Test F1: {'partial': 0.9887133240699768, 'house': 0.9956331849098206, 'house_x': 1.0, 'comp_4': 0.9937106966972351, 'comp_5': 1.0}\n"
     ]
    }
   ],
   "execution_count": 12
  },
  {
   "cell_type": "code",
   "source": "torch.save(motif_model.state_dict(), 'ckpts/motif.pt')",
   "metadata": {
    "collapsed": false,
    "ExecuteTime": {
     "end_time": "2024-04-21T20:15:52.164815Z",
     "start_time": "2024-04-21T20:15:52.136381Z"
    }
   },
   "id": "b2a5adde85f03d0a",
   "outputs": [],
   "execution_count": 15
  },
  {
   "cell_type": "markdown",
   "source": [
    "# MUTAG"
   ],
   "metadata": {
    "collapsed": false
   },
   "id": "7fbdf852d5323bb9"
  },
  {
   "cell_type": "code",
   "source": [
    "mutag = MUTAGDataset(seed=12345)\n",
    "mutag_train, mutag_val = mutag.train_test_split(k=10)\n",
    "mutag_model = GCNClassifier(node_features=len(mutag.NODE_CLS),\n",
    "                            num_classes=len(mutag.GRAPH_CLS),\n",
    "                            hidden_channels=64,\n",
    "                            num_layers=3)"
   ],
   "metadata": {
    "collapsed": false,
    "ExecuteTime": {
     "end_time": "2024-04-16T01:02:06.135934Z",
     "start_time": "2024-04-16T01:02:06.081495Z"
    }
   },
   "id": "a0688406c7338df1",
   "outputs": [],
   "execution_count": 9
  },
  {
   "metadata": {
    "ExecuteTime": {
     "end_time": "2024-04-16T01:03:19.018968Z",
     "start_time": "2024-04-16T01:03:18.991633Z"
    }
   },
   "cell_type": "code",
   "source": "mutag_model.load_state_dict(torch.load('ckpts/mutag.pt'))",
   "id": "e7c48954c7e99593",
   "outputs": [
    {
     "data": {
      "text/plain": [
       "<All keys matched successfully>"
      ]
     },
     "execution_count": 11,
     "metadata": {},
     "output_type": "execute_result"
    }
   ],
   "execution_count": 11
  },
  {
   "cell_type": "code",
   "source": [
    "for epoch in trange(128):\n",
    "    train_loss = mutag_train.model_fit(mutag_model, lr=0.001)\n",
    "    train_metrics = mutag_train.model_evaluate(mutag_model)\n",
    "    val_metrics = mutag_val.model_evaluate(mutag_model)\n",
    "    print(f\"Epoch: {epoch:03d}, \"\n",
    "          f\"Train Loss: {train_loss:.4f}, \"\n",
    "          f\"Train Acc: {train_metrics['acc']:.4f}, \"\n",
    "          f\"Test Acc: {val_metrics['acc']:.4f}, \"\n",
    "          f\"Train F1: {train_metrics['f1']}, \"\n",
    "          f\"Test F1: {val_metrics['f1']}\")"
   ],
   "metadata": {
    "collapsed": false
   },
   "id": "55ec64e3c68d4b1e",
   "outputs": [],
   "execution_count": null
  },
  {
   "cell_type": "code",
   "source": [
    "torch.save(mutag_model.state_dict(), 'ckpts/mutag.pt')"
   ],
   "metadata": {
    "collapsed": false
   },
   "id": "6a5ab4dbfdc5fa6d",
   "outputs": [],
   "execution_count": null
  },
  {
   "cell_type": "markdown",
   "source": [
    "# Shape"
   ],
   "metadata": {
    "collapsed": false
   },
   "id": "c08571a9c4869c96"
  },
  {
   "cell_type": "code",
   "source": [
    "shape = ShapeDataset(seed=12345)\n",
    "shape_train, shape_val = shape.train_test_split(k=10)\n",
    "shape_model = GCNClassifier(node_features=len(shape.NODE_CLS),\n",
    "                            num_classes=len(shape.GRAPH_CLS),\n",
    "                            hidden_channels=64,\n",
    "                            num_layers=4)"
   ],
   "metadata": {
    "collapsed": false,
    "ExecuteTime": {
     "end_time": "2024-04-16T01:03:23.996496Z",
     "start_time": "2024-04-16T01:03:22.986013Z"
    }
   },
   "id": "209fa2b252805ab2",
   "outputs": [],
   "execution_count": 12
  },
  {
   "metadata": {
    "ExecuteTime": {
     "end_time": "2024-04-16T01:03:25.121485Z",
     "start_time": "2024-04-16T01:03:25.056630Z"
    }
   },
   "cell_type": "code",
   "source": "shape_model.load_state_dict(torch.load('ckpts/shape.pt'))",
   "id": "f2ada6701ace2f2d",
   "outputs": [
    {
     "data": {
      "text/plain": [
       "<All keys matched successfully>"
      ]
     },
     "execution_count": 13,
     "metadata": {},
     "output_type": "execute_result"
    }
   ],
   "execution_count": 13
  },
  {
   "cell_type": "code",
   "source": [
    "for epoch in range(128):\n",
    "    train_loss = shape_train.model_fit(shape_model, lr=0.001)\n",
    "    train_metrics = shape_train.model_evaluate(shape_model)\n",
    "    val_metrics = shape_val.model_evaluate(shape_model)\n",
    "    print(f\"Epoch: {epoch:03d}, \"\n",
    "          f\"Train Loss: {train_loss:.4f}, \"\n",
    "          f\"Train Acc: {train_metrics['acc']:.4f}, \"\n",
    "          f\"Test Acc: {val_metrics['acc']:.4f}, \"\n",
    "          f\"Train F1: {train_metrics['f1']}, \"\n",
    "          f\"Test F1: {val_metrics['f1']}\")"
   ],
   "metadata": {
    "collapsed": false
   },
   "id": "1cfd9312b4bdc4d9",
   "outputs": [],
   "execution_count": null
  },
  {
   "cell_type": "code",
   "source": "torch.save(shape_model.state_dict(), 'ckpts/shape_overfitting.pt')",
   "metadata": {
    "collapsed": false
   },
   "id": "326dfb91cb8fba96",
   "outputs": [],
   "execution_count": null
  },
  {
   "cell_type": "code",
   "source": [],
   "metadata": {
    "collapsed": false
   },
   "id": "75b6d2b5b5eb7a65",
   "outputs": [],
   "execution_count": null
  }
 ],
 "metadata": {
  "kernelspec": {
   "display_name": "Python 3",
   "language": "python",
   "name": "python3"
  },
  "language_info": {
   "codemirror_mode": {
    "name": "ipython",
    "version": 2
   },
   "file_extension": ".py",
   "mimetype": "text/x-python",
   "name": "python",
   "nbconvert_exporter": "python",
   "pygments_lexer": "ipython2",
   "version": "2.7.6"
  }
 },
 "nbformat": 4,
 "nbformat_minor": 5
}
