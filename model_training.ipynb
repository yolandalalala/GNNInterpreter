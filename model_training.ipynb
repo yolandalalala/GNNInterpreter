{
 "cells": [
  {
   "cell_type": "code",
   "execution_count": 1,
   "outputs": [],
   "source": [
    "%load_ext autoreload\n",
    "%autoreload 2"
   ],
   "metadata": {
    "collapsed": false,
    "ExecuteTime": {
     "end_time": "2023-11-01T07:44:10.295499Z",
     "start_time": "2023-11-01T07:44:10.284334Z"
    }
   },
   "id": "8c2caaab483d0a24"
  },
  {
   "cell_type": "code",
   "execution_count": 2,
   "outputs": [],
   "source": [
    "from gnninterpreter import *"
   ],
   "metadata": {
    "collapsed": false,
    "ExecuteTime": {
     "end_time": "2023-11-01T07:44:12.750824Z",
     "start_time": "2023-11-01T07:44:10.295663Z"
    }
   },
   "id": "97e983f9da03809c"
  },
  {
   "cell_type": "code",
   "execution_count": 12,
   "outputs": [],
   "source": [
    "import torch\n",
    "from tqdm.auto import trange"
   ],
   "metadata": {
    "collapsed": false,
    "ExecuteTime": {
     "end_time": "2023-11-02T08:58:18.466915Z",
     "start_time": "2023-11-02T08:58:18.059934Z"
    }
   },
   "id": "8afbbc605bb13730"
  },
  {
   "cell_type": "markdown",
   "source": [
    "# Cyclicity"
   ],
   "metadata": {
    "collapsed": false
   },
   "id": "fb003ff51143b6cf"
  },
  {
   "cell_type": "code",
   "execution_count": 17,
   "outputs": [],
   "source": [
    "cyclicity = CyclicityDataset(seed=12345)\n",
    "cyclicity_train, cyclicity_val = cyclicity.train_test_split(k=10)\n",
    "cyclicity_model = NNConvClassifier(node_features=len(cyclicity.NODE_CLS),\n",
    "                                   edge_features=len(cyclicity.EDGE_CLS),\n",
    "                                   num_classes=len(cyclicity.GRAPH_CLS),\n",
    "                                   hidden_channels=32)"
   ],
   "metadata": {
    "collapsed": false,
    "ExecuteTime": {
     "end_time": "2023-11-02T09:04:51.209898Z",
     "start_time": "2023-11-02T09:04:48.490070Z"
    }
   },
   "id": "f9ca8d33db768581"
  },
  {
   "cell_type": "code",
   "execution_count": 21,
   "outputs": [
    {
     "data": {
      "text/plain": "  0%|          | 0/1 [00:00<?, ?it/s]",
      "application/vnd.jupyter.widget-view+json": {
       "version_major": 2,
       "version_minor": 0,
       "model_id": "fcfa4132918c4818b03f17504f6664db"
      }
     },
     "metadata": {},
     "output_type": "display_data"
    },
    {
     "name": "stdout",
     "output_type": "stream",
     "text": [
      "Epoch: 000, Train Loss: 0.1018, Train F1: {'red_cyclic': 0.9803921580314636, 'green_cyclic': 0.9671629667282104, 'acyclic': 0.9750848412513733}, Test F1: {'red_cyclic': 0.9597197771072388, 'green_cyclic': 0.9403747916221619, 'acyclic': 0.9483066201210022}, \n"
     ]
    }
   ],
   "source": [
    "for epoch in trange(128):\n",
    "    train_loss = cyclicity_train.fit_model(cyclicity_model, lr=0.001)\n",
    "    train_f1 = cyclicity_train.evaluate_model(cyclicity_model)\n",
    "    val_f1 = cyclicity_val.evaluate_model(cyclicity_model)\n",
    "    print(f'Epoch: {epoch:03d}, '\n",
    "          f'Train Loss: {train_loss:.4f}, '\n",
    "          f'Train F1: {train_f1}, '\n",
    "          f'Test F1: {val_f1}')"
   ],
   "metadata": {
    "collapsed": false,
    "ExecuteTime": {
     "end_time": "2023-11-02T10:21:27.646500Z",
     "start_time": "2023-11-02T10:21:01.132040Z"
    }
   },
   "id": "5d04071033ea9eb"
  },
  {
   "cell_type": "code",
   "execution_count": 22,
   "outputs": [],
   "source": [
    "torch.save(cyclicity_model.state_dict(), 'ckpts/cyclicity.pt')"
   ],
   "metadata": {
    "collapsed": false,
    "ExecuteTime": {
     "end_time": "2023-11-02T10:22:20.887704Z",
     "start_time": "2023-11-02T10:22:20.860160Z"
    }
   },
   "id": "a3e9dfc10e55569f"
  },
  {
   "cell_type": "markdown",
   "source": [
    "# Motif"
   ],
   "metadata": {
    "collapsed": false
   },
   "id": "2364be7c0ee37620"
  },
  {
   "cell_type": "code",
   "execution_count": 9,
   "outputs": [],
   "source": [
    "motif = MotifDataset(seed=12345)\n",
    "motif_train, motif_val = motif.train_test_split(k=10)\n",
    "motif_model = GCNClassifier(node_features=len(motif.NODE_CLS),\n",
    "                            num_classes=len(motif.GRAPH_CLS),\n",
    "                            hidden_channels=64,\n",
    "                            num_layers=3)"
   ],
   "metadata": {
    "collapsed": false,
    "ExecuteTime": {
     "end_time": "2023-11-02T07:43:36.698054Z",
     "start_time": "2023-11-02T07:43:34.214605Z"
    }
   },
   "id": "85a99f52ad4d19a3"
  },
  {
   "cell_type": "code",
   "execution_count": null,
   "outputs": [],
   "source": [
    "for epoch in trange(128):\n",
    "    train_loss = motif_train.fit_model(motif_model, lr=0.001)\n",
    "    train_f1 = motif_train.evaluate_model(motif_model)\n",
    "    val_f1 = motif_val.evaluate_model(motif_model)\n",
    "    print(f'Epoch: {epoch:03d}, '\n",
    "          f'Train Loss: {train_loss:.4f}, '\n",
    "          f'Train F1: {train_f1}, '\n",
    "          f'Test F1: {val_f1}')"
   ],
   "metadata": {
    "collapsed": false
   },
   "id": "77849acc80fe593e"
  },
  {
   "cell_type": "code",
   "execution_count": 22,
   "outputs": [],
   "source": [
    "torch.save(motif_model.state_dict(), 'ckpts/motif.pt')"
   ],
   "metadata": {
    "collapsed": false
   },
   "id": "b2a5adde85f03d0a"
  },
  {
   "cell_type": "markdown",
   "source": [
    "# MUTAG"
   ],
   "metadata": {
    "collapsed": false
   },
   "id": "7fbdf852d5323bb9"
  },
  {
   "cell_type": "code",
   "execution_count": 10,
   "outputs": [],
   "source": [
    "mutag = MUTAGDataset(seed=12345)\n",
    "mutag_train, mutag_val = mutag.train_test_split(k=10)\n",
    "mutag_model = GCNClassifier(node_features=len(mutag.NODE_CLS),\n",
    "                            num_classes=len(mutag.GRAPH_CLS),\n",
    "                            hidden_channels=64,\n",
    "                            num_layers=3)"
   ],
   "metadata": {
    "collapsed": false,
    "ExecuteTime": {
     "end_time": "2023-11-02T07:44:47.270086Z",
     "start_time": "2023-11-02T07:44:47.218075Z"
    }
   },
   "id": "a0688406c7338df1"
  },
  {
   "cell_type": "code",
   "execution_count": null,
   "outputs": [],
   "source": [
    "for epoch in trange(128):\n",
    "    train_loss = mutag_train.fit_model(mutag_model, lr=0.001)\n",
    "    train_f1 = mutag_train.evaluate_model(mutag_model)\n",
    "    val_f1 = mutag_val.evaluate_model(mutag_model)\n",
    "    print(f'Epoch: {epoch:03d}, '\n",
    "          f'Train Loss: {train_loss:.4f}, '\n",
    "          f'Train F1: {train_f1}, '\n",
    "          f'Test F1: {val_f1}')"
   ],
   "metadata": {
    "collapsed": false
   },
   "id": "55ec64e3c68d4b1e"
  },
  {
   "cell_type": "code",
   "execution_count": 22,
   "outputs": [],
   "source": [
    "torch.save(mutag_model.state_dict(), 'ckpts/mutag.pt')"
   ],
   "metadata": {
    "collapsed": false
   },
   "id": "6a5ab4dbfdc5fa6d"
  },
  {
   "cell_type": "markdown",
   "source": [
    "# Shape"
   ],
   "metadata": {
    "collapsed": false
   },
   "id": "c08571a9c4869c96"
  },
  {
   "cell_type": "code",
   "execution_count": 23,
   "outputs": [],
   "source": [
    "shape = ShapeDataset(seed=12345)\n",
    "shape_train, shape_val = shape.train_test_split(k=10)\n",
    "shape_model = GCNClassifier(node_features=len(shape.NODE_CLS),\n",
    "                            num_classes=len(shape.GRAPH_CLS),\n",
    "                            hidden_channels=64,\n",
    "                            num_layers=4)"
   ],
   "metadata": {
    "collapsed": false,
    "ExecuteTime": {
     "end_time": "2023-11-04T07:39:14.531490Z",
     "start_time": "2023-11-04T07:39:11.080084Z"
    }
   },
   "id": "209fa2b252805ab2"
  },
  {
   "cell_type": "code",
   "execution_count": 28,
   "outputs": [
    {
     "data": {
      "text/plain": "  0%|          | 0/8 [00:00<?, ?it/s]",
      "application/vnd.jupyter.widget-view+json": {
       "version_major": 2,
       "version_minor": 0,
       "model_id": "08b8c80a63c6430699d4134d23a11eef"
      }
     },
     "metadata": {},
     "output_type": "display_data"
    },
    {
     "name": "stdout",
     "output_type": "stream",
     "text": [
      "Epoch: 000, Train Loss: 0.0339, Train F1: {'random': 0.9834139347076416, 'lollipop': 0.9876543283462524, 'wheel': 0.9925821423530579, 'grid': 0.9814377427101135, 'star': 1.0}, Test F1: {'random': 0.9722222089767456, 'lollipop': 0.9783281683921814, 'wheel': 0.9916897416114807, 'grid': 0.9693251252174377, 'star': 1.0}\n",
      "Epoch: 001, Train Loss: 0.0340, Train F1: {'random': 0.9810671210289001, 'lollipop': 0.9810040593147278, 'wheel': 0.9902642369270325, 'grid': 0.975304365158081, 'star': 1.0}, Test F1: {'random': 0.9726027250289917, 'lollipop': 0.9726443886756897, 'wheel': 0.9917808175086975, 'grid': 0.9743589758872986, 'star': 1.0}\n",
      "Epoch: 002, Train Loss: 0.0334, Train F1: {'random': 0.97994464635849, 'lollipop': 0.9870041012763977, 'wheel': 0.9906086921691895, 'grid': 0.9790593981742859, 'star': 1.0}, Test F1: {'random': 0.9722222089767456, 'lollipop': 0.9756097793579102, 'wheel': 0.9945054650306702, 'grid': 0.9748427867889404, 'star': 1.0}\n",
      "Epoch: 003, Train Loss: 0.0346, Train F1: {'random': 0.9808695912361145, 'lollipop': 0.984438419342041, 'wheel': 0.9911816716194153, 'grid': 0.9809393882751465, 'star': 1.0}, Test F1: {'random': 0.9722222089767456, 'lollipop': 0.9757575988769531, 'wheel': 0.988950252532959, 'grid': 0.9685534834861755, 'star': 1.0}\n",
      "Epoch: 004, Train Loss: 0.0356, Train F1: {'random': 0.9782983064651489, 'lollipop': 0.9837837815284729, 'wheel': 0.9909533858299255, 'grid': 0.973142683506012, 'star': 1.0}, Test F1: {'random': 0.969072163105011, 'lollipop': 0.9726443886756897, 'wheel': 0.9917808175086975, 'grid': 0.9712460041046143, 'star': 1.0}\n",
      "Epoch: 005, Train Loss: 0.0338, Train F1: {'random': 0.9823468327522278, 'lollipop': 0.985733687877655, 'wheel': 0.9902642369270325, 'grid': 0.98031085729599, 'star': 1.0}, Test F1: {'random': 0.9722222089767456, 'lollipop': 0.9757575988769531, 'wheel': 0.9917808175086975, 'grid': 0.9714285731315613, 'star': 1.0}\n",
      "Epoch: 006, Train Loss: 0.0360, Train F1: {'random': 0.982395589351654, 'lollipop': 0.9833616018295288, 'wheel': 0.9902642369270325, 'grid': 0.9785169959068298, 'star': 1.0}, Test F1: {'random': 0.975944995880127, 'lollipop': 0.9726443886756897, 'wheel': 0.9945054650306702, 'grid': 0.9745222926139832, 'star': 1.0}\n",
      "Epoch: 007, Train Loss: 0.0334, Train F1: {'random': 0.9827228784561157, 'lollipop': 0.9864038228988647, 'wheel': 0.9912983179092407, 'grid': 0.9796200394630432, 'star': 1.0}, Test F1: {'random': 0.9688581228256226, 'lollipop': 0.9696969985961914, 'wheel': 0.9945054650306702, 'grid': 0.9714285731315613, 'star': 1.0}\n"
     ]
    }
   ],
   "source": [
    "for epoch in trange(8):\n",
    "    train_loss = shape_train.fit_model(shape_model, lr=0.0001)\n",
    "    train_f1 = shape_train.evaluate_model(shape_model)\n",
    "    val_f1 = shape_val.evaluate_model(shape_model)\n",
    "    print(f'Epoch: {epoch:03d}, '\n",
    "          f'Train Loss: {train_loss:.4f}, '\n",
    "          f'Train F1: {train_f1}, '\n",
    "          f'Test F1: {val_f1}')"
   ],
   "metadata": {
    "collapsed": false,
    "ExecuteTime": {
     "end_time": "2023-11-04T07:51:23.289774Z",
     "start_time": "2023-11-04T07:50:59.040502Z"
    }
   },
   "id": "1cfd9312b4bdc4d9"
  },
  {
   "cell_type": "code",
   "execution_count": 29,
   "outputs": [],
   "source": [
    "torch.save(shape_model.state_dict(), 'ckpts/shape.pt')"
   ],
   "metadata": {
    "collapsed": false,
    "ExecuteTime": {
     "end_time": "2023-11-04T07:51:28.084338Z",
     "start_time": "2023-11-04T07:51:28.057799Z"
    }
   },
   "id": "326dfb91cb8fba96"
  },
  {
   "cell_type": "code",
   "execution_count": null,
   "outputs": [],
   "source": [],
   "metadata": {
    "collapsed": false
   },
   "id": "75b6d2b5b5eb7a65"
  }
 ],
 "metadata": {
  "kernelspec": {
   "display_name": "Python 3",
   "language": "python",
   "name": "python3"
  },
  "language_info": {
   "codemirror_mode": {
    "name": "ipython",
    "version": 2
   },
   "file_extension": ".py",
   "mimetype": "text/x-python",
   "name": "python",
   "nbconvert_exporter": "python",
   "pygments_lexer": "ipython2",
   "version": "2.7.6"
  }
 },
 "nbformat": 4,
 "nbformat_minor": 5
}
