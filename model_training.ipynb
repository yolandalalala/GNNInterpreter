{
 "cells": [
  {
   "cell_type": "code",
   "execution_count": 1,
   "outputs": [],
   "source": [
    "%load_ext autoreload\n",
    "%autoreload 2"
   ],
   "metadata": {
    "collapsed": false,
    "ExecuteTime": {
     "end_time": "2023-11-01T07:44:10.295499Z",
     "start_time": "2023-11-01T07:44:10.284334Z"
    }
   },
   "id": "8c2caaab483d0a24"
  },
  {
   "cell_type": "code",
   "execution_count": 2,
   "outputs": [],
   "source": [
    "from gnninterpreter import *"
   ],
   "metadata": {
    "collapsed": false,
    "ExecuteTime": {
     "end_time": "2023-11-01T07:44:12.750824Z",
     "start_time": "2023-11-01T07:44:10.295663Z"
    }
   },
   "id": "97e983f9da03809c"
  },
  {
   "cell_type": "code",
   "execution_count": 3,
   "outputs": [],
   "source": [
    "import matplotlib.pyplot as plt\n",
    "import torch\n",
    "from torch import nn"
   ],
   "metadata": {
    "collapsed": false,
    "ExecuteTime": {
     "end_time": "2023-11-01T07:44:16.304316Z",
     "start_time": "2023-11-01T07:44:15.479644Z"
    }
   },
   "id": "8afbbc605bb13730"
  },
  {
   "cell_type": "markdown",
   "source": [
    "# Cyclicity"
   ],
   "metadata": {
    "collapsed": false
   },
   "id": "fb003ff51143b6cf"
  },
  {
   "cell_type": "code",
   "execution_count": 4,
   "outputs": [
    {
     "name": "stderr",
     "output_type": "stream",
     "text": [
      "/opt/homebrew/Caskroom/mambaforge/base/lib/python3.10/site-packages/torch_geometric/deprecation.py:22: UserWarning: 'data.DataLoader' is deprecated, use 'loader.DataLoader' instead\n",
      "  warnings.warn(out)\n"
     ]
    }
   ],
   "source": [
    "cyclicity = CyclicityDataset(seed=12345)\n",
    "cyclicity_train, cyclicity_val = cyclicity.train_test_split(k=10)"
   ],
   "metadata": {
    "collapsed": false
   },
   "id": "f9ca8d33db768581"
  },
  {
   "cell_type": "code",
   "execution_count": 5,
   "outputs": [
    {
     "data": {
      "text/plain": "{'mean_n': 52.76344180335058,\n 'mean_m': 52.51504254012806,\n 'std_n': 25.45414709419518,\n 'std_m': 25.46061875996072}"
     },
     "execution_count": 5,
     "metadata": {},
     "output_type": "execute_result"
    }
   ],
   "source": [
    "dataset.describe()"
   ],
   "metadata": {
    "collapsed": false
   },
   "id": "85a99f52ad4d19a3"
  },
  {
   "cell_type": "code",
   "execution_count": 6,
   "outputs": [
    {
     "name": "stdout",
     "output_type": "stream",
     "text": [
      "data: Data(x=[96, 1], edge_index=[2, 192], edge_attr=[192, 2], y=[1], G=Graph with 96 nodes and 96 edges)\n",
      "class: red_cyclic\n"
     ]
    },
    {
     "data": {
      "text/plain": "<Figure size 600x600 with 1 Axes>",
      "image/png": "[encoded data removed]"
     },
     "metadata": {},
     "output_type": "display_data"
    }
   ],
   "source": [
    "dataset.show(7)"
   ],
   "metadata": {
    "collapsed": false
   },
   "id": "a0688406c7338df1"
  },
  {
   "cell_type": "markdown",
   "source": [
    "# Train Model"
   ],
   "metadata": {
    "collapsed": false
   },
   "id": "ec5d78cb143da802"
  },
  {
   "cell_type": "code",
   "execution_count": 7,
   "outputs": [],
   "source": [
    "model = NNConvClassifier(node_features=len(dataset.NODE_CLS),\n",
    "                         edge_features=len(dataset.EDGE_CLS),\n",
    "                         num_classes=len(dataset.GRAPH_CLS),\n",
    "                         hidden_channels=32)"
   ],
   "metadata": {
    "collapsed": false
   },
   "id": "8d0987c863b3e3f5"
  },
  {
   "cell_type": "code",
   "execution_count": 8,
   "outputs": [
    {
     "data": {
      "text/plain": "<All keys matched successfully>"
     },
     "execution_count": 8,
     "metadata": {},
     "output_type": "execute_result"
    }
   ],
   "source": [
    "model.load_state_dict(torch.load('cyclicity_nnconv.pt'))"
   ],
   "metadata": {
    "collapsed": false
   },
   "id": "e625e8955dd9d074"
  },
  {
   "cell_type": "code",
   "execution_count": 9,
   "outputs": [
    {
     "name": "stderr",
     "output_type": "stream",
     "text": [
      "/opt/homebrew/Caskroom/mambaforge/base/lib/python3.10/site-packages/torch_geometric/deprecation.py:22: UserWarning: 'data.DataLoader' is deprecated, use 'loader.DataLoader' instead\n",
      "  warnings.warn(out)\n"
     ]
    },
    {
     "data": {
      "text/plain": "{'red_cyclic': 0.9628506302833557,\n 'green_cyclic': 0.951839029788971,\n 'acyclic': 0.9590314626693726}"
     },
     "execution_count": 9,
     "metadata": {},
     "output_type": "execute_result"
    }
   ],
   "source": [
    "train_data.evaluate_model(model)"
   ],
   "metadata": {
    "collapsed": false
   },
   "id": "36709c956f06ab89"
  },
  {
   "cell_type": "code",
   "execution_count": 10,
   "outputs": [
    {
     "data": {
      "text/plain": "{'red_cyclic': 0.9702276587486267,\n 'green_cyclic': 0.9493243098258972,\n 'acyclic': 0.9579229950904846}"
     },
     "execution_count": 10,
     "metadata": {},
     "output_type": "execute_result"
    }
   ],
   "source": [
    "val_data.evaluate_model(model)"
   ],
   "metadata": {
    "collapsed": false
   },
   "id": "789450c1d2d1f459"
  },
  {
   "cell_type": "code",
   "execution_count": 15,
   "outputs": [],
   "source": [
    "mean_embeds = train_data.mean_embeddings(model)"
   ],
   "metadata": {
    "collapsed": false
   },
   "id": "a91a5929d9b3b14e"
  },
  {
   "cell_type": "code",
   "execution_count": 16,
   "outputs": [
    {
     "data": {
      "text/plain": "[tensor(1.1189), tensor(1.1823), tensor(1.7719)]"
     },
     "execution_count": 16,
     "metadata": {},
     "output_type": "execute_result"
    }
   ],
   "source": [
    "mean_embeds"
   ],
   "metadata": {
    "collapsed": false
   },
   "id": "71e4430acf69d6a5"
  }
 ],
 "metadata": {
  "kernelspec": {
   "display_name": "Python 3",
   "language": "python",
   "name": "python3"
  },
  "language_info": {
   "codemirror_mode": {
    "name": "ipython",
    "version": 2
   },
   "file_extension": ".py",
   "mimetype": "text/x-python",
   "name": "python",
   "nbconvert_exporter": "python",
   "pygments_lexer": "ipython2",
   "version": "2.7.6"
  }
 },
 "nbformat": 4,
 "nbformat_minor": 5
}
